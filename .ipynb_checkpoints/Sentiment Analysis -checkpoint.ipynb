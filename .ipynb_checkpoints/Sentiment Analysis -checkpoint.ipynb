{
 "cells": [
  {
   "cell_type": "markdown",
   "id": "9c73eb15",
   "metadata": {
    "id": "9c73eb15"
   },
   "source": [
    "# Project - Airline Sentiment Analysis\n",
    "---------------------------------------------------------------------------------------------\n",
    "-----------------------------------------------------------------------------------------------"
   ]
  },
  {
   "cell_type": "markdown",
   "id": "6354f460",
   "metadata": {
    "id": "6354f460"
   },
   "source": [
    "# Importing Libraries"
   ]
  },
  {
   "cell_type": "code",
<<<<<<< HEAD
   "execution_count": 1,
=======
   "execution_count": 22,
>>>>>>> e5dd505e0b5115757b340e423bd6582f46fd88d4
   "id": "913bb442",
   "metadata": {
    "executionInfo": {
     "elapsed": 446,
     "status": "ok",
     "timestamp": 1652555999728,
     "user": {
      "displayName": "Abdelrahman Mohamed",
      "userId": "04684924364925318690"
     },
     "user_tz": -120
    },
    "id": "913bb442"
   },
   "outputs": [],
   "source": [
    "import pandas as pd\n",
    "import numpy as np\n",
    "import matplotlib.pyplot as plt\n",
    "import seaborn as sns\n",
    "import nltk\n",
    "from nltk.tokenize import sent_tokenize, word_tokenize\n",
    "from nltk.corpus import stopwords,wordnet\n",
    "import string\n",
    "from nltk import pos_tag\n",
    "from nltk.stem import WordNetLemmatizer\n",
    "from sklearn.model_selection import train_test_split\n",
    "from sklearn import preprocessing \n",
    "from sklearn.metrics import accuracy_score,confusion_matrix\n",
    "from sklearn.neighbors import KNeighborsClassifier\n",
    "from sklearn.naive_bayes import BernoulliNB,MultinomialNB\n",
    "from sklearn.linear_model import LogisticRegression\n",
    "from sklearn.svm import SVC\n",
    "from sklearn.ensemble import RandomForestClassifier,VotingClassifier,GradientBoostingClassifier\n",
    "import warnings\n",
    "warnings.filterwarnings(\"ignore\")"
   ]
  },
  {
   "cell_type": "markdown",
   "id": "7402711d",
   "metadata": {
    "id": "7402711d"
   },
   "source": [
    "# Dataset: Airline sentiment\n",
    "\n",
    "A dataset for US airlines comments analysis,Tweets analysis on Kaggle (<a href=\"https://www.kaggle.com/datasets/welkin10/airline-sentiment\">See dataset page</a>)\n",
    "\n",
    "### About Dataset\n",
    "#### Context:\n",
    "    - This is US airlines data which contain comments of passengers on basis of service provided by airlines.\n",
    "--------------------------------------------------------------------------------\n",
    "#### Inspiration:\n",
    "    -you can use it for sentiment analysis .\n",
    "---------------------------------------------------------------------------------"
   ]
  },
  {
   "cell_type": "markdown",
   "id": "499bcf44",
   "metadata": {
    "id": "499bcf44"
   },
   "source": [
    "# Importing Dataset"
   ]
  },
  {
   "cell_type": "code",
   "execution_count": 23,
   "id": "7134983b",
   "metadata": {
    "colab": {
     "base_uri": "https://localhost:8080/",
     "height": 496
    },
    "executionInfo": {
     "elapsed": 1866,
     "status": "ok",
     "timestamp": 1652554378988,
     "user": {
      "displayName": "Abdelrahman Mohamed",
      "userId": "04684924364925318690"
     },
     "user_tz": -120
    },
    "id": "7134983b",
    "outputId": "3ef69faf-8b58-4de1-d669-78166bb90fc5"
   },
   "outputs": [
    {
     "data": {
      "text/html": [
       "<div>\n",
       "<style scoped>\n",
       "    .dataframe tbody tr th:only-of-type {\n",
       "        vertical-align: middle;\n",
       "    }\n",
       "\n",
       "    .dataframe tbody tr th {\n",
       "        vertical-align: top;\n",
       "    }\n",
       "\n",
       "    .dataframe thead th {\n",
       "        text-align: right;\n",
       "    }\n",
       "</style>\n",
       "<table border=\"1\" class=\"dataframe\">\n",
       "  <thead>\n",
       "    <tr style=\"text-align: right;\">\n",
       "      <th></th>\n",
       "      <th>tweet_id</th>\n",
       "      <th>airline_sentiment</th>\n",
       "      <th>airline_sentiment_confidence</th>\n",
       "      <th>negativereason</th>\n",
       "      <th>negativereason_confidence</th>\n",
       "      <th>airline</th>\n",
       "      <th>airline_sentiment_gold</th>\n",
       "      <th>name</th>\n",
       "      <th>negativereason_gold</th>\n",
       "      <th>retweet_count</th>\n",
       "      <th>text</th>\n",
       "      <th>tweet_coord</th>\n",
       "      <th>tweet_created</th>\n",
       "      <th>tweet_location</th>\n",
       "      <th>user_timezone</th>\n",
       "    </tr>\n",
       "  </thead>\n",
       "  <tbody>\n",
       "    <tr>\n",
       "      <th>0</th>\n",
       "      <td>570306133677760513</td>\n",
       "      <td>neutral</td>\n",
       "      <td>1.0000</td>\n",
       "      <td>NaN</td>\n",
       "      <td>NaN</td>\n",
       "      <td>Virgin America</td>\n",
       "      <td>NaN</td>\n",
       "      <td>cairdin</td>\n",
       "      <td>NaN</td>\n",
       "      <td>0</td>\n",
       "      <td>@VirginAmerica What @dhepburn said.</td>\n",
       "      <td>NaN</td>\n",
       "      <td>2015-02-24 11:35:52 -0800</td>\n",
       "      <td>NaN</td>\n",
       "      <td>Eastern Time (US &amp; Canada)</td>\n",
       "    </tr>\n",
       "    <tr>\n",
       "      <th>1</th>\n",
       "      <td>570301130888122368</td>\n",
       "      <td>positive</td>\n",
       "      <td>0.3486</td>\n",
       "      <td>NaN</td>\n",
       "      <td>0.0000</td>\n",
       "      <td>Virgin America</td>\n",
       "      <td>NaN</td>\n",
       "      <td>jnardino</td>\n",
       "      <td>NaN</td>\n",
       "      <td>0</td>\n",
       "      <td>@VirginAmerica plus you've added commercials t...</td>\n",
       "      <td>NaN</td>\n",
       "      <td>2015-02-24 11:15:59 -0800</td>\n",
       "      <td>NaN</td>\n",
       "      <td>Pacific Time (US &amp; Canada)</td>\n",
       "    </tr>\n",
       "    <tr>\n",
       "      <th>2</th>\n",
       "      <td>570301083672813571</td>\n",
       "      <td>neutral</td>\n",
       "      <td>0.6837</td>\n",
       "      <td>NaN</td>\n",
       "      <td>NaN</td>\n",
       "      <td>Virgin America</td>\n",
       "      <td>NaN</td>\n",
       "      <td>yvonnalynn</td>\n",
       "      <td>NaN</td>\n",
       "      <td>0</td>\n",
       "      <td>@VirginAmerica I didn't today... Must mean I n...</td>\n",
       "      <td>NaN</td>\n",
       "      <td>2015-02-24 11:15:48 -0800</td>\n",
       "      <td>Lets Play</td>\n",
       "      <td>Central Time (US &amp; Canada)</td>\n",
       "    </tr>\n",
       "    <tr>\n",
       "      <th>3</th>\n",
       "      <td>570301031407624196</td>\n",
       "      <td>negative</td>\n",
       "      <td>1.0000</td>\n",
       "      <td>Bad Flight</td>\n",
       "      <td>0.7033</td>\n",
       "      <td>Virgin America</td>\n",
       "      <td>NaN</td>\n",
       "      <td>jnardino</td>\n",
       "      <td>NaN</td>\n",
       "      <td>0</td>\n",
       "      <td>@VirginAmerica it's really aggressive to blast...</td>\n",
       "      <td>NaN</td>\n",
       "      <td>2015-02-24 11:15:36 -0800</td>\n",
       "      <td>NaN</td>\n",
       "      <td>Pacific Time (US &amp; Canada)</td>\n",
       "    </tr>\n",
       "    <tr>\n",
       "      <th>4</th>\n",
       "      <td>570300817074462722</td>\n",
       "      <td>negative</td>\n",
       "      <td>1.0000</td>\n",
       "      <td>Can't Tell</td>\n",
       "      <td>1.0000</td>\n",
       "      <td>Virgin America</td>\n",
       "      <td>NaN</td>\n",
       "      <td>jnardino</td>\n",
       "      <td>NaN</td>\n",
       "      <td>0</td>\n",
       "      <td>@VirginAmerica and it's a really big bad thing...</td>\n",
       "      <td>NaN</td>\n",
       "      <td>2015-02-24 11:14:45 -0800</td>\n",
       "      <td>NaN</td>\n",
       "      <td>Pacific Time (US &amp; Canada)</td>\n",
       "    </tr>\n",
       "  </tbody>\n",
       "</table>\n",
       "</div>"
      ],
      "text/plain": [
       "             tweet_id airline_sentiment  airline_sentiment_confidence  \\\n",
       "0  570306133677760513           neutral                        1.0000   \n",
       "1  570301130888122368          positive                        0.3486   \n",
       "2  570301083672813571           neutral                        0.6837   \n",
       "3  570301031407624196          negative                        1.0000   \n",
       "4  570300817074462722          negative                        1.0000   \n",
       "\n",
       "  negativereason  negativereason_confidence         airline  \\\n",
       "0            NaN                        NaN  Virgin America   \n",
       "1            NaN                     0.0000  Virgin America   \n",
       "2            NaN                        NaN  Virgin America   \n",
       "3     Bad Flight                     0.7033  Virgin America   \n",
       "4     Can't Tell                     1.0000  Virgin America   \n",
       "\n",
       "  airline_sentiment_gold        name negativereason_gold  retweet_count  \\\n",
       "0                    NaN     cairdin                 NaN              0   \n",
       "1                    NaN    jnardino                 NaN              0   \n",
       "2                    NaN  yvonnalynn                 NaN              0   \n",
       "3                    NaN    jnardino                 NaN              0   \n",
       "4                    NaN    jnardino                 NaN              0   \n",
       "\n",
       "                                                text tweet_coord  \\\n",
       "0                @VirginAmerica What @dhepburn said.         NaN   \n",
       "1  @VirginAmerica plus you've added commercials t...         NaN   \n",
       "2  @VirginAmerica I didn't today... Must mean I n...         NaN   \n",
       "3  @VirginAmerica it's really aggressive to blast...         NaN   \n",
       "4  @VirginAmerica and it's a really big bad thing...         NaN   \n",
       "\n",
       "               tweet_created tweet_location               user_timezone  \n",
       "0  2015-02-24 11:35:52 -0800            NaN  Eastern Time (US & Canada)  \n",
       "1  2015-02-24 11:15:59 -0800            NaN  Pacific Time (US & Canada)  \n",
       "2  2015-02-24 11:15:48 -0800      Lets Play  Central Time (US & Canada)  \n",
       "3  2015-02-24 11:15:36 -0800            NaN  Pacific Time (US & Canada)  \n",
       "4  2015-02-24 11:14:45 -0800            NaN  Pacific Time (US & Canada)  "
      ]
     },
     "execution_count": 23,
     "metadata": {},
     "output_type": "execute_result"
    }
   ],
   "source": [
    "dataset=pd.read_csv('Dataset/airline data.csv')\n",
    "dataset.head()"
   ]
  },
  {
   "cell_type": "code",
   "execution_count": 24,
   "id": "17dbe918",
   "metadata": {},
   "outputs": [
    {
     "data": {
      "text/plain": [
       "(14640, 15)"
      ]
     },
     "execution_count": 24,
     "metadata": {},
     "output_type": "execute_result"
    }
   ],
   "source": [
    "dataset.shape"
   ]
  },
  {
   "cell_type": "code",
   "execution_count": 25,
   "id": "50c3728a",
   "metadata": {
    "colab": {
     "base_uri": "https://localhost:8080/"
    },
    "executionInfo": {
     "elapsed": 3,
     "status": "ok",
     "timestamp": 1652554381837,
     "user": {
      "displayName": "Abdelrahman Mohamed",
      "userId": "04684924364925318690"
     },
     "user_tz": -120
    },
    "id": "50c3728a",
    "outputId": "da976b5d-4da7-40d7-f77e-0d48b8c5b0ca"
   },
   "outputs": [
    {
     "name": "stdout",
     "output_type": "stream",
     "text": [
      "15\n"
     ]
    },
    {
     "data": {
      "text/plain": [
       "Index(['tweet_id', 'airline_sentiment', 'airline_sentiment_confidence',\n",
       "       'negativereason', 'negativereason_confidence', 'airline',\n",
       "       'airline_sentiment_gold', 'name', 'negativereason_gold',\n",
       "       'retweet_count', 'text', 'tweet_coord', 'tweet_created',\n",
       "       'tweet_location', 'user_timezone'],\n",
       "      dtype='object')"
      ]
     },
     "execution_count": 25,
     "metadata": {},
     "output_type": "execute_result"
    }
   ],
   "source": [
    "print(len(dataset.columns))\n",
    "dataset.columns"
   ]
  },
  {
   "cell_type": "code",
   "execution_count": 26,
   "id": "9f2ffbac",
   "metadata": {},
   "outputs": [
    {
     "data": {
      "text/plain": [
       "array(['neutral', 'positive', 'negative'], dtype=object)"
      ]
     },
     "execution_count": 26,
     "metadata": {},
     "output_type": "execute_result"
    }
   ],
   "source": [
    "dataset['airline_sentiment'].unique()"
   ]
  },
  {
   "cell_type": "code",
   "execution_count": 27,
   "id": "98f7f956",
   "metadata": {},
   "outputs": [
    {
     "data": {
      "text/plain": [
       "tweet_id                          int64\n",
       "airline_sentiment                object\n",
       "airline_sentiment_confidence    float64\n",
       "negativereason                   object\n",
       "negativereason_confidence       float64\n",
       "airline                          object\n",
       "airline_sentiment_gold           object\n",
       "name                             object\n",
       "negativereason_gold              object\n",
       "retweet_count                     int64\n",
       "text                             object\n",
       "tweet_coord                      object\n",
       "tweet_created                    object\n",
       "tweet_location                   object\n",
       "user_timezone                    object\n",
       "dtype: object"
      ]
     },
     "execution_count": 27,
     "metadata": {},
     "output_type": "execute_result"
    }
   ],
   "source": [
    "dataset.dtypes"
   ]
  },
  {
   "cell_type": "code",
   "execution_count": 28,
   "id": "4e37425d",
   "metadata": {},
   "outputs": [
    {
     "data": {
      "text/html": [
       "<div>\n",
       "<style scoped>\n",
       "    .dataframe tbody tr th:only-of-type {\n",
       "        vertical-align: middle;\n",
       "    }\n",
       "\n",
       "    .dataframe tbody tr th {\n",
       "        vertical-align: top;\n",
       "    }\n",
       "\n",
       "    .dataframe thead th {\n",
       "        text-align: right;\n",
       "    }\n",
       "</style>\n",
       "<table border=\"1\" class=\"dataframe\">\n",
       "  <thead>\n",
       "    <tr style=\"text-align: right;\">\n",
       "      <th></th>\n",
       "      <th>tweet_id</th>\n",
       "      <th>airline_sentiment_confidence</th>\n",
       "      <th>negativereason_confidence</th>\n",
       "      <th>retweet_count</th>\n",
       "    </tr>\n",
       "  </thead>\n",
       "  <tbody>\n",
       "    <tr>\n",
       "      <th>count</th>\n",
       "      <td>1.464000e+04</td>\n",
       "      <td>14640.000000</td>\n",
       "      <td>10522.000000</td>\n",
       "      <td>14640.000000</td>\n",
       "    </tr>\n",
       "    <tr>\n",
       "      <th>mean</th>\n",
       "      <td>5.692184e+17</td>\n",
       "      <td>0.900169</td>\n",
       "      <td>0.638298</td>\n",
       "      <td>0.082650</td>\n",
       "    </tr>\n",
       "    <tr>\n",
       "      <th>std</th>\n",
       "      <td>7.791112e+14</td>\n",
       "      <td>0.162830</td>\n",
       "      <td>0.330440</td>\n",
       "      <td>0.745778</td>\n",
       "    </tr>\n",
       "    <tr>\n",
       "      <th>min</th>\n",
       "      <td>5.675883e+17</td>\n",
       "      <td>0.335000</td>\n",
       "      <td>0.000000</td>\n",
       "      <td>0.000000</td>\n",
       "    </tr>\n",
       "    <tr>\n",
       "      <th>25%</th>\n",
       "      <td>5.685592e+17</td>\n",
       "      <td>0.692300</td>\n",
       "      <td>0.360600</td>\n",
       "      <td>0.000000</td>\n",
       "    </tr>\n",
       "    <tr>\n",
       "      <th>50%</th>\n",
       "      <td>5.694779e+17</td>\n",
       "      <td>1.000000</td>\n",
       "      <td>0.670600</td>\n",
       "      <td>0.000000</td>\n",
       "    </tr>\n",
       "    <tr>\n",
       "      <th>75%</th>\n",
       "      <td>5.698905e+17</td>\n",
       "      <td>1.000000</td>\n",
       "      <td>1.000000</td>\n",
       "      <td>0.000000</td>\n",
       "    </tr>\n",
       "    <tr>\n",
       "      <th>max</th>\n",
       "      <td>5.703106e+17</td>\n",
       "      <td>1.000000</td>\n",
       "      <td>1.000000</td>\n",
       "      <td>44.000000</td>\n",
       "    </tr>\n",
       "  </tbody>\n",
       "</table>\n",
       "</div>"
      ],
      "text/plain": [
       "           tweet_id  airline_sentiment_confidence  negativereason_confidence  \\\n",
       "count  1.464000e+04                  14640.000000               10522.000000   \n",
       "mean   5.692184e+17                      0.900169                   0.638298   \n",
       "std    7.791112e+14                      0.162830                   0.330440   \n",
       "min    5.675883e+17                      0.335000                   0.000000   \n",
       "25%    5.685592e+17                      0.692300                   0.360600   \n",
       "50%    5.694779e+17                      1.000000                   0.670600   \n",
       "75%    5.698905e+17                      1.000000                   1.000000   \n",
       "max    5.703106e+17                      1.000000                   1.000000   \n",
       "\n",
       "       retweet_count  \n",
       "count   14640.000000  \n",
       "mean        0.082650  \n",
       "std         0.745778  \n",
       "min         0.000000  \n",
       "25%         0.000000  \n",
       "50%         0.000000  \n",
       "75%         0.000000  \n",
       "max        44.000000  "
      ]
     },
     "execution_count": 28,
     "metadata": {},
     "output_type": "execute_result"
    }
   ],
   "source": [
    "dataset.describe()"
   ]
  },
  {
   "cell_type": "markdown",
   "id": "c5d43757",
   "metadata": {},
   "source": [
    "# check missing value "
   ]
  },
  {
   "cell_type": "code",
   "execution_count": 29,
   "id": "e1d56da8",
   "metadata": {},
   "outputs": [
    {
     "name": "stdout",
     "output_type": "stream",
     "text": [
      "<class 'pandas.core.frame.DataFrame'>\n",
      "RangeIndex: 14640 entries, 0 to 14639\n",
      "Data columns (total 15 columns):\n",
      " #   Column                        Non-Null Count  Dtype  \n",
      "---  ------                        --------------  -----  \n",
      " 0   tweet_id                      14640 non-null  int64  \n",
      " 1   airline_sentiment             14640 non-null  object \n",
      " 2   airline_sentiment_confidence  14640 non-null  float64\n",
      " 3   negativereason                9178 non-null   object \n",
      " 4   negativereason_confidence     10522 non-null  float64\n",
      " 5   airline                       14640 non-null  object \n",
      " 6   airline_sentiment_gold        40 non-null     object \n",
      " 7   name                          14640 non-null  object \n",
      " 8   negativereason_gold           32 non-null     object \n",
      " 9   retweet_count                 14640 non-null  int64  \n",
      " 10  text                          14640 non-null  object \n",
      " 11  tweet_coord                   1019 non-null   object \n",
      " 12  tweet_created                 14640 non-null  object \n",
      " 13  tweet_location                9907 non-null   object \n",
      " 14  user_timezone                 9820 non-null   object \n",
      "dtypes: float64(2), int64(2), object(11)\n",
      "memory usage: 1.7+ MB\n"
     ]
    }
   ],
   "source": [
    "dataset.info()"
   ]
  },
  {
   "cell_type": "code",
   "execution_count": 30,
   "id": "ff86200b",
   "metadata": {},
   "outputs": [
    {
     "data": {
      "image/png": "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\n",
      "text/plain": [
       "<Figure size 640x480 with 1 Axes>"
      ]
     },
     "metadata": {},
     "output_type": "display_data"
    }
   ],
   "source": [
    "plt.style.use('classic')\n",
    "dataset.isnull().sum(axis=0).plot.bar()\n",
    "plt.show()"
   ]
  },
  {
   "cell_type": "markdown",
   "id": "dbf2a545",
   "metadata": {},
   "source": [
    "# Graphical representation of airline sentiment :-"
   ]
  },
  {
   "cell_type": "code",
   "execution_count": 31,
   "id": "fe069b7c",
   "metadata": {},
   "outputs": [
    {
     "data": {
      "text/plain": [
       "negative    9178\n",
       "neutral     3099\n",
       "positive    2363\n",
       "Name: airline_sentiment, dtype: int64"
      ]
     },
     "execution_count": 31,
     "metadata": {},
     "output_type": "execute_result"
    }
   ],
   "source": [
    "dataset['airline_sentiment'].value_counts()"
   ]
  },
  {
   "cell_type": "code",
   "execution_count": 32,
   "id": "ababb3c2",
   "metadata": {},
   "outputs": [
    {
     "data": {
      "image/png": "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\n",
      "text/plain": [
       "<Figure size 640x480 with 1 Axes>"
      ]
     },
     "metadata": {},
     "output_type": "display_data"
    }
   ],
   "source": [
    "sns.countplot(x='airline_sentiment',data=dataset,order=['neutral','positive','negative'])\n",
    "plt.show()"
   ]
  },
  {
   "cell_type": "markdown",
   "id": "606b16ec",
   "metadata": {},
   "source": [
    "# Graphical representation of airline sentiment with airlines:-"
   ]
  },
  {
   "cell_type": "code",
   "execution_count": 33,
   "id": "284ee02a",
   "metadata": {},
   "outputs": [
    {
     "data": {
      "text/plain": [
       "United            3822\n",
       "US Airways        2913\n",
       "American          2759\n",
       "Southwest         2420\n",
       "Delta             2222\n",
       "Virgin America     504\n",
       "Name: airline, dtype: int64"
      ]
     },
     "execution_count": 33,
     "metadata": {},
     "output_type": "execute_result"
    }
   ],
   "source": [
    "dataset['airline'].value_counts()"
   ]
  },
  {
   "cell_type": "code",
   "execution_count": 34,
   "id": "bf7ea199",
   "metadata": {},
   "outputs": [
    {
     "data": {
      "image/png": "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\n",
      "text/plain": [
       "<Figure size 1440x1600 with 6 Axes>"
      ]
     },
     "metadata": {},
     "output_type": "display_data"
    }
   ],
   "source": [
    "sns.factorplot(x = 'airline_sentiment',data=dataset,\n",
    "               order = ['neutral','positive','negative'],kind = 'count',col_wrap=3,col='airline',size=10,aspect=0.6,sharex=False,sharey=False)\n",
    "plt.show()"
   ]
  },
  {
   "cell_type": "markdown",
   "id": "644e522e",
   "metadata": {},
   "source": [
    "# Graphical representation of negativereason towards airlines:-"
   ]
  },
  {
   "cell_type": "code",
   "execution_count": 35,
   "id": "bef14265",
   "metadata": {},
   "outputs": [
    {
     "data": {
      "text/plain": [
       "Customer Service Issue         2910\n",
       "Late Flight                    1665\n",
       "Can't Tell                     1190\n",
       "Cancelled Flight                847\n",
       "Lost Luggage                    724\n",
       "Bad Flight                      580\n",
       "Flight Booking Problems         529\n",
       "Flight Attendant Complaints     481\n",
       "longlines                       178\n",
       "Damaged Luggage                  74\n",
       "Name: negativereason, dtype: int64"
      ]
     },
     "execution_count": 35,
     "metadata": {},
     "output_type": "execute_result"
    }
   ],
   "source": [
    "dataset['negativereason'].value_counts()"
   ]
  },
  {
   "cell_type": "code",
   "execution_count": 36,
   "id": "bf94b9bf",
   "metadata": {},
   "outputs": [
    {
     "data": {
      "image/png": "iVBORw0KGgoAAAANSUhEUgAABF4AAAOzCAYAAACBOcItAAAAOXRFWHRTb2Z0d2FyZQBNYXRwbG90bGliIHZlcnNpb24zLjUuMSwgaHR0cHM6Ly9tYXRwbG90bGliLm9yZy/YYfK9AAAACXBIWXMAAAxOAAAMTgF/d4wjAADQcElEQVR4nOzdeXRN9/7/8VdGzSCThAhBiFBFkIrplkZNVdoqbUPMtKZr6JUq2qqxmtKYNUoRcU1V3E5US1QHQ+teUUOrQSuGiJJBDImck98ffjnfHgkSsgV9PtaylvPZn733e++Ta928+hls4uPjcwUAAAAAAIBiZ1vSBQAAAAAAADyoCF4AAAAAAAAMQvACAAAAAABgEIIXAAAAAAAAgxC8AAAAAAAAGITgBQAAAAAAwCAELwAAAAAAAAYheAEAAAAAADCIfUndODMzUwsXLtQPP/ygzMxM1a9fX6+88op8fHwkSUlJSYqOjtbBgwfl6empnj17qn379lbXWLFihdatW6fMzEyFhIRo5MiR8vLyKonHAQAAAAAAyKfERrxMmzZNv/zyiyZOnKiYmBg5OjpqzJgxMplMysnJ0ZgxY+Tu7q6YmBj16NFD0dHR2rNnj+X8jRs3Ki4uTsOGDdPcuXN18eJFTZgwoaQeBwAAAAAAIJ8SGfGSlZWl7777Tu+9954efvhhSdKoUaPUoUMH7dmzR1evXlVKSoo++OADOTs7KyAgQAkJCVq/fr1CQkIkSevXr1fnzp3VvHlzy/kRERFKTExUYGBgSTwWAAAAAACAlRIZ8ZKTkyOz2axSpUpZ2hwcHGRra6sDBw7ol19+Uc2aNeXs7Gw53qBBAx06dEiSlJ2drSNHjqh+/fqW435+fvL19dXBgwfv3oMAAAAAAADcRIkELy4uLqpZs6ZiY2OVnp6u7OxsLVy4UCaTSefPn1dqaqo8PDyszvHw8FBaWpokKSMjQ2azWZ6enjfsAwAAAAAAUNJKbI2XsWPHKj09XZ06ddKTTz6ps2fPqnr16rK1vXVJubm5Rb5fbm6u5Q8AAAAAAMDdUGK7Gvn7++v9999XZmamTCaT3N3d1blzZ/n6+urSpUs6fvy4Vf+0tDTLKBh3d3fZ2toqNTX1hn0KsmPHDh04cMDyuUmTJmrSpIkkqWLFinJ0dMx3TnZ2tk6cOFHg9Tw9PfONuslz4sQJZWdn52t3dHRUxYoVCzwnNTU13zPludP6tmzZoieeeOKere961Fe89R0/flyVKlW6Z+vLQ33G1LdlyxY1aNDgnq1Purff3/1e37Fjx6z+/b/X6rvX39/9XN8PP/ygSpUq3bP13evv736v7/r/73ev1VeQO6lvx44d2rFjh6U9ODhYoaGhBZ4DAHebTXx8/D0xBGTfvn0aPny4lixZopMnT2rixInasGGDnJycJElTp07VxYsXNXnyZEnSyy+/rEaNGqlfv36SpNOnT6tbt25auHBhgYvr5ubmymw2Kzg4WHZ2dnfvwe4Rr7/+uqZMmVLSZaCE8P3/vfH9/73x/f998d3/vf3dv/+EhISSLgEALEpsxMvOnTvl4OCg8uXL67ffftOsWbP0zDPPqEqVKqpQoYK8vb0VFRWlXr166dChQ9q6daveeecdy/nPPvus5s6dq6CgIJUvX17z589X3bp12dEIAAAAAADcM0oseMnIyNDixYt17tw5lSlTRp06dVK3bt0kXdvhaOrUqYqOjtaAAQPk5eWlESNGWLaSlqT27dsrNTVVM2fOVGZmpkJCQhQZGVlSjwMAAAAAAJBPiQUvbdq0UZs2bW54vFKlSpo5c+ZNrxEREaGIiIhiruzB1LJly5IuASWI7//vje//743v/++L7/7vje8fAO4d98waL0b7u6/xAgAAAPxdsMYLgHtJiW0nDQAAAAAA8KAjeAEAAAAAADAIwQsAAAAAAIBBCF4AAAAAAAAMQvACAAAAAABgEIIXAAAAAAAAgxC8AAAAAAAAGITgBQAAAAAAwCAELwAAAAAAAAYheAEAAAAAADAIwQsAAAAAAIBBCF4AAAAAAAAMQvACAAAAAABgEIIXAAAAAAAAgxC8AAAAAAAAGITgBQAAAAAAwCAELwAAAAAAAAYheAEAAAAAADAIwQsAAAAAAIBBCF4AAAAAAAAMQvACAAAAAABgEIIXAAAAAAAAgxC8AAAAAAAAGITgBQAAAAAAwCAELwAAAAAAAAYheAEAAAAAADAIwQsAAAAAAIBBCF4AAAAAAAAMQvACAAAAAABgEIIXAAAAAAAAgxC8AAAAAAAAGITgBQAAAAAAwCAELwAAAAAAAAYheAEAAAAAADAIwQsAAAAAAIBBCF4AAAAAAAAMQvACAAAAAABgEIIXAAAAAAAAgxC8AAAAAAAAGITgBQAAAAAAwCAELwAAAAAAAAYheAEAAAAAADAIwQsAAAAAAIBBCF4AAAAAAAAMQvACAAAAAABgEIIXAAAAAAAAgxC8AAAAAAAAGITgBQAAAAAAwCAELwAAAAAAAAYheAEAAAAAADAIwQsAAAAAAIBBCF4AAAAAAAAMQvACAAAAAABgEIIXAAAAAAAAgxC8AAAAAAAAGITgBQAAAAAAwCAELwAAAAAAAAYheAEAAAAAADAIwQsAAAAAAIBBCF4AAAAAAAAMQvACAAAAAABgEIIXAAAAAAAAgxC8AAAAAAAAGITgBQAAAAAAwCAELwAAAAAAAAYheAEAAAAAADAIwQsAAAAAAIBBCF4AAAAAAAAMQvACAAAAAABgEIIXAAAAAAAAgxC8AAAAAAAAGITgBQAAAAAAwCAELwAAAAAAAAYheAEAAAAAADAIwQsAAAAAAIBBCF4AAAAAAAAMQvACAAAAAABgEIIXAAAAAAAAgxC8AAAAAAAAGITgBQAAAAAAwCAELwAAAAAAAAaxL+kCAAAAIJ1NS1bqhT9v2c+ztLd8PHzvQkUAAKA4ELwAAADcA1Iv/Knxiwbfst/4/vMJXgAAuI8w1QgAAAAAAMAgBC8AAAAAAAAGIXgBAAAAAAAwSImt8ZKZman58+dr586dunz5sqpVq6aXXnpJwcHBkqSkpCRFR0fr4MGD8vT0VM+ePdW+fXura6xYsULr1q1TZmamQkJCNHLkSHl5eZXE4wAAAAAAAORTYiNe5s2bp19//VWTJ0/WokWLVLNmTY0dO1YXLlxQTk6OxowZI3d3d8XExKhHjx6Kjo7Wnj17LOdv3LhRcXFxGjZsmObOnauLFy9qwoQJJfU4AAAAAAAA+ZRY8HLo0CE9+eSTqlWrlipUqKC+ffvq0qVLSkpK0q5du5SSkqJRo0YpICBATz31lFq2bKn169dbzl+/fr06d+6s5s2bKzAwUKNGjdK+ffuUmJhYUo8EAAAAAABgpcSCl0ceeUTff/+90tPTZTKZ9MUXX8jb21sBAQH65ZdfVLNmTTk7O1v6N2jQQIcOHZIkZWdn68iRI6pfv77luJ+fn3x9fXXw4MG7/iwAAAAAAAAFKbE1XoYNG6apU6fq2Wefla2trdzd3fXuu+/KyclJqamp8vDwsOrv4eGhtLQ0SVJGRobMZrM8PT1v2AcAAAAAAKCkldiIl48//lgnTpzQ9OnTFRMToyeeeEKvv/660tPTb3lubm7uXagQAAAAAADgzpTIiJesrCwtWbJE06dPt+xiVL16de3cuVNbtmyRp6enjh8/bnVOWlqaZRSMu7u7bG1tlZqaesM+Bdm1a5cWL15s+dykSRM1adJEklSxYkU5OjrmOyc7O1snTpwo8Hqenp75Rt3kOXHihLKzs/O1Ozo6qmLFigWek5qamu+Z8lAf9VEf9VEf9VHfg13fjfiXqS7/MtUtny+cv6yjV4/e9fru9fdHfX/v+nbs2KEdO3ZY2oODgxUaGlrgOQBwt9nEx8ff9eEjFy9eVIcOHTR79mzVqVPH0t6zZ089/fTTKl++vCZOnKgNGzbIyclJkjR16lRdvHhRkydPliS9/PLLatSokfr16ydJOn36tLp166aFCxcqMDAw3z1zc3NlNpsVHBwsOzu7u/CUAAAAhXc4ab/GLxp8y37j+89XkH/tu1ARcP9KSEgo6RIAwKJEphq5uLiodu3amj9/vg4ePKiTJ0/qww8/VHJysho2bKjQ0FB5e3srKipKx44d0xdffKGtW7eqU6dOlms8++yz+vjjj/Xtt98qMTFR06ZNU926dQsMXQAAAAAAAEpCiS2uO27cOMXExOiNN97Q5cuXVblyZU2cOFGVK1eWdG2ES3R0tAYMGCAvLy+NGDFCISEhlvPbt2+v1NRUzZw5U5mZmQoJCVFkZGRJPQ4AAAAAAEA+JTLVqCQw1QgAANzLmGoEFB+mGgG4l5TYrkYAAAAAAAAPOoIXAAAAAAAAgxC8AAAAAAAAGITgBQAAAAAAwCAELwAAAAAAAAYheAEAAAAAADAIwQsAAAAAAIBBCF4AAAAAAAAMQvACAAAAAABgEIIXAAAAAAAAgxC8AAAAAAAAGITgBQAAAAAAwCAELwAAAAAAAAYheAEAAAAAADAIwQsAAAAAAIBBCF4AAAAAAAAMQvACAAAAAABgEIIXAAAAAAAAgxC8AAAAAAAAGITgBQAAAAAAwCAELwAAAAAAAAYheAEAAAAAADAIwQsAAAAAAIBBCF4AAAAAAAAMQvACAAAAAABgEIIXAAAAAAAAgxC8AAAAAAAAGMS+pAsAAAAA/u7OpiUr9cKft+znWdpbPh6+d6EiAEBxIXgBAAAASljqhT81ftHgW/Yb338+wQsA3GeYagQAAAAAAGAQghcAAAAAAACDELwAAAAAAAAYhOAFAAAAAADAIAQvAAAAAAAABiF4AQAAAAAAMAjBCwAAAAAAgEEIXgAAAAAAAAxC8AIAAAAAAGAQghcAAAAAAACDELwAAAAAAAAYhOAFAAAAAADAIAQvAAAAAAAABiF4AQAAAAAAMAjBCwAAAAAAgEEIXgAAAAAAAAxC8AIAAAAAAGAQghcAAAAAAACDELwAAAAAAAAYhOAFAAAAAADAIAQvAAAAAAAABiF4AQAAAAAAMAjBCwAAAAAAgEEIXgAAAAAAAAxC8AIAAAAAAGAQghcAAAAAAACDELwAAAAAAAAYhOAFAAAAAADAIAQvAAAAAAAABiF4AQAAAAAAMAjBCwAAAAAAgEEIXgAAAAAAAAxC8AIAAAAAAGAQghcAAAAAAACDELwAAAAAAAAYhOAFAAAAAADAIAQvAAAAAAAABiF4AQAAAAAAMAjBCwAAAAAAgEEIXgAAAAAAAAxC8AIAAAAAAGAQghcAAAAAAACDELwAAAAAAAAYhOAFAAAAAADAIAQvAAAAAAAABiF4AQAAAAAAMAjBCwAAAAAAgEEIXgAAAAAAAAxC8AIAAAAAAGAQghcAAAAAAACDELwAAAAAAAAYhOAFAAAAAADAIAQvAAAAAAAABiF4AQAAAAAAMAjBCwAAAAAAgEEIXgAAAAAAAAxC8AIAAAAAAGAQghcAAAAAAACDELwAAAAAAAAYxL6kbhweHq4zZ87kax83bpzCwsKUlJSk6OhoHTx4UJ6enurZs6fat29v1XfFihVat26dMjMzFRISopEjR8rLy+tuPQIAAAAAAMBNlVjwEhMTI7PZbPkcHx+vhQsXKjQ0VDk5ORozZowCAwMVExOjgwcPKjo6WuXKlVNISIgkaePGjYqLi9OYMWPk5+enuXPnasKECZo1a1ZJPRIAAAAAAICVEgtePDw8rD7v2LFD//jHP+Ti4qLvv/9eKSkp+uCDD+Ts7KyAgAAlJCRo/fr1luBl/fr16ty5s5o3by5JGjVqlCIiIpSYmKjAwMC7/TgAAAAAAAD53BNrvKSkpOh///uf2rVrJ0n65ZdfVLNmTTk7O1v6NGjQQIcOHZIkZWdn68iRI6pfv77luJ+fn3x9fXXw4MG7WzwAAAAAAMAN3BPBy+bNm1WmTBk1aNBAkpSamppvRIyHh4fS0tIkSRkZGTKbzfL09LxhHwAAAAAAgJJ2zwQvrVu3lq1t4crJzc01uCIAAAAAAIA7V2JrvOTZv3+/kpKSLNOMJMnT01PHjx+36peWlmYZBePu7i5bW1ulpqbesE9Bdu3apcWLF1s+N2nSRE2aNJEkVaxYUY6OjvnOyc7O1okTJwq8nqenZ75RN3lOnDih7OzsfO2Ojo6qWLFigeekpqbme6Y81Ed91Ed91Ed91Pdg13cj/mWqy79MdcvnC+cv6+jVo3e9vnv9/d3v9V24cFlNg6x38Pzf79t1OTvznqivIPfS+9uxY4d27NhhaQ8ODlZoaGiB5wDA3WYTHx9fosNH3nvvPR07dkxz5861tH3//feaOHGiNmzYICcnJ0nS1KlTdfHiRU2ePFmS9PLLL6tRo0bq16+fJOn06dPq1q2bFi5cWODiurm5uTKbzQoODpadnd1deDIAAIDCO5y0X+MXDb5lv/H95yvIv/ZdqAh3E99/8UpISCjpEgDAokSnGmVnZ2vbtm1q06aNVXtoaKi8vb0VFRWlY8eO6YsvvtDWrVvVqVMnS59nn31WH3/8sb799lslJiZq2rRpqlu3LjsaAQAAAACAe0aJTjX67rvvlJ2drZYtW1q1Ozg4aOrUqYqOjtaAAQPk5eWlESNGWLaSlqT27dsrNTVVM2fOVGZmpkJCQhQZGXm3HwEAAAAAAOCGSjR4admyZb7QJU+lSpU0c+bMm54fERGhiIgIAyoDAAAAAAC4c/fErkYAAAAAAAAPIoIXAAAAAAAAgxC8AAAAAAAAGITgBQAAAAAAwCAELwAAAAAAAAYheAEAAAAAADAIwQsAAAAAAIBBCF4AAAAAAAAMQvACAAAAAABgEIIXAAAAAAAAgxC8AAAAAAAAGITgBQAAAAAAwCAELwAAAAAAAAaxL+kCAOR3Ni1ZqRf+vGU/z9Le8vHwvQsVAQAAAABuB8ELcA9KvfCnxi8afMt+4/vPJ3gBAAAAgHsYU40AAAAAAAAMQvACAAAAAABgEIIXAAAAAAAAgxC8AAAAAAAAGITgBQAAAAAAwCAELwAAAAAAAAYheAEAAAAAADAIwQsAAAAAAIBBCF4AAAAAAAAMQvACAAAAAABgEIIXAAAAAAAAgxC8AAAAAAAAGITgBQAAAAAAwCAELwAAAAAAAAYheAEAAAAAADAIwQsAAAAAAIBBCF4AAAAAAAAMQvACAAAAAABgEIIXAAAAAAAAgxC8AAAAAAAAGITgBQAAAAAAwCAELwAAAAAAAAYheAEAAAAAADAIwQsAAAAAAIBBCF4AAAAAAAAMQvACAAAAAABgEIIXAAAAAAAAgxC8AAAAAAAAGITgBQAAAAAAwCAELwAAAAAAAAYheAEAAAAAADAIwQsAAAAAAIBBCF4AAAAAAAAMQvACAAAAAABgEIIXAAAAAAAAgxC8AAAAAAAAGITgBQAAAAAAwCAELwAAAAAAAAYheAEAAAAAADAIwQsAAAAAAIBBCF4AAAAAAAAMQvACAAAAAABgEIIXAAAAAAAAgxC8AAAAAAAAGITgBQAAAAAAwCAELwAAAAAAAAYheAEAAAAAADAIwQsAAAAAAIBBCF4AAAAAAAAMQvACAAAAAABgEIIXAAAAAAAAgxC8AAAAAAAAGITgBQAAAAAAwCAELwAAAAAAAAYheAEAAAAAADAIwQsAAAAAAIBBCF4AAAAAAAAMQvACAAAAAABgEIIXAAAAAAAAgxC8AAAAAAAAGITgBQAAAAAAwCAELwAAAAAAAAYheAEAAAAAADAIwQsAAAAAAIBBCF4AAAAAAAAMQvACAAAAAABgEIIXAAAAAAAAgxC8AAAAAAAAGITgBQAAAAAAwCAELwAAAAAAAAYheAEAAAAAADAIwQsAAAAAAIBB7Evy5ocPH1ZMTIwOHjwoBwcHhYSEaPz48ZKkpKQkRUdH6+DBg/L09FTPnj3Vvn17q/NXrFihdevWKTMzUyEhIRo5cqS8vLxK4EkAAAAAAADyK7ERL3/88Yf+9a9/qU6dOnr//fc1d+5ctWzZUpKUk5OjMWPGyN3dXTExMerRo4eio6O1Z88ey/kbN25UXFychg0bprlz5+rixYuaMGFCST0OAAAAAABAPiU24uXDDz/UY489pj59+ljaKleuLEnatWuXUlJS9MEHH8jZ2VkBAQFKSEjQ+vXrFRISIklav369OnfurObNm0uSRo0apYiICCUmJiowMPDuPxAAAAAAAMB1SmTEi8lk0o8//ihfX1+NGDFCzz33nCIjI3XkyBFJ0i+//KKaNWvK2dnZck6DBg106NAhSVJ2draOHDmi+vXrW477+fnJ19dXBw8evLsPAwAAAAAAcAMlErykp6frypUrWr16tVq2bKl33nlHPj4+GjlypDIzM5WamioPDw+rczw8PJSWliZJysjIkNlslqen5w37AAAAAAAAlLQSCV7MZrMkqUWLFnr66acVFBSkkSNHysbGRj/88MMtz8/NzTW6RAAAAAAAgDtWImu8uLu7y9bWVv7+/v9XiL29ypcvr5SUFHl6eur48eNW56SlpVlGweSdn5qaesM+Bdm1a5cWL15s+dykSRM1adJEklSxYkU5OjrmOyc7O1snTpwo8Hqenp75Rt3kOXHihLKzs/O1Ozo6qmLFigWek5qamu+Z8lDf37M+J0dX1a/SvMBzks79VmD73azvXn9/1Ed91Ed991N9N+Jfprr8y1S3fL5w/rKOXj161+u719/f/V7fhQuX1TTIegfP//2+XZezM++J+gpyL72/HTt2aMeOHZb24OBghYaGFngOANxtNvHx8SUyfGTgwIGqVq2aXn31VUnX1n15/vnnNWjQIDk7O2vixInasGGDnJycJElTp07VxYsXNXnyZEnSyy+/rEaNGqlfv36SpNOnT6tbt25auHBhgYvr5ubmymw2Kzg4WHZ2dnfpKYHbczhpv8YvGnzLfuP7z1eQf+27UBEAwGj82//3xvdfvBISEkq6BACwKLHtpLt06aKvv/5aX331lZKSkjR37lxJUtOmTRUaGipvb29FRUXp2LFj+uKLL7R161Z16tTJcv6zzz6rjz/+WN9++60SExM1bdo01a1blx2NAAAAAADAPaPEtpNu1aqV0tLStGjRIl24cEE1atTQe++9JxcXF0nXRrhER0drwIAB8vLy0ogRIyxbSUtS+/btlZqaqpkzZyozM1MhISGKjIwsqccBAAAAAADIp8SCF+naqJcuXboUeKxSpUqaOXPmTc+PiIhQRESEAZUBAAAAAADcuRKbagQAAAAAAPCgI3gBAAAAAAAwCMELAAAAAACAQQheAAAAAAAADELwAgAAAAAAYBCCFwAAAAAAAIMQvAAAAAAAABiE4AUAAAAAAMAgBC8AAAAAAAAGIXgBAAAAAAAwCMELAAAAAACAQQheAAAAAAAADELwAgAAAAAAYBCCFwAAAAAAAIMQvAAAAAAAABiE4AUAAAAAAMAgBC8AAAAAAAAGIXgBAAAAAAAwCMELAAAAAACAQQheAAAAAAAADELwAgAAAAAAYBCCFwAAAAAAAIMQvAAAAAAAABiE4AUAAAAAAMAgBC8AAAAAAAAGIXgBAAAAAAAwCMELAAAAAACAQQheAAAAAAAADELwAgAAAAAAYBCCFwAAAAAAAIMQvAAAAAAAABiE4AUAAAAAAMAgBC8AAAAAAAAGIXgBAAAAAAAwCMELAAAAAACAQQheAAAAAAAADELwAgAAAAAAYBCCFwAAAADAAyk5OVlhYWE6efJkSZeCvzGCFwAAAADAfe/zzz9XeHi4VZuPj48+/vhj+fr6llBVAMELAAAAAOABZWdnJy8vL9nZ2Rly/ZycHOXm5hpybTw47Eu6AAAAAADA/W/EiBGqWbOmLl68qC1btsjNzU0vv/yyWrZsKUk6fPiw5s+fr0OHDsnT01Nt27ZVz549LaHIb7/9pmnTpun3339XjRo11LZtW7333nuKj4+XJO3fv18ffvihfvvtN9nb2yskJETDhg2Tu7u79u7dq+nTp0uSwsLCJEkzZsyQr6+vunbtquXLl8vV1VWdO3fWnDlz9PDDD1vqnjVrls6cOaO3335bkrR161YtW7ZMp0+flp+fn3r37q0WLVpIkvbu3atXXnlFUVFRmj9/vpKSkrRu3TqVKlVKMTEx2rZtm3JyclSnTh0NHz7cMtLm+++/17///W/9/vvvcnZ2VrNmzTRw4EA5OTlZ3s2cOXOUmJgoe3t7Va1aVVOmTJGrq6tMJpMWLlyoL7/8UpcuXVKdOnU0YsQIVaxYUZK0dOlS7dmzRy1bttTy5cuVk5OjJ598UgMGDJCNjY2h3zkKhxEvAAAAAIBi8dlnn6lSpUpauHCh2rVrp6ioKKWmpio9PV2vvvqqGjVqpMWLF2v06NHasmWL1qxZI0kymUwaN26cKlSooA8++EBdunRRbGys1bUvX76sp59+WgsWLFBUVJRSUlI0Y8YMSdIjjzyiQYMGWaYWffzxx3rkkUesznd3d1f9+vUtQY4kmc1mbd++3RLW/Pe//9Xs2bPVu3dvLVmyRBEREZo6daoOHjxoda3Y2FhFRkZq8eLFcnZ2VnR0tE6ePGkJZDw8PDR27FiZTCZJUnZ2trp3765FixbpzTff1N69e62e7+2331bt2rX14Ycfavbs2WrVqpXl2MqVK7V582aNGjVKMTExKlWqlF5//XXLtSXp6NGj+uWXXxQdHa1XX31VH3/8sXbs2HHb3yOKF8ELAAAAAKBY1K5dW88//7wqVKigHj16yNbWVr/88os2bNigevXqqWvXrqpQoYLq1aun3r1767PPPpMk7d69W2lpaYqMjFSVKlXUokULtWnTxuraDRs2VFhYmCpUqKAaNWpo0KBB+u6772QymeTg4CAXFxfZ2trKy8tLXl5ecnBwyFdfWFiYtm3bZpketG/fPmVmZqpZs2aSpOXLl6tXr156/PHH5efnp1atWqlVq1b6/PPPra7z0ksvqXbt2qpcubLOnTunbdu2ady4capRo4YqVaqkkSNH6vTp05bAJiwsTE2bNpWfn5+Cg4PVq1cvbd++3XK9lJQUNWnSRH5+fgoICFDHjh3l6uoqSVq3bp169uypJk2aKCAgQK+99prOnDmj3bt3W863s7PTyJEjVblyZf3jH/9QvXr1lJCQcKdfJ4oJU40AAAAAAMUiICDA8nc7Ozu5u7srNTVVx44d0w8//KAnn3zSctxsNisnJ0dms1knT56Un5+fXFxcLMdr1Khhde2zZ89q4cKF2r9/v9LS0pSbmyuTyaTz58/Lx8enUPU1b95cM2fO1P79+1WnTh3Fx8erUaNGcnZ2lnRt5MiBAwf0wQcfWM7Jmzr0V9WrV7f8/dixY8rJydELL7xg1ScrK0unTp1SnTp19Pvvv+vDDz/U4cOHdeHCBZlMJqsRK506ddKrr76qhg0bKiQkRC1btpS7u7syMzOVmpqqWrVqWfq6ubnJ399fSUlJatKkiSSpQoUKcnR0tPTx8vJSampqod4JjEfwAgAAAAAoFvb2+X/FzM3N1eXLlxUWFqZevXrlO25ra6vc3NxbrkfyzjvvKCcnRyNHjpSPj49Onz6t0aNHWwUYt+Lq6qpHH31U8fHxqlWrlr799lsNGzbMcvzy5csaOHCgQkNDrc77a6ghSQ899JDVOaVKldKiRYvy3c/Dw0OS9Prrr6tatWp6/fXX5eHhoX379um9996z9HvppZfUqlUr7dixQ1999ZWWLl2qefPmWc6/levfu42Njcxmc6HOhfEIXgAAAAAAhqpWrZr27NmjChUqFHi8YsWKOnnypC5evGgZ9XL48GGrPgcPHtTrr7+ukJAQSdIvv/xiddzOzq5QYUNYWJhiYmLUtGlTXb58WY0bN7aq8/Tp0zessyCBgYG6cuWKsrKyVLVq1XzH09PTderUKU2YMEGBgYGSpG3btuXrFxAQoICAAHXr1k29e/fWt99+q65du8rT01MHDx5UUFCQJCkjI0NJSUmqVKlSoWtEyWKNFwAAAACAoZ599lmdOnVK06dPV2Jioo4fP674+HjFxcVJkkJDQ+Xh4aHo6Gj98ccf2r59u7788kura/j5+Wnz5s06ceKEdu/erX//+99Wx319fZWamqpff/1V6enpysnJKbCWf/zjH7p48aLmz5+vpk2bWo1eiYiI0IYNG/TRRx8pKSlJiYmJWr9+vbZu3XrDZ6tUqZIee+wxTZw4Ubt379bp06eVkJCg2bNnKz09Xa6uripdurQ+++wznTp1Slu3btWnn35qOT8rK0uzZ8/Wvn37lJycrJ07dyolJUX+/v6SpM6dO2vZsmXauXOnjh07pqioKJUrV04NGzYs2peAEkPwAgAAAAAwVNmyZTVr1iylpKRo6NChGjRokNasWaOyZctKujZaZcKECTp+/LheeuklffTRR+ratavVArmvvvqqTp48qb59+2rx4sXq27ev1T3q1q2rsLAwjRw5Us8++6z2799fYC1OTk5q1KiRjh07ZtnNKE+zZs305ptv6quvvlK/fv0UGRmpHTt2WLaFvpE33nhDoaGhmjZtmnr16qWoqCjl5OTooYcekp2dnV5//XX99NNP6tOnjz777DP16dPHcq6tra3S0tI0adIk9ezZU7Nnz1bPnj31j3/8Q5IUHh6uNm3aKCoqSgMHDtSVK1c0ZcoUyzbcuPfZxMfH55Z0EXdDbm6uzGazgoOD+QHFPe9w0n6NXzT4lv3G95+vIP/ad6EiAIDR+Lf/743vv3ixm8uDIS4uTlu2bNHSpUtLuhTgjrDGCwAAAACgxH3zzTdyd3dXuXLldOjQIa1Zs0bh4eElXRZwxwheAAAAAAAl7sKFC4qJidG5c+fk4+Oj559/nuAFDwSCFwAAAABAievQoYM6dOhQ0mUAxY7FdQEAAAAAAAxC8AIAAAAAAGAQghcAAAAAAACDELwAAAAAAAAYhOAFAAAAAADAIAQvAAAAAAAABiF4AQAAAAAAMIh9SRcAAAAAACXBybOsLubkltj9XextdDk1pcjnbdq0SVFRUZbPtra28vLyUp06ddS3b19VrFix2GoMDw9Xu3bt1Lt37xv22bt3r1555ZUCj0VGRuqpp55ScnKyunbtqhkzZqhevXqSpBEjRsjX11ejR48uUk1595s+fbpCQkJu2C85OVmbNm1SmzZt5OfnV6R7AMWJ4AUAAADA39LFnFy9s/mXErv/6DY172gKwvjx4+Xj4yOTyaRTp04pLi5OI0eO1OLFi+Xi4lJsdRbW0KFDVbNmTau2mwUeI0aMkIODg2H1JCcnKzY2VnXq1CF4QYkieAEAAACA+1BgYKAqVKggSapTp468vb0VGRmpAwcOKDQ09K7XU7lyZdWqVavQ/atUqWJcMcA9hOAFAAAAAB4Azs7OkqSrV69a2o4dO6bly5frwIEDSk1Nlbe3t0JDQ9WvXz+5urpanb9u3TqtWbNG58+fV7Vq1TRkyBBD6y1oqtGePXsUExOjP/74Qz4+PurWrZt+/vlnJScna+bMmVbnX758We+99562bdsmBwcHNWvWTEOGDNFDDz1kNf0pMjLScs5fpzoBdwvBCwAAAADch0wmk+XP6dOntWjRInl5eal+/fqWPikpKSpfvrzCwsJUunRppaSk6KOPPtLo0aM1d+5cS7+NGzdqzpw5ateuncLCwnTy5ElNnDhRly5dKnQ9ZrNZJpPJqs3Ozq7Q5//xxx8aM2aMatasqXHjxunq1auKi4vTxYsXVb58+Xz9586dq6ZNm2rcuHFKSkrSggUL5O7urv79+6t69eoaPny4Zs2aZTUFqnLlyoWuByguBC8AAAAAcB/q1auX1Wdvb2+9/fbblpEvktSoUSM1atTI8tlkMqlu3boKDw9XYmKiAgMDZTabtXTpUjVs2FCvvfaapa+7u7smTZpU6HpGjRqVr56PPvqo0OfHxcXJ2dlZ7777rh566CFJUt26ddW1a9cCg5fg4GANGzZMktSwYUMlJSVp27Zt6t+/v1xcXCxTmYo6BQoobgQvAAAAAHAfmjRpknx8fJSbm6s///xTGzZs0GuvvaZZs2ZZRnbk5ORozZo12rx5s86cOaMrV65Yzj9+/LgCAwN19uxZpaSk5AtyWrRoobfffrvQ9QwfPlwPP/yw5bO9fdF+3Tx48KAaNWpkCV0kqUyZMqpdu7bMZnO+/o0bN7b6HBAQoM8//7xI9wTuBoIXAAAAALgPBQQEWBbXla6N+njhhRe0dOlSvfXWW5KkhQsX6pNPPlGvXr0UFBQkZ2dnmc1mDRkyRNnZ2ZKkc+fOSZI8PT2trm9nZyc3N7dC1+Pv768aNWrc9vOcO3cuXw15deXV+FfX1+bo6Gi1vg1wryB4AQAAAIAHQKlSpeTn56ejR49a2rZu3arw8HCFh4db2k6ePGl1XpkyZSRJqampVu0mk0kZGRkGVmytTJky+WqQ8tcF3G/uZNt4AAAAAMA94sqVKzp16pQ8PDwsbVlZWXJwcLDqd/10HB8fH5UtW1bbtm2zav/mm2/yLZZrpFq1amnXrl1W06HOnTun/fv339b18p47KyurWOoDbhcjXoC7JCPtojIvXLl1R0mmnPxzWAEAAIC/SkxMVHp6unJzc3Xu3Dlt2LBBGRkZ6tSpk6VPaGioVq9eLXd3d5UrV067du3Szp07ra5ja2urnj17avr06YqKirLsarRixQq5uLjctefp0aOHvvnmG40aNUovvPCCZVcjT09P2doWfcxAxYoVZWdnp40bN6p06dJydHSUv7+/1eLDwN1A8ALcJZkXrmj1km8L1bd1tyrGFgMAAAC52NtodJuaJXr/y3dw/vjx4y1/9/DwUEBAgKKiohQaGmppHzZsmObMmaMPPvhAOTk5ql+/vqZNm6auXbtaXeupp57S5cuXtXbtWm3ZskUBAQEaN26cpkyZcgcVFk3lypU1depUxcTEaOLEifL29lZ4eLh+/PHH27qeu7u7hg0bplWrVmnEiBEym82aMWOG6tWrV7yFA7dgEx8fn1vSRdwNubm5MpvNCg4OLtJe8kBxOZV0rkjBy9txw27Zb3z/+Qryr32npQEA7gGHk/Zr/KLBt+zHv/0PJr7/4pWQkFDSJaCYXLp0Sd27d9ezzz6rnj17lnQ5wG1hxAsAAAAA4J4we/ZsPfLIIypTpoz+/PNPffzxx8rOzlb79u1LujTgthG8AAAAAADuCVlZWVqwYIHS0tLk6Oio2rVra+TIkfL29i7p0oDbRvACAAAAALgnvPrqqyVdAlDs2E4aAAAAAADAIAQvAAAAAAAABiF4AQAAAAAAMAjBCwAAAAAAgEEIXgAAAAAAAAxC8AIAAAAAAGAQghcAAAAAAACD2Jd0AQAAAABQErzsS8mUfqHE7m/nXlrnc7Ju+/yff/5ZH330kQ4cOKCMjAw5OzurRo0aatu2rVq2bCkbG5tirPaaTZs2KSoqSvHx8ZKkzMxMrV27Vk2bNlVQUNANz0tOTlbXrl1vef3g4GDNnDnzpn3eeecdJScnW/rt3btXr7zyilauXClfX99CPwtwtxC8AAAAAPhbMqVf0Hcvjy2x+//jg7clF8fbOnf16tVasGCBQkJCNHDgQJUtW1YZGRnatWuXoqKiVKZMGdWrV694Cy5AZmamYmNj5ePjc9PgxcvLS/PmzbNqGzJkiNq1a6eOHTta2pydnQ2rFSgpBC8AAAAAcB/Zu3evFixYoGeffVbDhg2zOvbYY4/p+eefl63tvbWqhKOjo2rVqpWv3dvbu8B24EFC8AIAAAAA95GVK1fKzc1NAwcOLPB45cqVLX9PSUnR0qVLlZCQoD///FOenp6qW7euBgwYoDJlylj6LV26VLGxsYqNjdWcOXO0f/9+eXp66rnnnlOXLl0KvM9fpw9Nnz5d06dPlyS99tprateu3W09W2JiopYsWaJ9+/YpOztb1atX18svv6y6deve1vWAe8G9FYMCAAAAAG7IZDIpISFBISEhcnS89TSl1NRUubi46OWXX9a7776rQYMG6c8//9TQoUOVnZ2dr/+4cePUsGFDTZ48WU2aNNG8efP0008/WY63a9fOsr6Ll5eXJk6cKEnq1q2b5s2bp3nz5qlx48a39WyHDx/W0KFDlZGRocjISE2YMEHu7u6KjIzUr7/+elvXBO4FJTbiJS9R/atmzZpp8uTJkqSkpCRFR0fr4MGD8vT0VM+ePdW+fXur/itWrNC6deuUmZmpkJAQjRw5Ul5eXnftGQAAAADgbkpPT1dWVlahF5GtUaOGatSoYflsMpnUqFEjderUSbt379Y//vEPq/4vvviinnzySUlSSEiI/vvf/2rbtm169NFH813b0dFR1atXlyT5+fnd8ZShmJgYlS1bVtHR0XJwcJAkNWzYUH379tWyZcs0ZcqUO7o+UFJKdKpRzZo1rf7Hk5fY5uTkaMyYMQoMDFRMTIwOHjyo6OholStXTiEhIZKkjRs3Ki4uTmPGjJGfn5/mzp2rCRMmaNasWSXyLAAAAABwL/rkk0/06aef6tSpU7p06ZKl/fjx4/n6Xj9apWrVqkpJSTG8xqysLCUkJCgiIkK2trYymUyWYyEhIfr6668NrwEwSokGL/b29gWOUNm1a5dSUlL0wQcfyNnZWQEBAUpISND69estwcv69evVuXNnNW/eXJI0atQoRUREKDExUYGBgXf1OQAAAADgbnB3d1epUqV05syZQvVfv3695s6dq4iICNWtW1eurq6ysbHR6NGjC5xq5ObmZvXZwcGhwH7FLSMjQ2azWXFxcYqLiyuwj9lsvucWDQYKo0SDlyNHjui5556Ti4uLQkJC1K9fP5UuXVq//PKLatasabWVWIMGDbRw4UJJUnZ2to4cOaIBAwZYjvv5+cnX11cHDx4keAEAAADwQLKzs1NwcLD27Nmj7OzsW67zsnXrVrVp00Z9+/a1tF29elUZGRlGl1okrq6usrW11TPPPKO2bdsW2IfQBferEvvJrVWrlsaMGaPp06dr0KBBSkhI0BtvvKHc3FylpqbKw8PDqr+Hh4fS0tIk/V8a6unpecM+AAAAAPAg6tq1q9LT0y3/Yfp6f/zxh5KSkiRdm8KTt15Kno0bN8psNhdLLXnXzsrKuqPrODk5qU6dOjpy5IiqV69uWZvmr3+A+1WJjXgJDQ21/L1q1aqqXLmyunfvrsOHD9/y3NzcXCNLAwAAAIB7Vr169TRgwAAtWLBAf/zxh9q0aaOyZcsqIyNDP/74ozZu3Kh3331X/v7+Cg0N1Zo1a1SpUiUFBARo//79+vTTT+Xq6lostXh6esrNzU1bt25V1apV5eTkJF9fX7m7uxf5WoMHD9bw4cM1atQotW/fXl5eXkpPT9fhw4dlY2Oj/v37F0vNwN1WolON/qpChQpydXXV6dOn5enpmW+hp7S0NMsoGHd3d9na2io1NfWGfQqya9cuLV682PK5SZMmatKkiSSpYsWKBQ7Ty87O1okTJwq8nqenZ75RN3lOnDhR4FxIR0dHVaxYscBzUlNT8z1THuq7/+u7dDlT/oEuBR47ffyScrLzB4pOjq6qX6V5gecknfutwPbbre9ef3/UR33UR30Pen034l+muvzLVLd8vnD+so5ePXrX67vX39/9Xt+FC5fVNMh6B8///b5dl7Mz74n6CnIvvb8dO3Zox44dlvbg4GCr/9B7I3bupfWPD96+ZT+j2LmXlnJub6TIiy++qIcfflhr167V/PnzlZGRIRcXF9WsWVNjx45VcHCwJKlnz566dOmSVqxYocuXL+vhhx9WVFSUXn/99WJ5BltbW7366qtatGiRIiMjZTKZ9Nprr6ldu3ZFvlZQUJBiYmIUGxurOXPm6OLFi3J3d1dQUJCeeeaZYqkXKAk28fHx98TwkTNnzig8PFzvv/++zp07p4kTJ2rDhg1ycnKSJE2dOlUXL160bDf98ssvq1GjRurXr58k6fTp0+rWrZsWLlxY4Bovubm5MpvNCg4Olp2d3d17MOD/O5V0TquXfFuovq27VdHbccNu2W98//kK8q99p6UBAO4Bh5P2a/yiwbfsx7/9Dya+/+KVkJBQ0iUAgEWJjXiJiYlRs2bN5OPjo9OnTysmJkaPPPKIgoKCZDKZ5O3traioKPXq1UuHDh3S1q1b9c4771jOf/bZZzV37lwFBQWpfPnymj9/vurWrcvCugAAAAAA4J5RYsHLmTNnNH78eGVkZKhMmTJq2LCh+vXrJ1tbW9na2mrq1KmKjo7WgAED5OXlpREjRli2kpak9u3bKzU1VTNnzlRmZqZCQkIUGRlZUo8DAAAAAACQT4kFL2+99dZNj1eqVEkzZ868aZ+IiAhFREQUY1UAAAAAAADFh43QAQAAAAAADELwAgAAAAAAYBCCFwAAAAAAAIMQvAAAAAAAABiE4AUAAAAAAMAgBC8AAAAAAAAGIXgBAAAAAAAwCMELAAAAgL8lDzdvuTzkVWJ/PNy8b6vuTZs2KSwsTCdPnrzjd7B27Vpt3779jq/zV3n1FfRnz549kqS9e/cqLCxMycnJlvPCw8O1dOnS277frd5HYmKili5dqoyMjCLfA7gT9iVdAAAAAACUhKvZZn26ek+J3b/jiyEldu88a9euVZ06ddS8efNiv/b48ePl4+Nj1Va5cuUb9p80aZI8PDyKvY48iYmJio2NVevWreXm5mbYfYDrEbwAAAAAAIpdYGCgKlSoUOj+1atXN7AaoOQQvAAAAADAA2bfvn1as2aNfv31V2VkZKhcuXJ6/PHH1b17dzk6Okq6NrXnzJkzOnPmjL7++mtJUtu2bTV69GhJ10aILFmyRPv27VN2draqV6+ul19+WXXr1jWk5vDwcLVr1069e/e2tG3ZskWxsbFKTk5WxYoV1bdvX61du1a+vr6WOvOkpqZq4cKF2r17t1xdXdWmTRv16dNHdnZ22rRpk6KioiRJ3bt3t5yzcuVK+fr6GvI8QB6CFwAAAAB4wJw+fVo1a9ZU+/bt5ezsrJMnT2rFihU6deqU3njjDUnXpvaMHj1a1apVs4Qd7u7ukqTDhw9r+PDhCgwMVGRkpEqVKqVPP/1UkZGRmjNnjmrUqHHLGkwmk0wmk1WbnZ1doZ9hz549mjJlipo2bapBgwYpPT1d8+bN09WrVwsMS6ZOnaonnnhCHTt21IEDBxQbGytfX1916NBBjRs3Vo8ePRQXF2c1BcrLy6vQ9QC3i+AFAAAAAB4wbdu2tfpcp04d+fv765VXXtHQoUPl7u6u6tWry8HBQe7u7qpVq5ZV/5iYGJUtW1bR0dFycHCQJDVs2FB9+/bVsmXLNGXKlFvW0KtXL6vPtWvX1pw5cwr9DEuWLFHlypU1adIk2djYSJKqVq2qAQMGFNi/VatW6tOnjyQpJCREhw4d0rZt29ShQwd5eHjIz89PUtGnQAF3iuAFAAAAAB4wly5d0r///W9t27ZNZ8+e1dWrVy3HTp48aRnZUpCsrCwlJCQoIiJCtra2VqNWQkJCLNOSbmXSpElWi+s6OTkVun6TyaRff/1V3bp1s4QukhQUFKTy5csXeE7jxo2tPletWlXffvttoe8JGIXgBQAAAAAeMFFRUfr555/Vo0cPBQQEyMnJSSkpKRo3bpyys7Nvem5GRobMZrPi4uIUFxdXYB+z2SxbW9ubXicgIOC2R5akp6crJyenwF2OPD09Czzn+p2KHBwcbvmswN1A8AIAAAAAD5Ds7Gx99913evXVV9WuXTtLe2ZmZqHOd3V1la2trZ555pl8U5by3Cp0uVPu7u6yt7dXWlpavmOpqany9/c39P5AcSJ4AQAAAIAHyNWrV2U2my27F+X5/PPP8/V1dHRUVlaWVZuTk5Pq1KmjI0eOqHr16oaHLAWxs7NTjRo1tH37dvXu3dsy3ejw4cM6ffr0be2slLdWzfXPCxiN4AUAAAAA7kO7d+/OtyuPq6urQkJC9Mgjj+iDDz6QJLm4uGjLli369ddf812jcuXK+vnnn7Vjxw55eXnJ3d1dvr6+Gjx4sIYPH65Ro0apffv28vLyUnp6ug4fPiwbGxv179/f8Ofr06ePIiMj9eabb6pDhw5KT09XbGysvLy8rNZ9KazKlStLkjZs2KC2bdvK3t5eVatWtQQygFEIXgAAAAD8LTk42qrjiyElen9duf3zZ8+ena+tWrVqWrRokd544w3Nnj1b0dHRsrOzU+PGjTVu3DgNHDjQqv9LL72k6dOna8KECcrKylLbtm01evRoBQUFKSYmRrGxsZozZ44uXrwod3d3BQUF6Zlnnrn9oosgJCREr7/+upYtW6Zx48bJz89PgwYN0rJly+Tq6lrk6wUGBqp379767LPP9Pnnn8tsNmvlypUFbk0NFCeb+Pj43JIu4m7Izc2V2WxWcHBwkfaOB4rLqaRzWr2kcKuqt+5WRW/HDbtlv/H95yvIv/adlgYAuAccTtqv8YsG37If//Y/mPj+i1dCQkJJlwCDnDlzRj169FBkZKTatGlT0uUAhcKIFwAAAADAPScrK0vz589XgwYN5O7urlOnTmnVqlXy8vLSY489VtLlAYVG8AIAAAAAuOfY2trq3LlzmjVrljIyMuTi4qL69etr4MCBcnJyKunygEIjeAEAAAAA3HMcHBw0efLkki4DuGN3f18wAAAAAACAv4kiBS9RUVE6ffp0gceSk5MVFRVVLEUBAAAAAAA8CIoUvHz55ZdKS0sr8Fh6ero2b95cHDUBAAAAAAA8EIo81cjGxqbA9vPnz8vR0fGOCwIAAAAAAHhQ3HJx3W+//Vbffvut5fPSpUvl5uZm1Sc7O1v79u1TUFBQ8VcIAAAAAABwn7pl8HLmzBn9/PPPkq6NdklMTJSDg4NVHwcHB9WuXVv9+/c3pkoAAAAAAID70C2Dly5duqhLly6SpK5du2rSpEkKDAw0vDAAAAAAAID73S2Dl79auXKlUXUAAAAAwF3l7Oaoi1kXSuz+LqVK61JG9m2f//PPP+ujjz7SgQMHlJGRIWdnZ9WoUUNt27ZVy5Ytb7g+5+3IzMzU2rVr1bRp0wdqiQmz2awvv/xSn3zyiU6ePKmrV6/Ky8tLNWrU0PPPP6+HH374rtazadMmRUVFKT4+/q7cLzk5WV27dlVkZKSeeuqpu3LPv6MiBS/StR/MQ4cOKSUlRdnZ+f+RaNu2bbEUBgAAAABGuph1Qe+ujCyx+4/qOl02KnVb565evVoLFixQSEiIBg4cqLJlyyojI0O7du1SVFSUypQpo3r16hVbrZmZmYqNjZWPj88DFbzMnz9f69evV5cuXdSrVy/Z29srKSlJ3333nQ4dOnTXg5fGjRtr3rx5d/WeMF6RgpcjR47ozTff1JkzZ5Sbm5vvuI2NDcELAAAAABho7969WrBggZ599lkNGzbM6thjjz2m559/Xra2Rd7A9oGVlZWlUqXyB1xZWVn65JNP9Nxzz2nQoEGW9kcffVSdOnWS2Ww29P4F8fDwkIeHR7HcF/eOIgUvM2fOlKurq9566y1VrVo13yK7AAAAAABjrVy5Um5ubho4cGCBxytXrmz5+9KlS7Vp0yatWrXKqs8777yj5ORkzZw5U5J0+fJlLVy4UN9//71SU1Pl6uqqgIAADR8+XI6Ojurataskafr06Zo+fbok6bXXXlO7du0kSWvXrtUnn3yi5ORkubm5qXnz5nrppZfk5ORkuWdYWJi6d+8uZ2dnbdiwQRkZGQoODtbo0aOVm5urWbNm6aeffpKLi4s6deqk8PBwq5pPnz6tDz/8UD/99JMuXbqkSpUqqVevXnrsscesnjc2NlYffvih5s2bp4MHD6pFixYaPXp0vvd05coVy9SiglwfXiUmJmrJkiXat2+fsrOzVb16db388suqW7eu1Xvds2eP3nrrLc2fP1+JiYnq1q2bfvnlF50/f14ffPCB1TXPnTunF154Qf/85z/VqVOnAqcamUwmrVmzRl9++aVOnTolZ2dnBQUF6Z///KcqVaokSUpPT9fixYv1ww8/KD09Xb6+vnr++efVsWPHAp/tZpKSkvTBBx9o//79unjxojw9PfXwww/rzTfflJ2d3U1/VipVqmSZvjRjxgyrUVd79+7VK6+8opUrV8rX19fS/tlnn2n9+vVKSkqSk5OTmjVrpoEDB+bbTfl+VuQRL+PGjVONGjWMqgcAAAAAcAMmk0kJCQlq1qyZHB0di+268+bN0w8//KB+/fqpYsWKysjI0P79+5WZmanAwEBNnDhR48aNU7du3dSsWTNJkp+fnyRp8eLFiouLU6dOndSkSRP9/vvvWrx4sY4cOaIZM2ZYBRibN29WtWrV9Morr+j8+fOaN2+e3nnnHV28eFGhoaHq2LGj4uPjtWDBAlWtWlWhoaGSpJSUFA0ePFgeHh4aMmSI3N3dFR8fr7feekuTJk2y1JTnzTffVIcOHRQREXHDAQPu7u4qX768Vq9eLVdXVzVu3Fg+Pj4F9j18+LCGDx+uwMBARUZGqlSpUvr0008VGRmpOXPmWP2OfPHiRU2ZMkXh4eF66aWX5OzsLH9/f02ePFm///67qlSpYum7ZcsW2draqmXLljf8biZNmqTvvvtOXbp0UYMGDZSdna2EhASdO3dOlSpV0sWLFzV06FBlZWWpV69eKl++vH788UfNnDlTV69e1XPPPXeTbz6/MWPGqHTp0hoxYoTc3d31559/ateuXTKbzbKzs7vpz0pRffDBB1qzZo2ee+45DRw4UH/++acWL16sY8eOae7cubKzsyvyNe9FRQpevL29dfXqVaNqAQAAAADcRHp6urKysqxGDBSHAwcO6IknnrBaYPWvI0mqV68u6VrYUqtWLUt7RkaGVq1apXbt2lmmPTVs2FAeHh56++23tWvXLjVp0sTSv1SpUpo0aZLlF+pjx45p7dq16tu3r3r06CFJqlevnr7//nvFx8dbgpelS5cqNzdXM2fOlLu7uyQpNDRUZ8+e1eLFi/MFL126dFGnTp1u+dxvvPGGJk6cqOjoaEmSj4+PGjZsqKefftoqTImJiVHZsmUVHR1tCXIaNmyovn37atmyZZoyZYql7+XLl/Xmm29aPXeVKlXk7Oysr776Si+99JKlffPmzQoNDbU80/X+97//6ZtvvtGwYcOsnucf//iH5e8ff/yxkpOTtXjxYlWsWFGSFBISYlmX55lnnil0gJGenq6TJ09q8uTJVu+0VatWlr/f6melsJKTk7V69Wr17NlTvXr1srRXrFhRw4YN0w8//HBb170XFWniX48ePbRixQpdvHjRqHoAAAAAAHdZzZo19eWXX2rFihU6fPiwTCZToc47dOiQrl69avWLuSS1bNlSdnZ22rt3r1V7gwYNrEKAvKkyDRs2tLTZ2dmpQoUKSklJsbT9+OOPatSokVxdXWUymSx/GjZsqKNHj+b7HfX6IOZGatWqpWXLlikqKkovvPCCypYtq02bNmnw4MH66quvJF1boyUhIUEtWrSQra2t5d7StYDj559/trqmvb29GjVqZNVWqlQpNW/eXF9//bVlvdSjR4/qyJEjatOmzQ3r++mnn2RjY6P27dvfsM/u3bv18MMPq3z58vneTUZGhn7//fdCvQtJcnNzk5+fnxYuXKjPP/9cJ0+ezNfndn9WrvfTTz/JbDarVatWVnXXqlVLLi4u2rdv321d915UpBEvP/74o1JTU9WtWzfVqlVLpUuXtjpuY2OjMWPGFGuBAAAAAIBr3N3dVapUKZ05c6ZYrzts2DB5enrq008/1cKFC+Xm5qY2bdqoX79+euihh254XkZGhiTlWyfFzs5Obm5uluN5rv8dMm/0yPXt9vb2VrvopqamavPmzdq8efMN63BxcbF8vtG6LQVxdHRUaGioZXRNUlKS/vWvf2nevHlq3bq1MjIyZDabFRcXp7i4uAKvYTabLVOqPDw8ClzcuHXr1tq0aZP27t2r+vXra/PmzXJ1dbUaGXO99PR0lS5d+qaL86alpenkyZP5wq88138HN2NjY6Np06Zp6dKlWrBggS5cuCA/Pz+9+OKLevrppyXd/s9KQXVLUvfu3e+47ntdkYKXn3/+WTY2NnJ2di4wNSvOfeIBAAAAANbs7OwUHBysPXv2KDs7+5brvDg6Oha4XER6errVZycnJ7388st6+eWXlZKSoi1btujDDz+Uvb29BgwYcMPr5y2Aev78eQUEBFjaTSaTMjIyim2BVDc3N9WtW9eyyO/1ypQpY/X5Tn439ff31+OPP661a9daFo+1tbXVM888c8NdfAuzi1S9evXk4+Ojr776SsHBwdq6datatGhx0+/Q3d1dFy5cuOnOSG5ubvLw8NDQoUNv+DxF4efnp7Fjxyo3N1dHjhzRxx9/rBkzZqhcuXJq1KjRLX9W8p7nr8GZlP9nLu9nY9q0afmCt78efxAUKXhZuXKlUXUAAAAAAAqha9eu+te//qWFCxdqyJAh+Y7/8ccfsrW1lb+/v8qVK6e0tDSlpqbK09NT0rWRBAcOHFDVqlULvH7ZsmXVtWtXxcfH69ixY5L+b2RKVlaWVd+HH35YDg4Oio+PV0hIiKU9Pj5eJpPJalebOxEaGqqDBw+qSpUqhd6a+VZycnJ06dKlAn/BT0pKUqlSpeTi4iJHR0fVqVNHR44cUfXq1W97q25bW1u1atVKn3zyiR577DGdPXv2hkFOnkcffVQrVqzQF198ccM1a0JDQ7V+/XqVLVvW8h0XBxsbGwUGBuqf//ynNm3apGPHjuWbQlXQz4qnp6ccHBx07NgxyygiSdqxY4fVuSEhIbK1tdWZM2f06KOPFlvd96IiBS8AAAAAgJJVr149DRgwQAsWLNAff/yhNm3aqGzZssrIyNCPP/6ojRs36t1335W/v79lhMKkSZMUHh6uixcvatWqVXJ2dra65pAhQ9S0aVNVrVpVTk5OSkhIsFp/xNPTU25ubtq6daulj6+vr9zd3RUeHq64uDg99NBDatSokf744w8tXrxYdevWzfeL+u3q06ePBg0apOHDh+vZZ5+Vr6+vMjMzdezYMZ05c0aRkZFFvubFixfVrVs3hYWFqUGDBvL29lZGRoa2bt2qXbt2KTw83DJ6Y/DgwRo+fLhGjRql9u3by8vLS+np6Tp8+LBsbGzUv3//Qt2zdevWWrlypaKjo1W+fHnVrl37pv3r16+v5s2ba968eTpz5owaNGignJwc7du3T40bN1a9evXUpUsXxcfHa/jw4erSpYv8/f115coVHT9+XPv379ekSZMK/U6OHDmiuXPnKiwsTBUqVJDJZNKXX34pOzs71a9fX9Ktf1ZsbGwUFhamFStWyM3NTd7e3vr++++VkJBgda8KFSooPDxcs2fPVlJSkoKDg+Xo6KizZ8/qp59+0tNPP221Vff9rEjBS2HmEZYrV+62iwEAAHjQZKRdVOaFK7fsZ8ox34VqAPyVS6nSGtV1eone/1JW9q07FuDFF1/Uww8/rLVr12r+/PmWNU5q1qypsWPHKjg4WJLk6uqqqVOnat68eRo3bpx8fHzUs2dP7dmzR8nJyZbr1a1bV9u2bdPKlStlMplUvnx5DR48WJ07d5Z0bbTGq6++qkWLFikyMlImk0mvvfaa2rVrp759+8rNzU2ffPKJ/vOf/8jNzU3t2rVT//79b3t0yPXKlSunBQsWaOnSpfrwww+VlpYmNzc3BQQEqF27drd1TWdnZ/Xo0UN79uzR+++/r7S0NDk6OqpKlSr617/+pQ4dOlj6BgUFKSYmRrGxsZozZ44uXrwod3d3BQUF6Zlnnin0PQMCAlS9enX99ttv6tGjR6GmRI0bN04rV67Ul19+qY8//tjyPectuOvq6qq5c+dq2bJlWrlypf7880+5urpapkwVhZeXl8qWLauPPvpIZ8+elaOjowICAvT2229bdnm61c+KJA0dOlS5ubmKiYlRbm6uHn/8cQ0bNkxjx461ut9LL72kypUra8OGDfrPf/4j6doompCQEMt25Q8Cm/j4+NzCdm7ZsuUtfzC2bNlyx0UZITc3V2azWcHBwQ/MXuC4v5xKOqfVS74tVN/W3aro7bhht+w3vv98BfnfPCUHAJSswv77z7/9f2+Hk/Zr/KLBt+zH91841/+XdQAoSUUa8ZK3t/lfpaena8eOHdq3b5+GDx9ebIUBAAAAAADc74oUvNxoYaQWLVpo1qxZ+uGHH4ptDh8AAAAAAMD9rngm3Elq1qyZtm3bVlyXAwAAAAAAuO8VW/Dy559/FtvCSQAAAAAAAA+CIk01KmiRqqtXr+ro0aNauXKl1R7dAAAAAAAAf3dFCl5eeeUV2djYKDfXeiMkBwcHhYWF6Z///GexFgcAAAAAAHA/K1LwsmLFinxtjo6O8vLyKraCAAAAAAAAHhRFCl58fX2NqgMAAAAAAOCBU6TgJc/OnTu1d+9eZWRkyM3NTfXq1VPjxo2LuzYAAAAAAID7WpGCl8uXL2vs2LFKSEiQnZ2d3NzclJGRoY8++kjBwcGaMmWKnJycjKoVAAAAAADgvlKk4GXhwoX69ddfNWbMGLVs2VJ2dnYymUyKj4/XjBkz9OGHH7LALgAAAID7QjlXe9lcSS+x++c+5K4zmTlFPm/Tpk2Kiooq8Nj06dMVEhKivXv36pVXXtHKlSstS0aEh4erXbt26t27923db/ny5apQocIN+yUmJuq7777Tc889Jzc3t1ted8SIEVY75zo6OsrX11etW7fWiy++KAcHhyLVWViFfZ6wsDC99tprateunSF1FCQ5OVldu3a1fLa3t5evr68aN26snj17qnTp0sVynxEjRshkMmnOnDk37bd06VJt2rRJq1atKpb7/l0VKXj59ttv1bdvX7Vu3drSZmdnp1atWiktLU2rV68meAEAAABwX7C5kq6kxQNK7P7+fRdIcrnt88ePHy8fHx+rtsqVK9+w/6RJk+Th4XHb97uVxMRExcbGqnXr1oUKXiSpatWqGjlypCTpypUr2rdvn5YsWaLU1FQNHTrUsFoLY968efLz8yuRe3fr1k3NmjVTdna29u/fr+XLl+u3337TjBkzZGNjUyI14fYVKXhJT09XQEBAgceqVKmi9PSSS4sBAAAA4O8kMDDwpiM2rle9enUDq7k9zs7OqlWrluVzgwYNdPLkScXHx5d48PLXuu42Pz8/y/3r1asnk8mkpUuX6rffflNQUFC+/iaTSWaz2bBRQrgzRQpeypcvr507dyokJCTfsV27dql8+fLFVhgAAAAAoPgUNNVoy5Ytio2NVXJysipWrKi+fftq7dq18vX11ejRo63OT01N1cKFC7V79265urqqTZs26tOnj+zs7KymP3Xv3t1yzl+nOhWWs7OzcnKsp2Dl5ORo2bJl+uqrr/Tnn3/K29tbrVu3Vs+ePWVv/3+/1p4/f14LFizQrl27dOnSJVWqVEldu3bVE088cdN7Hjp0SGPGjFHdunX1xhtvyNHRMd9Uo3feeUd79uzR5MmTNWfOHCUmJqpcuXLq1auXWrZsaXW9orzXwqhRo4Yk6eTJkwoKClJ4eLjq1KmjevXqadWqVTp16pTee+891atXTz/++KOWLl2qxMREOTg4qEGDBnr55ZdVsWLFfNfdsWOHFi1apKSkJJUvX159+vTR448/ftNarly5otjYWG3bts3yXTz11FPq1q2bbG1tJcky1W3ixInauXOntm/fLklq166dBg4cqN9++03z5s1TYmKifH19NWTIED366KOWe/zyyy9atGiRfvvtN2VlZcnLy0sNGzbUK6+8UuR3dy8oUvDSsWNHzZ8/X5cvX9YTTzwhLy8vnT9/Xlu3btUXX3yhwYMHG1UnAAAAAOAvTCaTTCaTVZudnV2hz9+zZ4+mTJmipk2batCgQUpPT9e8efN09erVAsOSqVOn6oknnlDHjh114MABxcbGytfXVx06dFDjxo3Vo0cPxcXFWU2B8vLyKtRzSP831WjLli1q1aqVVZ93331XW7duVUREhOrUqaMDBw4oLi5OycnJGjt2rOX8ESNG6MKFC+rfv798fHz01VdfafLkybpy5YqeeuqpAu+/e/duvfXWW2rdurWGDx9+03d46dIlTZkyRV26dFHv3r21ceNGTZkyRYGBgapUqdJtvdfCOH36tCRZrfGyd+9eHT16VH379pWLi4sqVKigH3/8UaNHj1aDBg00btw4Xb58WUuWLNHQoUO1aNEilSlTxnL+yZMnNWvWLPXq1UseHh765JNPNHHiRHl4eKhevXoF1mEymTRq1Cj98ccf6tGjhwICAnTo0CEtW7ZMGRkZ+TKBefPmqUWLFnrrrbe0b98+xcXFyWw266efftKLL74ob29vLVu2TG+++aZWrVold3d3Xb58WaNGjVLNmjX12muvydnZWcnJydq/f/9tvbt7QZGCly5duigjI0OrV6/Wxo0bJUm5ublycHBQRESEOnfubEiRAAAAAABrvXr1svpcu3btWy6W+ldLlixR5cqVNWnSJMu6IVWrVtWAAQWve9OqVSv16dNHkhQSEqJDhw5p27Zt6tChgzw8PCzroRRlCtT+/fvzhSxNmza1+gX+2LFj+uqrr9S7d2/LMz/66KOytbXV4sWLFR4erqpVq2rjxo1KSkrSzJkzFRwcLElq1KiRUlNT9eGHH6pdu3b5QpWvvvpK7777rrp27aq+ffvest5Lly5p8uTJql+/viSpbt26+umnn7R9+3bLSJ+ivteCmM1mmUwmXb16VQcOHNC///1vlSlTRnXq1LH0yczM1IIFC6zCrTfffFN+fn565513LM/6yCOPqEePHlqzZo0GDRpk6Zuamqp58+ZZpjSFhoaqT58+WrJkiWbNmlVgXVu2bNHPP/9s9Y7zZsTExsaqa9eu8vT0tPQPCQmx3PPRRx/Vzp07tW7dOs2ePdvyLF5eXnrppZe0Y8cOtWvXTsePH9eFCxc0YMAAVatWzXKtu7nIcXErUvAiSX379tXzzz+vQ4cOKT09Xe7u7nr44YeLbXVlAAAAAMCtTZo0yWpxXScnp0KfazKZ9Ouvv6pbt25Wi7UGBQXdcAmJxo0bW32uWrWqvv322yJWba1atWp69dVXJUnZ2dk6duyYli5dqvHjx2vKlCmysbHRvn37JClfQNO6dWstXrxYCQkJqlq1qvbt2ycfHx9LIPDXflFRUTp+/LjVmqUfffSRPv30Uw0bNkzPPPNMoep96KGHLKGLdG0npooVKyolJUXS7b3XgkRHRys6OtryuU6dOho+fLhKlSplaXv44YetQpfLly/r8OHD6t69u1XAVL58edWuXVt79+61ukfZsmWt1rGxs7PT448/rlWrVslsNlumDf3V7t27Va5cOdWuXdtqtNWjjz6qDz/8UAcPHlSzZs0s7Q0bNrQ639/fX0lJSVYBUt5IobNnz0qSKlSoIFdXV0VHR6tTp04KDg7Ot4j0/aZIwcvKlSt19uxZDRs2TKGhoVbHZs+erbJlyyo8PLxYCwQAAAAA5BcQEFCkxXX/Kj09XTk5OQXucvTXEQt/df1ORQ4ODsrOzr6t++dxcnKyrF8iXQsY3NzcNGHCBO3evVuNGjVSRkaGpPzTlvI+5x3PyMgocGpTXtv1m8HEx8fLx8dHzZs3L3S9rq6u+dr++h5u570WpEePHmrWrJkcHBxUtmzZAu97/bNmZmYqNze3wPt4eXnp0KFDt6zH09NTV69eVVpaWoHvMi0tTWfOnMkXguXJ+y7yXD9Aw8HBId+zODo6SpLlHbq6umrGjBmKjY1VdHS0Ll++rICAAPXu3btI39W9pEjBy8aNG/XCCy8UeKxatWr66KOPCF4AAAAA4B7n7u4ue3t7paWl5TuWmpoqf3//u1/U/1elShVJ0tGjR9WoUSNL4HP+/HmroOn8+fOS/i8QcnNzU1JSUr7r5fVzd3e3ap8wYYLee+89vfLKK4qOji7UejS3UlzvtVy5claBVEGu31ba1dVVNjY2Sk1Nzdf3/Pnz+YKzgvqlpqbKwcHhhtuOu7m5qXz58nrrrbcKPH67a9hcLzAwUJMmTbKMIIqLi9OECRO0aNGiG+60fC/LP3boJlJSUgpcCVm6NhzozJkzxVIUAAAAAMA4dnZ2qlGjhrZv367c3FxL++HDhy0LuRZV3lbGWVlZd1Tb0aNHJf1fUJI3dSg+Pt6q39dffy1JloVgg4ODdfbsWf38889W/bZs2SJPT0/LlJY8Pj4+mjFjhsxms/71r39ZApo7YcR7Lay80UPbtm2zmgaUnJysAwcO5FswNyUlRQcPHrR8NplM2rZtm2rWrFngNCPp2jowKSkplntd/+f6cOtO2dnZqVatWurfv7/MZrP++OOPYr3+3VKkES+lSpWyzLu63tmzZ9kzHAAAAADuE3369FFkZKTefPNNdejQQenp6YqNjZWXl1e+0RSFUblyZUnShg0b1LZtW9nb26tq1ao3/T3x0qVLll/+r169qqNHjyouLk7e3t6WaSVVqlRR69attXTpUplMJj3yyCOWXY1at25tGQHRrl07rVu3Tm+99Zb69esnHx8fff311/rpp58UGRlZ4G5F3t7emjFjhv71r39ZRr78deef21Hc77Uo+vbtq9GjR2vs2LF65plndPnyZS1dulSurq75Zq94enpq4sSJ6t27t9zd3fXJJ5/oxIkTN92yuVWrVtq4caNGjhyp559/XtWqVVNOTo5OnTqlH374QVOmTLFMHbpdO3bs0GeffaZmzZqpfPnyunLlitatWydnZ2c98sgjd3TtklKk4KVu3bpas2aNHn/8cav/8WRnZ2vNmjVWC+QAAAAAwL0s9yF3+fddUKL3V2ZOid0/JCREr7/+upYtW6Zx48bJz89PgwYN0rJlywpcU+RWAgMD1bt3b3322Wf6/PPPZTabtXLlyptOPzl69KiGDBkiSbK3t1fZsmXVrFkz9ezZ06qGUaNGydfXVxs3brQEM926dVPPnj0tfR566CHNnDlTMTEx+uCDD3T58mX5+/tr7Nixat269Q1rKFOmTL7wxdvbu8jPn6e432tRNGzYUFOnTlVsbKzGjx8vR0dH1a9fXwMGDMgXKFWoUEHh4eFatGiRTp48KV9fX73xxhtWiwdfz97eXtOmTdOKFSv02WefKTk5WQ899JAqVKigxo0by96+yPv35FOhQgU5OjoqLi5O586dk7Ozs2rWrKlp06bdt4vs2sTHx+feuts1iYmJGjp0qNzd3dW6dWuVKVNGf/75p77++mulp6drzpw5CgwMNLLe25abmyuz2azg4OAi7W0PFJdTSee0eknhVn1v3a2K3o4bdst+4/vPV5B/7TstDQBgoML++8+//X9vh5P2a/yiwbfsx/dfOAkJCSVdwn3rzJkz6tGjhyIjI9WmTZuSLueBwXv9eytSHBUYGKgZM2bo/fff14oVK5SbmysbGxvVqVNHEyZMuGdDFwAAAACAtaysLM2fP18NGjSQu7u7Tp06pVWrVsnLy0uPPfZYSZd33+K94npFHgdUs2ZNzZo1S1lZWbpw4YJKly5ttZc4AAAAAODeZ2trq3PnzmnWrFnKyMiQi4uL6tevr4EDB8rJyamky7tv8V5xvduegFWqVCkCFwAAAAC4Tzk4OGjy5MklXcYDh/eK6xVpO2kAAAAAAAAUHsELAAAAAACAQQheAAAAAAAADELwAgAAAAAAYBCCFwAAAAAAAIMQvAAAAAAAABiE4AUAAAAAAMAg9iVdAAAAAACUBF8PH9nm5JbY/c32NkpOO1vk8zZt2qSoqCgtX75cFSpUMKCy/7N06VLVrVtXDRo0uKfqAu4nBC8AAAAA/pZsc3J1ZtPPJXb/cu3qlNi9Cys2Nlbdu3cvVPACoGBMNQIAAAAAADAIwQsAAAAAPGBycnK0ePFide3aVa1bt1bXrl21ePFi5eTkWPqYTCYtXrxYERERatOmjZ555hkNHTpUP/98bRRQWFiYJGn58uUKCwtTWFiYli5dekd1hYWFadOmTVZtycnJCgsL0969e61q+/DDD9W5c2e1a9dO//rXv/THH38UeP7atWsVHh6uNm3aaNCgQdq/f7/Cw8Otaj127JgmTZqk8PBwtW3bVhEREZo1a5YyMzPz1ViY60lSYmKiXn/9dXXs2FFt27bVP//5T+3bt++O3g8eTEw1AgAAAIAHzLvvvqutW7cqIiJCderU0YEDBxQXF6fk5GSNHTtWkrRy5Up99NFH6tevnwIDA3Xp0iX9+uuvysjIkCTNmzdPQ4YMUbt27dSxY0dJko+Pz12pPzY2Vv/+97/14osvKiQkRL/99pveeOONfP0+//xzzZs3T+3bt1eLFi106tQpTZ48OV+gkpKSovLlyyssLEylS5dWSkqKPvroI40ePVpz584t8vUOHz6s4cOHKzAwUJGRkSpVqpQ+/fRTRUZGas6cOapRo4YxLwb3JYIXAAAAAHiAHDt2TF999ZV69+6tXr16SZIeffRR2draavHixQoPD1fVqlV14MABNWzYUF26dLGc27RpU8vfa9WqJUny9va2/P1uuHDhgj766CN17NhRAwYMsNRvZ2en999/39LPbDYrNjZWjRo10quvvmpp9/Ly0ltvvWV1zUaNGqlRo0aWzyaTSXXr1lV4eLgSExMVGBhYpOvFxMSobNmyio6OloODgySpYcOG6tu3r5YtW6YpU6YU3wvBfY+pRgAAAADwAMmb7tKqVSur9tatW0uSEhISJEk1a9bUzp079eGHH+rAgQO6evXq3S30Bo4ePaorV67o8ccft2pv0aKF1eezZ8/q7Nmz+dqbNWsmOzs7q7acnBytWLFCvXv31pNPPqlWrVopPDxcknT8+PEiXS8rK0sJCQlq0aKFbG1tZTKZZDKZJEkhISGWqVpAHka8AAAAAMADJG+qkJeXl1V73ue84xEREXJwcNDmzZu1fPlyOTk5qUWLFho4cKDc3d3vbtF/ce7cOUmSh4eHVbunp2eh+tnZ2eWrf+HChfrkk0/Uq1cvBQUFydnZWWazWUOGDFF2dnaRrpeRkSGz2ay4uDjFxcUV+Axms1m2toxzwDUELwAAAADwAHFzc5MknT9/XhUqVLC0nz9/3uq4vb29unXrpm7duik1NVXfffedYmJidOXKlXxTa4qLg4ODJejIk56ebvW5TJkykqS0tDSr9tTU1EL1M5lM+a65detWhYeHW0a5SNLJkydv63qurq6ytbXVM888o7Zt217/iJJE6AIr/DQAAAAAwAMkODhYkhQfH2/V/vXXX0uS6tWrl+8cT09PdezYUSEhITp27Jil3cHBQVlZWcVWm6+vr9X1JWnHjh1Wn6tWraqHHnpI27Zts2r/5ptvrD77+PjIx8cnX/v3339vmfqTJysry7IWS57PP//8tq7n5OSkOnXq6MiRI6pevbpq1KiR7w/wV4x4AQAAAID70O7du/NNJ3J1dVVISIhat26tpUuXymQy6ZFHHrHsatS6dWsFBARIkl5//XVVq1ZNQUFBcnV1VWJionbv3m3ZwUiSKleurJ07dyo0NFSlS5dWmTJl5O3tfdt1hYWFafXq1apQoYICAgK0d+/efAFL6dKl9fzzz2v58uVydna27Gr0xRdfSJJsbGwkXRtV0qtXL02fPl3Tpk1TixYtdPr0aa1cuVIuLi6WfpIUGhqq1atXy93dXeXKldOuXbu0c+dOq/sW5XqDBw/W8OHDNWrUKLVv315eXl5KT0/X4cOHZWNjo/79+9/0HeHvheAFAAAAwN+S2d5G5drVKdH734nZs2fna6tWrZoWLVqkUaNGydfXVxs3blRcXJy8vb3VrVs39ezZ09I3ODhY27Zt03/+8x9duXJF5cqVU3h4uLp3727pM2zYMM2ZM0djx47V1atX1atXL/Xu3fu264qIiFBmZqZWrlypy5cvq1GjRho7dqwGDx5s1b9Xr14ym8364osvtG7dOj388MN67bXXNHToULm4uFj6PfXUU7p8+bLWrl2rr776SgEBARo7dqxef/11q355z/HBBx8oJydH9evX17Rp09S1a1er+xb2ekFBQYqJiVFsbKzmzJmjixcvyt3dXUFBQXrmmWdu+n7w92MTHx+fW9JFvPHGG/r+++81ffp0hYSESJKSkpIUHR2tgwcPytPTUz179lT79u2tzluxYoXWrVunzMxMhYSEaOTIkfmS1Ty5ubkym80KDg7Ot8I1cDecSjqn1Uu+LVTf1t2q6O24YbfsN77/fAX5177T0gAABirsv//82//3djhpv8YvGnzLfnz/hZO3aw8eLPHx8Zo4caJWrVqlcuXK3bDfoUOHNHjwYM2aNUt169a94/sW9/Xw91PiI142btyYb85gTk6OxowZo8DAQMXExOjgwYOKjo5WuXLlLMFMXnI7ZswY+fn5ae7cuZowYYJmzZpVEo8BAAAAACgmBw8e1M6dO/Xwww/L0dFRhw8f1r///W+1aNHCKnQ5ffq0NmzYoDp16sjFxUW///67VqxYoZo1a6pOnaKPZiru6wFSCQcvycnJWrp0qebOnasXXnjB0r5r1y6lpKTogw8+kLOzswICApSQkKD169dbgpf169erc+fOat68uSRp1KhRioiIUGJiogIDA0vkeQAAAAAAd87JycnyO+Dly5dVpkwZPfnkk/nWTilVqpSOHj2qL7/8UpmZmXJzc1Pjxo01YMAAqzVZCqu4rwdIJRi8mM1mvfPOO+rdu7d8fHysjv3yyy+qWbOmnJ2dLW0NGjTQwoULJUnZ2dk6cuSIBgwYYDnu5+cnX19fHTx4kOAFAAAAAO5jAQEBhZrN4OXlpWnTphXbfYv7eoBUgttJr127Vk5OTnryySfzHUtNTZWHh4dVm4eHh2U/9YyMDJnNZnl6et6wDwAAAAAAQEkrkREvf/zxh9asWaOYmJjbOj83t8TXAwYAAAAAALilEgleDh06pPPnz+vFF1+0ah81apTCwsJUvnx5HT9+3OpYWlqaZRSMu7u7bG1tlZqaesM+Bdm1a5cWL15s+dykSRM1adJEklSxYkU5OjrmOyc7O1snTpwo8Hqenp75Rt3kOXHihLKzs/O1Ozo6qmLFigWek5qamu+Z8lDf/V/fpcuZ8g90KfDY6eOXlJOdP1B0cnRV/SrNCzwn6dxvBbbfbn33+vujPuqjPup7EOrzreQkB8f8A46vZpsL7C9J/mWqy79MdcvnC+cv6+jVo4bUd6+/vwe5vgsXLqtpkPUOnv/7fbsuZ2feE/UV5F56fzt27NCOHTss7cHBwQoNDS3wHAC420pkO+nMzEydPXvWqq1v376KjIxUaGioDh8+rIkTJ2rDhg1ycnKSJE2dOlUXL17U5MmTJUkvv/yyGjVqpH79+km6tvp0t27dtHDhwgLXeGE7aZQ0tpMGgL8ntpNGYbCddPFiO2kA95ISGfHi6uoqV1fXfO2+vr7y8fGRh4eHvL29FRUVpV69eunQoUPaunWr3nnnHUvfZ599VnPnzlVQUJDKly+v+fPnq27duiysCwAAAAAA7hklup30jTg4OGjq1KmKjo7WgAED5OXlpREjRli2kpak9u3bKzU1VTNnzlRmZqZCQkIUGRlZglUDAAAAAABYu2eCl/j4eKvPlSpV0syZM296TkREhCIiIgysCgAAAAAA4PbdM8ELAAAAANxNpctWUFYJ/kpUSjm6kHKyyOdt2rRJUVFRBR6bPn26QkJCtHfvXr3yyitauXKlfH19JUnh4eFq166devfufVv3W758uSpUqHDDfomJifruu+/03HPPyc3NrdDXz8rKUufOnXXx4kUtXrxYAQEBVseTk5O1adMmtWnTRn5+flbHli5dqrp166pBgwZFeqbicrvvtLC+++47nTp1Si+88EKhz0lNTdXq1au1Y8cOnTlzRjY2NqpQoYKaNm2qzp07y93d3ZBa70Tez9j1AzJuJTk5WV27dtWMGTNUr169It/TbDarffv2t+58hwheAAAAAPwtZclecYezSuz+PYJK3dH548ePl4+Pj1Vb5cqVb9h/0qRJN90F9k4lJiYqNjZWrVu3LlLwsn37dl28eFGStHnzZg0YMMDqeHJysmJjY1WnTp18wUtsbKy6d+9eYsGL0b777jvt2bOn0MHLsWPH9Oqrr8rGxkbPPfecgoKCJEmHDx/WJ598orNnz+q1114zsuS7ysvLS/Pmzbvpz/2NbNq0SSaTieAFAAAAAFCwwMDAm45AuV716tVv3akEbN68WW5ubqpQoYK+/vpr9e/fn51ob0NOTo7eeustlSpVSvPmzbMK2UJCQtS5c2f973//K7kCDeDo6KhatWqVdBm3RPACAPeQs2nJSr3wZ6H6epb2lo+Hr8EVAQCAB0VB02K2bNmi2NhYJScnq2LFiurbt6/Wrl0rX19fjR492ur81NRULVy4ULt375arq6vatGmjPn36yM7Ozmr6U/fu3S3n/HWqU0HOnj2r//73v+rYsaOqVaum6Oho7dmzR6GhoZJkmTIlyWozlRkzZljaly9fruXLl0uSevXqZXm+vXv3atmyZfrll1+Um5ur2rVra/DgwVZTmUaMGCGTyaQePXpowYIFOnnypPz9/TVo0KB8o2jWrVunNWvW6Pz586pWrZqGDBmS73mOHTum5cuX68CBA0pNTZW3t7dCQ0PVr18/q51933nnHe3Zs0eTJ0/WnDlzlJiYqHLlyqlXr15q2bKlpc+XX34pSQoLC5MklStXTqtWrSrwXW7fvl1JSUkaP358gSObHB0d1ahRI8vnS5cuadGiRdq+fbsyMjLk6+urp59+Wl26dLH0yXv/EydO1M6dO7V9+3ZJUrt27TRw4ED99ttvmjdvnhITE+Xr66shQ4bo0UcfzfecEyZM0Ny5c5WYmKgyZcrohRdeUKdOnQp8jjwrV67U9u3bdeLECUnXRnP17NnT8rMhFTzVqDDf6YgRIyzbzue92+DgYM2cOVPnz5/XggULtGfPHmVkZKh06dIKCgrSqFGj5OnpedOab4TgBQDuIakX/tT4RYML1Xd8//kELwAA/I2ZTCaZTCartqKMFNmzZ4+mTJmipk2batCgQUpPT9e8efN09erVAsOSqVOn6oknnlDHjh114MABxcbGytfXVx06dFDjxo3Vo0cPxcXFWU2B8vLyumkNX331lcxms9q0aaNKlSpp7ty5+vLLLy2/XFevXl3Dhw/XrFmzNHToUNWsWVPStV/C582bpyFDhqhdu3bq2LGjJFnuu2PHDr3xxhtq3Lixxo4dK0latWqVhg0bpkWLFqlcuXKWGk6dOqX58+crIiJC7u7uWrNmjd58802tXLnSMmVq48aNmjNnjtq1a6ewsDCdPHlSEydO1KVLl6yeJyUlReXLl1dYWJhKly6tlJQUffTRRxo9erTmzp1r1ffSpUuaMmWKunTpot69e2vjxo2aMmWKAgMDValSJfXo0UNpaWn69ddfNWXKFEnXdgC+kf/+97+ytbW1ClduxGw2a+zYsfr111/Vp08fBQQEaOfOnZo3b54yMjLUt29fq/7z5s1TixYt9NZbb2nfvn2Ki4uT2WzWTz/9pBdffFHe3t5atmyZ3nzzTa1atcpqHZlLly5pwoQJCg8PV+/evbV161bNnj1bLi4uatOmzQ1rTE5OVocOHeTr6yuz2ay9e/dq7Nixmjp1qho2bHjT57vVdzpixAi9/fbbMplMGjlypCTJ2dlZkvT222/rzJkzGjBggMqWLavU1FT997//VVbW7U9LJHgBAAAAgPtQr169rD7Xrl1bc+bMKfT5S5YsUeXKlTVp0iTZ2NhIkqpWrZpvjZU8rVq1Up8+fSRdm7py6NAhbdu2TR06dJCHh4dl/ZWiTIHavHmz/P39LdNFmjRpou+//16ZmZlydXWVi4uLqlSpIula2PLXaSV5f/f29s433WTu3LkKDg62BBaSVL9+fXXr1k1r1qzR0KFDLe3p6emaNWuWKlasKOla2NOlSxft2rVLrVu3ltls1tKlS9WwYUOr9VHc3d01adIkq/s2atTIKvgwmUyqW7euwsPDlZiYqMDAQMuxS5cuafLkyapfv74kqW7duvrpp5+0fft2de/eXRUqVJCHh4fs7e0LNZ3m7Nmz8vDw0EMPPXTLvrt27VJCQoJGjx6ttm3bSpIaNmyoK1euaNWqVfkW4Q0JCdGgQYMkSY8++qh27typdevWafbs2apTp46kayHbSy+9pB07dqhdu3ZWzzly5EjLSJ7Q0FD9+eefWrx4sVq3bm352bte3ogm6VpQ1KBBA6Wlpek///nPLYOXW32nVapUkbOzs0wmU753e+DAAfXv31+tW7e2tD3++OM3vd+tELwAAAAAwH1o0qRJVovrOjk5Ffpck8mkX3/9Vd26dbP6xTcoKEjly5cv8JzGjRtbfa5ataq+/fbbIlb9fw4dOqQ//vhD/fr1s7S1bdtW33zzjb755hs99dRTt3XdEydO6NSpU4qIiLAaEfTQQw/pkUce0c8//2zVv2LFipZf0CXJ09NTHh4eOnv2rKRrgUZKSkq+oKtFixZ6++23rdpycnK0Zs0abd68WWfOnNGVK1csx44fP24VvDz00EOW0EW6NhWoYsWKSklJua3nLop9+/bJ1tbWEobkad26tb744gsdPHhQTZo0sbRfH3T4+/srKSnJErpIUqVKlSTJ8t7y2Nraqnnz5lZtYWFhmj59uv788898C0TnOXz4sGJjY/XLL78oNTVVubm5lnvfyq2+05upWbOmVq9eLRsbG9WvX19VqlS5YThUWAQvAAAAAHAfCggIKNLiun+Vnp6unJycAtcCudE6FtfvVOTg4KDs7Ozbur8ky/olTZo0UWZmpqRro1jc3Nz05Zdf3nbwkpqaKkmaNm2apk2blu/4X6cZSVLp0qXz9fnrs507d05S/vdiZ2eX750sXLhQn3zyiXr16qWgoCA5OzvLbDZryJAh+d7VX9d8Kei+ReXj46OffvpJWVlZKlXq5jtm5a1dcv3UpbypYenp6Vbt178jBweHfPU7OjpKUr76S5cuLXt76+gh7z5nz54tMHg5e/asRo4cqZo1a2rYsGHy9vaWvb29/vOf/+i///3vTZ+toHrzai7Mux03bpyWLl2qf//735ozZ47KlCmjp59+Wt27d5etre0tzy8IwQsAAAAA/M24u7vL3t5eaWlp+Y6lpqYWalTBnbh69ari4+MlSf379893/Oeff9bJkydvK1jKmyLz0ksvKSQkJN/x60OAWylTpoyk/wt08phMJmVkZFi1bd26VeHh4QoPD7e0nTx5skj3u10NGjTQ559/rl27duUbYXI9Nzc3XbhwQVevXrUKX86fPy9JVtOM7tSFCxeUk5Nj9d7z7nOj0S67d+9Wdna2pkyZYgl0pGsjiozm6empV155Ra+88oqSkpL0xRdfaMmSJXJ3d9czzzxzW9e8vbgGAAAAAHDfsrOzU40aNbR9+3bLFA7p2vSO06dP39Y1836BL8wipD/88IMyMjLUp08fzZgxw+rPm2++Kena+i+3uq6Dg0O+dn9/f/n6+ur3339XjRo18v2pVq1akZ7Lx8dHZcuW1bZt26zav/nmm3yLG2dlZeUbRfL5558X6X5/VZQRMM2bN5e/v78WLlyYb8SKdC3s2r17t6RrO/iYzeZ8z/T111/LwcGhWLdoNpvNlt2Q8sTHx6tcuXLy9vYu8JwrV67Izs7OaoRJamqqvv/++2Krq6Cfnev5+/trwIABKl26tI4dO3bb92LECwAAAAD8DfXp00eRkZF688031aFDB6Wnpys2NlZeXl63taZF5cqVJUkbNmxQ27ZtZW9vr6pVqxa4E8/mzZvl4uKiF154ocDFYNeuXavNmzerd+/eqlixouzs7LRx40aVLl1ajo6O8vf3l7OzsypXrqydO3cqNDRUpUuXVpkyZeTt7a3hw4frjTfe0NWrV/X444/L3d1dqampOnDggHx9fa22TL4VW1tb9ezZU9OnT1dUVJRlV6MVK1bIxcXFqm9oaKhWr14td3d3lStXTrt27dLOnTuL+Cb/T+XKlZWRkaH//Oc/qlGjhhwdHVW1atUC+9rb22vChAmKjIzUSy+9pM6dOysoKEhms1mJiYn65JNPVLduXYWGhio0NFTBwcGaMWOG0tPTVaVKFe3atUuff/65evToUawjXpydnbVgwQKlp6erQoUK2rp1q/bs2aPXXnvthj9nISEhev/99zV58mR17NhR58+fV1xcnDw8PPKFXberSpUq+s9//qOtW7eqQoUKcnJykpeXlyIjI9WqVStVqlRJdnZ2+v7773XhwgWrbbKLiuAFAAAAwN9SKeWoR9DN18Iw+v63v0LKnQsJCdHrr7+uZcuWady4cfLz89OgQYO0bNmyAtcfuZXAwED17t1bn332mT7//HOZzWatXLky39bUaWlp2rVrl5588skb7sDTvn17vffee0pISFC9evU0bNgwrVq1SiNGjJDZbNaMGTMs7XPmzNHYsWN19epV9erVS71791bjxo01a9YsLV++XNOnT1dWVpa8vLxUq1atfAvK/r/27jwsqrr///gLEJRFWURFEBN3zR2VvDW33DKzbtM7kcoyc9+61b6WWmaWmWVumVvuuaftbncubahZ4YZmpt7igqggCLIPvz/8OXcj4AzKYUCej+vyupxzPuec9zlnZph5zedzji0ee+wxJScna+PGjfruu+8UFBSk119/3eKuSZLM9SxcuFAZGRlq3Lixpk+frtDQ0Dxv89Z2jx07psWLFysxMVEVKlTQ2rVrc20fFBSkxYsXa926dfrmm2+0ZMkSOTg4qFKlSurYsaN69Ogh6WaY9M4772jx4sVas2aNEhISVLFiRQ0dOjRPoZQt3NzcNHHiRM2dO1enTp2Sj4+Phg0bZnHno9tVqVJFEydO1NKlS/Xqq6+qQoUKeuqpp3Tt2jVt3bo1X+oKDQ1VVFSU3n//fSUnJ6thw4Z67733VKNGDX399de6dOmSHB0dFRgYqPHjx6tVq1Z3vS2HXbt2ZVlvVvRlZWXJZDKpYcOGebq3PZBfLkRd1bqltl31vWOfKnpn5Qir7Sb1n6eagfXutTQUIieijmjS4iE2teX8A0WDre//vPcXb7a+/3P+bXPw4EF7l1BkXbp0Sc8++6zGjBmjTp062bscFHHvvvuufv31V23YsMHepdgVPV4AAAAAoBhKTU3VvHnz1KRJE3l6eurChQtau3atfHx89PDDD9u7POC+QfACAAAAAMWQo6Ojrl69qlmzZikhIUHu7u5q3LixBg0aJFdXV3uXB9w3CF6Ae5R44ZKSY65abWcq7VMA1QAAAAC2cXZ21pQpU+xdBu5j48aNs3cJhQLBC3CPkmOuatszI622e3jj0gKoBgAAAABQmDhabwIAAAAAAIC7QfACAAAAAABgEIIXAAAAAAAAgxC8AAAAAAAAGITgBQAAAAAAwCAELwAAAAAAAAbhdtIAAAAAiiUn79K6lplmt+17ObkoM+76XS9/+PBhbdiwQUePHlVCQoLc3NxUq1Ytde7cWe3bt5eDg0M+Vpv/Ro0aJT8/P40bN06StHXrVk2bNk27du3Kl/Xbur5Ro0bp4MGD2ab7+vpqw4YNkqR3331X0dHRmjlzpiQpIiJCL7/8stasWSM/P7881TVq1ChlZmZqzpw5Vus3mUzq2rVrntaPwofgBQAAAECxdC0zTf2+W2W37S955BmVvstl161bpwULFig4OFiDBg1S+fLllZCQoH379mnatGkqW7asGjVqlJ/l3teqVq2q0aNHW0xzdnbOtX2NGjX00UcfycfHx7Catm7dqszMTIKX+wDBCwAAAAAUIREREVqwYIGefPJJjRgxwmLeww8/rF69esnRkatK5IWbm5vq1q1rc3t3d/c8tUfxRvACAAAAAEXImjVrVKZMGQ0aNCjH+Q888ID5/zExMVq2bJkOHjyoK1euyNvbWw0aNNDAgQNVtmxZc7tly5Zp+fLlWr58uebMmaMjR47I29tbPXr0UM+ePS3Wf/HiRS1dulQHDhxQYmKifH191aJFCw0fPtzcJiIiQitWrNDx48eVlZWlevXqaciQIQoKCsrTvmZmZmrt2rXatm2boqOjVaZMGbVv3179+/eXi4uLuV10dLRmzZql33//Xa6ururYsaMCAwPztK28yGmoUUpKij7++GPt3r1b6enpCg4O1tNPP63hw4frww8/zNYDaf/+/VqwYIHOnz+vwMBADR48WE2aNJFkOfypXbt2kqSGDRuahzqhaCF4AQAAAIAiIjMzUwcPHlTLli0tgofcxMXFyd3dXQMGDJCXl5euXbumL774QsOHD9eyZcuyreP1119X165d1bt3b/3888/66KOPVKVKFTVt2lTSzYBj8ODBcnV1Vb9+/RQQEKBLly7pwIED5nWEh4drwoQJeuihh/Taa69JktauXasRI0Zo8eLFqlChgs37+/bbbys8PFy9e/dWvXr19N///ldLlixRdHS0Jk+eLEnKyMjQmDFjlJKSopEjR8rLy0tff/21du/ebfN2pJvH9u8cHR3zdJ2cGTNmaPfu3erbt69q1aql3377TVOmTMmx7YULFzRv3jyFhYXJ09NT69ev18SJE82h2qhRo/TOO+8oMzPTPATKzc0tT/uDwoPgBQAAAACKiPj4eKWmptp8QddatWqpVq1a5seZmZkKCQnRP//5T+3fv1+tWrWyaP/000/r0UcflSQFBwfrt99+0+7du83By9KlS5WWlqZPPvnEosdMly5dzP+fO3euGjZsqLfffts8rXHjxurTp4/Wr19v0TPmTg4dOqRdu3Zp3Lhx6ty5s7mm0qVL65133tGff/6pGjVqaNu2bTp//rw++ugj8/CfkJAQ9evXz6btSNKRI0fUoUMHi2ljxozRY489ZtPyZ8+e1Xfffaf+/fsrNDRUktS0aVOlpKRo8+bN2drHx8dr1qxZqlSpkqSb14zp2bOn9u3bp44dO6pKlSpyc3NTZmYmQ5ruAwQvAAAAAHAf+/LLL/XVV1/pwoULunHjhnn62bNns7V96KGHLB5XrVpVMTEx5scHDhxQixYtLEKXvzt37pwuXLigsLAwix4kpUqV0oMPPqjDhw/bXPf+/fvl7Oys1q1bW6yrWbNmkm4GMzVq1NCRI0dUvnx5i4DC0dFR7dq107Jly2zaVrVq1TR27FiLaXm5W9GxY8dkMpnUtm1bi+lt2rTJMXipVKmSOXSRJG9vb3l5eeny5cs2bxNFB8ELAAAAABQRnp6eKlmypC5dumRT+82bN2vu3LkKCwtTgwYN5OHhIQcHB40bN05padlvpV2mTBmLx87Ozhbt4uPj5evrm+v24uLiJEnTp0/X9OnTs83PyzCja9euKT09Pde7+iQkJEiSYmNj5e3tnW1+TtNy4+rqatEzKK9iY2MlSV5eXjbVULp09vtZ3X6scf8geAEAAACAIsLJyUkNGzbUr7/+qrS0NKvXedm5c6c6depkMewmPT3dHFrklaenp65cuXLH+ZL00ksvKTg4ONv8EiVs/wpapkwZubi4aPbs2TnOv9XrxsfHR2fOnMk2/1YIVBBu3Vb62rVrcnV1tUsNKLy4xxgAAAAAFCGhoaGKj4/XokWLcpz/3//+V1FRUZKk1NRUOTs7W8zfsmWLTCbTXW27adOmCg8PN/fwuF1gYKD8/Px05swZ8/Vl/v6vWrVqNm+refPmSktLU2JiYo7rutXz5sEHH1RMTIwiIyPNy5pMJu3ateuu9vFu1KlTRw4ODtku6Ltnz567Xqezs7NSU1PvsTIUBvR4AQAAAIAipFGjRho4cKAWLFig//73v+rUqZPKly+vhIQE/fLLL9qyZYvee+89BQYGqnnz5lq/fr0qV66soKAgHTlyRF999ZU8PDzuatsvvPCC9u7dq6FDhyosLEwBAQG6cuWK9u/fr/Hjx8vBwUEjR47UhAkTlJ6errZt28rT01NxcXE6evSo/Pz8st2e+k772b59e02aNEm9evVS7dq15ejoqOjoaO3du1eDBw9WQECAOnfurDVr1uj1119X//795eXlpa+++sriejZGq1y5sjp06KClS5cqKytLNWvW1O+//66ff/5ZkvJ0d6RbqlSpoi+++EI7d+5UQECAXF1dVbly5fwuHQWA4AUAAABAseTl5KIljzxj1+1n6u56NDz99NOqU6eONm7cqHnz5ikhIUHu7u6qXbu2XnvtNTVs2FCS9Nxzz+nGjRtavXq1kpOTVadOHU2bNk3jx4+/q+36+flp3rx5WrJkiRYtWqTk5GT5+vqqZcuW5jYPPfSQZs2apVWrVun9999XamqqfHx8VLduXbVv3z5P2xs/frw2bdqkLVu2aNWqVXJxcVGFChXUvHlz8/VUnJ2dNX36dM2ePVszZ85UqVKl9MgjjygkJEQffvjhXe3n3fj3v/8tV1dXrV27Vunp6WrSpIlGjhyp1157Te7u7nleX2hoqKKiovT+++8rOTlZDRs21MyZM/O/cBjOYdeuXVn2LqIgZGVlyWQyqWHDhnJycrJ3ObiPXI6I1LZnRlpt9/DGpdq0/oBN6+zYp4reWTnCartJ/eepZmA9m9aJouFE1BFNWjzEpracf6BouBB1VeuW/mC1He/9xZut7/+cf9scPHjQ3iUAkqQ1a9ZoxYoV+uKLL6xejwf3L3q8AAAAAABwj8LDw3X69GlVr15dDg4OOnjwoNavX68ePXoQuhRzBC8AAAAAANwjV1dX/fDDD1q9erVSU1NVvnx5Pfvss+rTp4+9S4OdEbwAAAAAAHCPGjVqpI8//tjeZaAQ4nbSAAAAAAAABiF4AQAAAAAAMAjBCwAAAAAAgEEIXgAAAAAAAAxC8AIAAAAAAGAQghcAAAAAAACDELwAAAAAAAAYpIS9CwAAAAAAewjwd1eJEil2235GRimdv5CU5+W2bt2qadOmmR+XKlVKnp6eqlGjhtq3b682bdrI0ZHf2Nu1a6f/+7//U5cuXXJtc+tYrlq1SgEBAQVYHYoTghcAAAAAxVKJEinKSJxnv+17DLmn5SdNmqRy5copLS1NMTEx2rt3r6ZMmaKvv/5a77zzjkqWLJlPlQK4FwQvAAAAAFAEVa9e3aKXRqdOnbRnzx69+eabWrBggUaMGGHH6gDcQvACAAAAAPeJNm3aqFWrVvr66681YMAAlSpVSllZWVqwYIEOHDigixcvytnZWdWqVdNLL72k2rVrm5eNiIjQyy+/rMmTJ2vv3r36/vvvJUldunTRoEGD9Oeff+qjjz7SyZMn5efnp6FDh6pp06bm5Q8dOqT169frjz/+UEJCgipUqKC2bdvqmWeekYuLi7ldZmamli1bpm+//VZJSUmqW7euRo4cqeeffz7b0KCIiAitWLFCx48fV1ZWlurVq6chQ4YoKCjI3MZkMmnZsmX65ptvLNaXX3IashQdHa3Q0FB9+OGHatSoUZ73a+PGjdq4caNiY2NVrVo1DR06VFOmTFGXLl30/PPPS5JOnz6tVatW6ejRo4qLi5Ovr6+aN2+uF198UR4eHhY12rI+STp58qSWLl2qQ4cOKS0tTTVq1NCAAQPUoEGDfDteyI7gBQAAAADuIyEhIfrhhx/0xx9/qGHDhjKZTIqNjdW//vUv89CkH3/8USNGjNCCBQssQgxJ+uijj9SmTRu98cYbOnTokFauXCmTyaQDBw7o6aeflq+vr1asWKGJEydq7dq18vT0lCRdvHhRtWvXVteuXeXm5qbz589r9erVunDhgiZMmGBe//Lly/Xpp5/q6aefVnBwsP7880+L+beEh4drwoQJeuihh/Taa69JktauXasRI0Zo8eLFqlChgnl9q1atUq9evdS0aVP98ccf5vYFydb9+uabb/TRRx+pa9euatOmjS5cuKApU6YoMTHRol1MTIwqVqyodu3aqXTp0oqJidGGDRs0btw4zZ07N8/rO3HihEaOHKnq1atrzJgxKlmypL766iuNGTNGc+bMUa1atYw5MCB4AQAAAID7Sbly5SRJV69elSQ5OTlZBBEmk0lNmzbVxYsX9c0332jYsGEWywcHB2vw4MGSpKZNm2rv3r3atGmTZs+erfr160uSfHx89NJLLyk8PNzck6Nz584W66lfv74CAwP18ssva/jw4fL09NT169e1YcMGPf744xo4cKB5G05OTvr4448tlp87d64aNmyot99+2zytcePG6tOnj9avX6/hw4crMTFRGzZsULdu3cw1N2vWTE5OTlq4cOG9Hcg8sHW/TCaTli9frpCQEI0dO9Y83cfHR2+88YbFOkNCQhQSEmJ+nJmZqQYNGqh37946efKkqlevnqf1zZ8/X+XLl9eMGTPk7Ows6eax6tevn1asWGFxnJG/CF4AAAAA4D7k4OBg/v9vv/2mTz/9VH/99Zfi4+PN03O6+1GzZs0sHgcGBioqKsocukhS5cqVJUmXL182T7tx44Y+/fRT7d69W5cvX1Z6erp53vnz5+Xp6alTp04pJSVFbdu2tdhGmzZtLAKKc+fO6cKFCwoLC1NmZqZ5eqlSpfTggw/q8OHDkqS//vpLycnJ2dbXrl27Ag1ebN2vy5cv6/Lly3rhhRcs2rVs2VJOTk4W0zIyMrR+/Xpt375dly5dUkrK/+7AdfbsWVWvXt3m9aWmpurgwYMKCwuTo6OjxTENDg7Wf/7zn7ved1hH8AIAAAAA95FLly5JksqWLSvp5hCTcePGqVWrVho7dqy8vb3l5OSkJUuWKDU1NdvypUuXtnjs7Oyc7Zoit67ZkpaWZp42bdo0HT58WM8++6yCgoLk6uqqmJgYvf766+Z2t3rheHl5WazP29vb4nFcXJwkafr06Zo+fXq2Gm8NM7q1vtuX9/HxybaMkWzdr9zaOTk5mYds3bJo0SJ9+eWX6tu3r2rWrCk3NzeZTCYNHTrU6vG8fX0JCQkymUxauXKlVq5cmeM+mEwmbkNuEIIXAAAAALiP7Nu3Ty4uLqpZs6Yk6YcffpCvr68mTpxo0QsmOTk5375o37puzNixYy0uInv7dUZuhUHXrl2zmH4raLnlVmjw0ksvKTg4ONv2SpQoYbG+uLg4i2vVxMbG3uWeZOfs7GwRMEmy6DX09zqs7Vdu7TIzM7Otc+fOnerdu7d69+5tnnb+/Pm7Wp+Hh4ccHR31xBNPZBsSdguhi3E4sgAAAABwn/j+++/1888/q1u3bipVqpQkKSUlRSVKlLAIXU6fPq2jR4/m23bT09NlMpks7l4k3bzw699VrVpVpUqV0u7duy2m79mzx+JxYGCg/Pz8dObMGdWqVSvbv2rVqkmSqlWrluP6du3alT87JsnPz0+nT5+2mBYeHm7x2Nb9KleunMqVK5dt+k8//WQx/Ee6OTzo1rVYbrn9eNq6PldXV9WvX19//fWXatSokeMxhXHo8QIAAAAARdDJkycVHx+v9PR0xcTEKDw8XHv27FFwcLD5Aq/SzYu0bty4UTNnztTDDz+sixcvavny5fLz88u3Wtzd3fXggw+ar6vi7u6u7777Tn/88YdFu9KlS6tXr15atWqV3NzczHf/+fbbbyX977o0Dg4OGjlypCZMmKD09HS1bdtWnp6eiouL09GjR+Xn56eePXvKw8PDYn1NmzbV8ePHtWXLljzVv3///mzDkzw8PBQcHKx27dpp3bp1CggIUFBQkCIiIrIFLLbul6Ojo/r27av3339f06dPV5s2bXTx4kWtWbNG7u7uFuFY8+bNtW7dOnl6eqpChQrat2+f9u7da7HdvKxvyJAhGjlypF555RV17dpVPj4+io+P14kTJ+Tg4KD+/fvn6ZjBdgQvAAAAAIqljIxSKuExxK7bl5LuevlJkyZJunm9FW9vb9WoUUMTJ05UmzZtLL5wN23aVKNGjdL69ev17bffKjAwUEOHDtXevXsVHR19j3vxPxMmTNDs2bM1Y8YMOTk56aGHHtLrr7+uQYMGWbTr27evTCaTvv32W23atEl16tTR//3f/2n48OFyd3c3t3vooYc0a9YsrVq1Su+//75SU1Pl4+OjunXrqn379hbry8rK0jfffKPNmzerTp06evvtt7NdcPZOZs+enW1atWrVtHjxYoWFhSkxMVFr1qxRcnKyQkJC9Nprr2nIEMvnjq379dhjjyk5OVkbN27Ujh07FBQUpNdee03jx4+3aDdixAjNmTNHCxcuVEZGhho3bqzp06crNDTUYru2rq9mzZqaP3++li9frjlz5igpKUmenp6qWbOmnnjiCZuPFfLOYdeuXVn2LqIgZGVlyWQyqWHDhtmuFg3ci8sRkdr2zEir7R7euFSb1h+waZ0d+1TROytHWG03qf881QysZ9M6UTSciDqiSYtt+wDI+QeKhgtRV7Vu6Q9W2/HeX7zZ+v7P+bfNwYMH7V0C8mjXrl2aPHmy1q5da75w7v3A1v06duyYhgwZolmzZqlBgwb3vN38Xh/uDT1eAAAAAAAFJjIyUnv37lWdOnXk4uKiEydO6NNPP1WbNm2KdOhi635dvHhRn3/+uerXry93d3edOXNGq1evVu3atS1u2W2r/F4f8h/BCwAAAACgwLi6uurgwYPavHmzkpOTVbZsWT366KNF/hojtu5XyZIlderUKW3btk2JiYkqU6aMHnroIQ0cONBiiJit8nt9yH8ELwAAAACAAhMUFKRZs2bZu4x8Z+t++fj4aPr06fm23fxeH/Ift5MGAAAAAAAwCMELAAAAAACAQQheAAAAAAAADELwAgAAAAAAYBCCFwAAAAAAAIMQvAAAAAAAABiE4AUAAAAAAMAgJexdAAAAAADYg1MZX8Wnmuy2fc+SjspMuJLn5ZYtW6atW7dq7dq1BlRlm+joaIWGhurDDz9Uo0aNJEmjRo2Sn5+fxo0bZ7e6gMKI4AUAAABAsRSfatKLq3+x2/Y/6dNMHnbbev4bNWqUnJ2d7V0GUOgQvAAAAAAA7lmVKlXsXQJQKBG8AAAAAEARFhsbqwULFmjfvn26ceOGKleurNDQUD3yyCPmNlu3btW0adM0Z84cbdy4Ufv375eHh4c6deqkF154QU5OTua2J06c0Ny5c3X8+HF5eXmpe/fuSk9P17Zt2+44vOn2oUZ52WZ8fLyWLFmin3/+WfHx8fLz81OvXr30+OOPZ9vPX3/9VQkJCSpdurRq1qypV155Rd7e3vl5SIF8RfACAAAAAEVUSkqKRo0apevXr6t///4qV66cduzYoSlTpiglJUWPPfaYRfupU6fqkUce0eOPP66jR49q+fLl8vPzU7du3STdDEBGjx6tsmXL6tVXX5Wzs7M2bNig6OhoOTg43FWN1raZlJSk4cOHKzU1VX379lXFihX1yy+/aObMmUpPT1ePHj0kSe+8844uXbqkgQMHqnz58oqLi9Nvv/2m1NTUeziCgPEIXgAAAACgiNqyZYuioqI0c+ZMNWzYUJIUEhKiuLg4ffLJJ+rSpYtFz5IOHTrohRdekCQFBwfr2LFj2r17tzkE2bBhg1JSUjR9+nSVK1dOktSsWTOFhobKxcXlrmq0ts3PPvtM0dHRWrJkiSpVqmRul5iYqOXLl+uJJ56Qk5OTjh49qv79+6tjx47mdbdt2/auagIKEreTBgAAAIAi6tChQypXrpw5dLmlY8eOiouL09mzZy2mP/TQQxaPq1atqpiYGPPjyMhI1a1b1xy6SFLJkiUVEhJy1zVa2+b+/ftVp04dVaxYUZmZmeZ/zZo1U0JCgs6cOSNJql27ttatW6dNmzbp9OnTysrKuuuagIJEjxcAAAAAKKISEhLk4+OTbfqtafHx8RbTy5QpY/HY2dlZaWlp5sdXr15VUFBQruu7G9a2ee3aNZ0/f14dOnTIcfmEhARJ0uuvv65ly5bp008/1Zw5c1S2bFl1795dzzzzjBwd6VOAwovgBQAAAACKqDJlyigqKirb9NjYWEmSp6dnntZXtmxZxcXF5bo+I5QpU0ZeXl4aPnx4jvMDAwMlSd7e3nr55Zf18ssvKyoqSt9++62WLl0qT09PPfHEE4bVB9wrYkEAAAAAKKIaNmyoy5cv6/DhwxbTv/vuO3l7e6ty5cp5Wl/dunV17NgxXb582TwtNTVV+/bty5d6c9K8eXNFRUWpfPnyqlWrVrZ/bm5u2ZYJDAzUwIEDVbp0aZ0+fdqw2oD8QI8XAAAAACiiunTpok2bNumNN97Qiy++qHLlyuk///mPDhw4oDFjxlhcWNcWvXr10hdffKGxY8eqb9++5rsaOTs7Gzacp2fPntq1a5dGjhypnj17KjAwUCkpKTp79qyOHDmit956S4mJiRozZow6dOigypUry8nJST/99JOuX7+upk2bGlIXkF8IXgAAAAAUS54lHfVJn2Z23X7mPd4JuVSpUpo5c6bmz5+vhQsXKjk5WYGBgXrttdcs7v5jc02envrggw80Z84cTZ06VZ6ennr88ccVHx+vQ4cO3VuxufDw8NDcuXO1YsUKrVmzRleuXJGHh4cCAwPNdy1ycXFRjRo19PXXX+vSpUtydHRUYGCgxo8fr1atWhlSF5BfCF4AAAAAFEuZCVfkYc/t32Xo8vzzz+v55583P/bx8dFrr712x2W6dOmiLl26WF2XJNWsWVNz5sz5X52ZmRowYIBq1aplnubn56ddu3ZZLDdz5sy73mbp0qU1dOhQDR06NMf6XVxcNHr06BznAYUdwQsAAAAAwGzJkiXy9/eXn5+f4uPj9fXXX+vs2bN69dVX7V0aUCQRvAAAAAAALKxYsUJXrlyRk5OTatasqenTp6t69er2LgsokgheAAAAAABm/fr1U79+/exdBnDf4HbSAAAAAAAABiF4AQAAAAAAMIjdhhqtXr1aW7duVUxMjEqWLKl69epp0KBBCgwMlCRFRUVpxowZioyMlLe3t5577jl17do12zo2bdqkxMREBQcHa/To0fLx8bHH7gAAAAAAAGRjtx4v/v7+GjlypJYuXaoPPvhAjo6O5qtkZ2Rk6NVXX5Wnp6fmz5+vZ599VjNmzNCvv/5qXn7Lli1auXKlRowYoblz5yopKUlvvvmmvXYHAAAAAAAgG7v1eGnbtq3F4xdeeEEvvviiYmNjdezYMcXExGjhwoVyc3NTUFCQDh48qM2bNys4OFiStHnzZj311FNq3bq1JOmVV15RWFiYTp48ydW2AQAAAABAoVAorvGSmpqqrVu3KjAwUF5eXjp+/Lhq164tNzc3c5smTZro2LFjkqS0tDT99ddfaty4sXn+rfvMR0ZGFnj9AAAAAAAAObHr7aTDw8M1efJkpaamqlKlSpo2bZocHR0VFxcnLy8vi7ZeXl66du2aJCkhIUEmk0ne3t65tgEAAAAAALA3u/Z4adSokRYvXqxZs2bpgQce0FtvvaWMjAyry2VlZRVAdQAAAAAAAPfGrj1eXF1dFRAQoICAANWuXVvdu3fXvn375O3trbNnz1q0vXbtmrkXjKenp7lnTG5tcrJv3z4tWbLE/LhFixZq0aKFJKlSpUpycXHJtkxaWprOnTuX4/q8vb2z9bq55dy5c0pLS8s23cXFRZUqVcpxmbi4uGz7dAv1Fd76klOT5N2zkyQpMyFJCdt/ynGZ5LRkBVZ3z3HexbM3lJGWPVB0dfFQ4yqtc1wm6uqfOU6/vb6/K4zHj/os67t+PVn/qNlVUVf/zPUcN67SWq4uHroem6xT6acKtL5bCuvxoz7qK+z1+VV2lbNL9t+90tNMObaXpMCyNRRYtob58d9f+8Xt+N3P9d16//+73898r+S0xEJRX04K0/ELDw9XeHi4eXrDhg3VvHnzHJcBgILmsGvXrkLRfSQ9PV2PP/64Jk2apMzMTE2ePFmff/65XF1dJUlTp05VUlKSpkyZIkkaMGCAQkJC9OKLL0qSLl68qD59+mjRokU5Xlw3KytLJpNJDRs2lJOTU8HtGO57lyMite2ZkVbbPbxxqTatP2DTOjv2qaJ3Vo6w2m5S/3mqGVjPpnWiaDgRdUSTFg+xqS3nHygaLkRd1bqlP1htx3t/8Wbr+z/n3zYHDx60dwkAYGa3Hi8LFixQq1atVLZsWcXFxWnNmjXy9PRUvXr1VLJkSfn6+mratGnq27evjh07pp07d+rdd981L//kk09q7ty5qlmzpipWrKh58+apQYMG3NEIAAAAAAAUGnYLXmJiYjRp0iTFx8fL09NTDRo00AcffCAPDw9JN3u4zJgxQwMHDpSPj49GjRplvpW0JHXt2lVxcXGaOXOmEhMTFRwcrDFjxthrdwAAAAAAALKxW/AyceLEO86vXLmyZs6cecc2YWFhCgsLy8eqAAAAAAAA8o9d72oEAAAAAABwPyN4AQAAAAAAMAjBCwAAAAAAgEEIXgAAAAAAAAxC8AIAAAAAAGAQghcAAAAAAACDELwAAAAAAAAYhOAFAAAAAADAIAQvAAAAAAAABiF4AQAAAAAAMAjBCwAAAAAAgEEIXgAAAAAAAAxC8AIAAAAAAGAQghcAAAAAAACDELwAAAAAAAAYhOAFAAAAAADAIAQvAAAAAAAABiF4AQAAAAAAMAjBCwAAAAAAgEEIXgAAAAAAAAxC8AIAAAAAAGAQghcAAAAAAACDELwAAAAAAAAYhOAFAAAAAADAIAQvAAAAAAAABilh7wIAGC/t+g2lJ6VabefsXlIupd0KoCKgeEm4lqTE6ylW23mULqUyXu4FUBEAAAAKCsELUAykJ6Xq9Gf7rLYLeiqE4AUwQOL1FK1b+oPVdk+/8DDBCwAAwH2GoUYAAAAAAAAGIXgBAAAAAAAwCMELAAAAAACAQQheAAAAAAAADELwAgAAAAAAYBCCFwAAAAAAAIMQvAAAAAAAABiE4AUAAAAAAMAgBC8AAAAAAAAGIXgBAAAAAAAwCMELAAAAAACAQQheAAAAAAAADELwAgAAAAAAYBCCFwAAAAAAAIMQvAAAAAAAABiE4AUAAAAAAMAgBC8AAAAAAAAGIXgBAAAAAAAwSAl7FwAAAADcjxKuJSnxeopNbTMzTAZXAwCwF4IXAAAAwACJ11O0bukPNrXt2KeKscUAAOyGoUYAAAAAAAAGoccLAABAHiVeuKTkmKs2tTWV9jG4GqBgnL8ep5gb1622K+9WWgGlvQugIgAoGgheAAAA8ig55qq2PTPSprYPb1xqcDVAwYi5cV1Pf7XQart1jw8geAGAv2GoEQAAAAAAgEEIXgAAAAAAAAxC8AIAAAAAAGAQghcAAAAAAACDELwAAAAAAAAYhOAFAAAAAADAIAQvAAAAAAAABiF4AQAAAAAAMAjBCwAAAAAAgEEIXgAAAAAAAAxC8AIAAAAAAGAQghcAAAAAAACDELwAAAAAAAAYhOAFAAAAAADAIAQvAAAAAAAABiF4AQAAAAAAMAjBCwAAAAAAgEEIXgAAAAAAAAxC8AIAAAAAAGAQghcAAAAAAACDELwAAAAAAAAYhOAFAAAAAADAIAQvAAAAAAAABiF4AQAAAAAAMAjBCwAAAAAAgEEIXgAAAAAAAAxC8AIAAAAAAGAQghcAAAAAAACDlLB3AUBhdfl6suKSUq2288g0FUA1AAAAAICiiOAFyEVcUqomfv6b1XbTg30LoBoAAAAAQFHEUCMAAAAAAACDELwAAAAAAAAYhOAFAAAAAADAIAQvAAAAAAAABiF4AQAAAAAAMAjBCwAAAAAAgEEIXgAAAAAAAAxSwl4bXrVqlb7//ntFRUXJzc1NzZs318CBA+Xl5WVuExUVpRkzZigyMlLe3t567rnn1LVrV4v1rF69Wps2bVJiYqKCg4M1evRo+fj4FPDeAAAAAAAAZGe3Hi9HjhxRr169tGDBAk2ZMkVnzpzR5MmTzfMzMjL06quvytPTU/Pnz9ezzz6rGTNm6NdffzW32bJli1auXKkRI0Zo7ty5SkpK0ptvvmmP3QEAAAAAAMjGbj1e3n33XYvHw4YN07Bhw5SYmCgPDw/t27dPMTExWrhwodzc3BQUFKSDBw9q8+bNCg4OliRt3rxZTz31lFq3bi1JeuWVVxQWFqaTJ0+qevXqBb5PAAAAAAAAf1dorvESHx8vFxcXubq6SpKOHz+u2rVry83NzdymSZMmOnbsmCQpLS1Nf/31lxo3bmye7+/vLz8/P0VGRhZs8QAAAAAAADkoFMFLWlqaVqxYoc6dO8vJyUmSFBcXZ3G9F0ny8vLStWvXJEkJCQkymUzy9vbOtQ0AAAAAAIA92T14yczM1DvvvCNJGjx4sM3LZWVlGVUSAAAAAABAvrDbNV4kyWQyadq0aTp79qxmzpxpHmYkSd7e3jp79qxF+2vXrpl7wXh6esrR0VFxcXG5trndvn37tGTJEvPjFi1aqEWLFpKkSpUqycXFJdsyaWlpOnfuXI7r8/b2ztbj5pZz584pLS0t23QXFxdVqlQpx2Xi4uKy7c8t1Ffw9aVmOec4XZKa+DrKrYTDze1mpMi7ZydJUmZCkhK2/5TjMslpyQqs7p7jvItnbygjLXuY6OriocZVWue4TNTVP3Ot7/bjl56UqmR/FzmkZ6nU5fQcl0kv7aRzl6PlfCP7Mbwfz29hre/69WT9o2ZXRV39M9dz3LhKa7m6eOh6bLJOpZ8q0PpuKazHr7DWl3Q9xeL1Hx+bpoTYnF+LHL+iUV+GyWR+779dcuRfSon8K8d5fpVd5eyS/Xev9DRTju0lKbBsDQWWrWF+/PfXflE9fsWlvluv/fQ0k6LPJue4TBkfZ3n6uCg5IVX/qGl5987fz3yv5LREw+q7xdbjl3rjup4uX9s8b8vVU0rIzL4+U0amTp06lW26kfWFh4crPDzcPL1hw4Zq3rx5jssAQEGzW/CSlZWl6dOnKzIyUrNnz1aZMmUs5teuXVvr169XcnKyOZD5/fffVadOHUk334CrVaumiIgI88V2L168qOjoaNWtWzfHbYaEhGjAgAHm4Uy2cHFxUdWqVfO8f7n9cbiTO/0hyg31/U9+13ci+lquy/125X8fkJ8IKKXDG7db3Zari6uiTiblqb7ktET9fOLbPC0jZT9+SdFxOv39f++4jPP1TFUq5yd3P9uPYVE+v3diz/pORN2wes5/P/O9JKlT626qGmjb/hWX42cLe9R3Ieqqok6esLpMhmOiUkzXpRxy34ysGzoRde1mPaV9Vc7LL9/qywvO700lHB0VZ8N7/+1y+/ItSfVzmX57EGvLa7+wH7/iUp8tr/2E2HQlxKardvNyNv/Nt9fxi790Vuv2Hre6jGMJJ1UNqFyg9VWtWlVhYWHm6QcPHszzugDAKHYLXmbMmKHw8HBNnTpVkhQbGyvpZk8WJycnNW/eXL6+vpo2bZr69u2rY8eOaefOnRZ3Q3ryySc1d+5c1axZUxUrVtS8efPUoEED7mgEACiSEpLj9M7KEVbbTeo/zyJ4AVCwEi9cUnLMVavtTKV9CqAaAEBhZ7fg5euvv5YkDRkyxGL6mjVr5OfnJ2dnZ02dOlUzZszQwIED5ePjo1GjRpl7t0hS165dFRcXp5kzZyoxMVHBwcEaM2ZMge4HAAAAipfkmKva9sxIq+0e3ri0AKoBABR2dgtedu3aZbVN5cqVNXPmzDu2CQsLs+hWCAAAAAAAUFjY/a5GAAAAAAAA9yuCFwAAAAAAAIMQvAAAAAAAABiE4AUAAAAAAMAgBC8AAAAAAAAGIXgBAAAAAAAwiN1uJw0AAICi5fz1OMXcuG61XXm30goo7V0AFQEAUPgRvAAAAMAmMTeu6+mvFlptt+7xAQQvAAD8fww1AgAAAAAAMAg9XgAAuEuJFy4pOeaq1Xam0j4FUA0AAAAKI4IXAADuUnLMVW17ZqTVdg9vXFoA1QAAAKAwYqgRAAAAAACAQQheAAAAAAAADELwAgAAAAAAYBCu8QLgrpy/HqeYG9ettivvVppbigIAAAAotgheANyVmBvX9fRXC622W/f4AIIXAAAAAMUWQ40AAAAAAAAMQvACAAAAAABgEIIXAAAAAAAAgxC8AAAAAAAAGITgBQAAAAAAwCAELwAAAAAAAAYheAEAAAAAADAIwQsAAAAAAIBBCF4AAAAAAAAMQvACAAAAAABgEIIXAAAAAAAAg5SwdwEACo8bJUvqSnyaTW0zTFkGVwMAAAAARR/BCwCzxExp0aE4m9p2r0HwAgAAAADWMNQIAAAAAADAIAQvAAAAAAAABiF4AQAAAAAAMAjBCwAAAAAAgEG4uC4AIE/OX49TzI3rNrUt71ZaAaW9Da4IAAAAKLwIXgAAeRJz47qe/mqhTW3XPT6A4AUAAADFGkONAAAAAAAADEKPFwC4B4kXLik55qrVdq7ly8rDv0IBVAQAAACgMCF4AYB7kBxzVdueGWm1XedVswheAAAAgGKIoUYAAAAAAAAGIXgBAAAAAAAwCMELAAAAAACAQbjGCwAAwH0o7foNpSel2tTW2b2kXEq7GVwRAADFE8ELABSALE9vXYiyfvejzAxTAVQDoDhIT0rV6c/22dQ26KkQghcAAAxC8AIABSA5NVObVv5gtV3HPlWMLwYAAABAgeEaLwAAAAAAAAahxwsAAABwn7H1Gj9c3wcAjEfwAgAAANxnbL3GD9f3AQDjMdQIAAAAAADAIAQvAAAAAAAABiF4AQAAAAAAMAjXeAGKMG8HRyWeibDesERFw2sBAAAAAGRH8AIUZUnxOr5wgNVmtYZvKYBiAAAAAAC3Y6gRAAAAAACAQQheAAAAAAAADELwAgAAAAAAYBCCFwAAAAAAAIMQvAAAAAAAABiE4AUAAAAAAMAgBC8AAAAAAAAGIXgBAAAAAAAwCMELAAAAAACAQQheAAAAAAAADELwAgAAAAAAYBCCFwAAAAAAAIOUsHcBAAAAAGzj7eCoxDMR1huWqGh4LQAA2xC8AAAAAEVFUryOLxxgtVmt4VsKoBgAgC0YagQAAAAAAGAQghcAAAAAAACDELwAAAAAAAAYhOAFAAAAAADAIAQvAAAAAAAABuGuRgAAAMXcjZIldSU+zWq7DFNWAVQDAMD9heAFAACgCPF2cFTimQjrDUtUtHmdiZnSokNxVtt1r0HwAgBAXhG8AAAAFCVJ8Tq+cIDVZrWGbymAYgAAgDVc4wUAAAAAAMAgBC8AAAAAAAAGIXgBAAAAAAAwCMELAAAAAACAQQheAAAAAAAADELwAgAAAAAAYBCCFwAAAAAAAIMQvAAAAAAAABiE4AUAAAAAAMAgBC8AAAAAAAAGIXgBAAAAAAAwCMELAAAAAACAQQheAAAAAAAADELwAgAAAAAAYJAS9trw999/r88//1wnTpxQUlKS/vOf/8jJyck8PyoqSjNmzFBkZKS8vb313HPPqWvXrhbrWL16tTZt2qTExEQFBwdr9OjR8vHxKehdAQAAAAAAyJHderykpqaqSZMmCg0NzTYvIyNDr776qjw9PTV//nw9++yzmjFjhn799Vdzmy1btmjlypUaMWKE5s6dq6SkJL355psFuQsAAAAAAAB3ZLceLx07dpQkRUREZJu3b98+xcTEaOHChXJzc1NQUJAOHjyozZs3Kzg4WJK0efNmPfXUU2rdurUk6ZVXXlFYWJhOnjyp6tWrF9h+AACA+8fl68mKS0q12s4j01QA1QAAgPuB3YKXOzl+/Lhq164tNzc387QmTZpo0aJFkqS0tDT99ddfGjhwoHm+v7+//Pz8FBkZSfACAADuSlxSqiZ+/pvVdtODfQugGgAAcD8olBfXjYuLk5eXl8U0Ly8vXbt2TZKUkJAgk8kkb2/vXNsAAAAAAADYW6EMXqzJysqydwkAAAAAAABWFcqhRt7e3jp79qzFtGvXrpl7wXh6esrR0VFxcXG5tsnJvn37tGTJEvPjFi1aqEWLFpKkSpUqycXFJdsyaWlpOnfuXK513t7r5pZz584pLS0t23QXFxdVqlQpx2Xi4uKy7dMt1Ffw9aVmOec4XZKa+DrKrYTDze1mpMi7ZydJUmZCkhK2/5TjMslpyQqs7p7jvItnbygjLXug6OriocZVWue4TNTVP3OtL6NGJ2WVKm1+fP5arJL9XeSQnqVSl9NzXCa9tJOuXTqnOg7Zj/tfWd5Ky+HtooyTix4tWzXH9R1JuqKjSVdynFcYzm9+P/9K1a0m17rVcpyX23OihIuDKlZ2s5iWnJCqf9Tsqqirf+Z6jhtXaS1XFw9dj03WqfRTNtWXn8cv9cZ1Pejum+v5fdQnSGVKlLzZ9nKcTiVlFGh9UsG9vySnJsmpjLsyE5KyzXMq464ynVreXD4x1uL1Hx+bpoTYnF+Lt85vtm2lJer3M9/nqT6pcB+/wljf9aRUtfL7310Wf7uSqRsZ2ZfJzDKZ3/tvlxz5l1Ii/8pxnl9lVzm7ZP/dKz0t92vGBJatocCyNcyPYxJNSq//lCSpxIkdckhNyLZMVsky5vf+25W4ninn65k5bquqQ6xKKvu8VDnpVFbOd4580N1X9dwth17deu0XtvN7u7utLzdlOrWUU5n/vdZvvfbT00yKPpuc8zI+zvL0cTG////d72e+V3JaYrZlskqWUUbNjjmuz/FSpJxijuU4L6Wcs7KcHSymnbscLfeMJJuOX+qN63q6fG3zvC1XTykhM/v5MGVk6tSpU9mmS8ad3/DwcIWHh5unN2zYUM2bN89xGQAoaIUyeKldu7bWr1+v5ORkubq6SpJ+//131alTR9LNN99q1aopIiLCfLHdixcvKjo6WnXr1s11vSEhIRowYIDFbautcXFxUdWqOX+xvJPc/jjcyZ3+EOWG+v4nv+s7EX0t1+V+u/K/D8hPBJTS4Y3brW7L1cVVUSezfzm7k+S0RP184ts8LSNJJf60rCegbX/998KFOy7jfD1T7hUq6diV6zZvJyEzTetijue5vsJwfu/kbupLucMXrdxkpGVle07Ubl7O6jm/9eW7U+tuqhpo2/7l5/GLv3Q219BFkrbEnjb/v0dIa1WtULlA67MmP59/lxNScgxdpJtBbNz/f2+o1ztUUSdz/hJyu9zClbup704Kw/G7E3vVdyL6mn786aLVZZwcHM3nNy9y+/ItSfVzmX57EPt00zZKPvzZHbfjkJqgAC8fq+/9t8stXLmTozkE7dZe+0X9+Xf5vzk/R24P2m157SfEpishNt2m9/9bHFIT5GzlOZCTnH58qdTCT+5+uR+fvx+/+EtntW6v9b/7jiWcVDXA+nt/tlru4fxWrVpVYWFh5ukHDx7M87oAwCh2G2qUkJCgkydP6vz585KkkydP6uTJk0pOTlbz5s3l6+uradOm6fTp0/r222+1c+dO/fOf/zQv/+STT+qzzz7TDz/8oJMnT2r69Olq0KABF9YFAAAAAACFht16vPz888+aNm2a+fGgQYMkSR9++KEaNWqkqVOnasaMGRo4cKB8fHw0atQoc+8WSeratavi4uI0c+ZMJSYmKjg4WGPGjCnw/QAAAAAAAMiN3YKXLl26qEuXLrnOr1y5smbOnHnHdYSFhVl0KQQAAAAAAChMiuRdjQAAAAAAAIoCghcAAAAAAACDELwAAAAAAAAYhOAFAAAAAADAIHa7uC4AFGaXrycrLinVajuPTFMBVHNv0q7fULoN++LsXlIupd0KoCIAAACg+CB4AYAcxCWlauLnv1ltNz3YtwCquTfpSak6/dk+q+2CngoheAEAAADyGUONAAAAAAAADEKPFwAAAED31zBTW90oWVJX4tNsapthyjK4GgC4PxG8AAAAALq/hpnaKjFTWnQozqa23WsQvADA3WCoEQAAAAAAgEEIXgAAAAAAAAxC8AIAAAAAAGAQghcAAAAAAACDELwAAAAAAAAYhOAFAAAAAADAIAQvAAAAAAAABiF4AQAAAAAAMAjBCwAAAAAAgEEIXgAAAAAAAAxC8AIAAAAAAGAQghcAAAAAAACDELwAAAAAAAAYhOAFAAAAAADAIAQvAAAAAAAABiF4AQAAAAAAMAjBCwAAAAAAgEEIXgAAAAAAAAxC8AIAAAAAAGAQghcAAAAAAACDELwAAAAAAAAYpIS9CwAAoLC5fD1ZcUmpVtt5ZJoKoBoAAAAUZQQvAADcJi4pVRM//81qu+nBvgVQDQAAAIoyhhoBAAAAAAAYhB4vAFBEeTs4KvFMhPWGJSoaXgsAAACAnBG8FFKXr0Ur7voVq+28S/uqnJdfAVQEoNBJitfxhQOsNqs1fEsBFIOiLi4lUwmpmVbblSnpJO9STgVQEQAAwP2B4KWQirt+RZMWD7HablL/eQQvAIB7lpCaqQURcVbbDWzkTfACAACQB1zjBQAAAAAAwCD0eAEA4D6Wdv2G0m24NXaWi2sBVAMAAFD8ELwAAHAfS09K1enP9llt5/506wKoBgAAoPhhqBEAAAAAAIBBCF4AAAAAAAAMQvACAAAAAABgEIIXAAAAAAAAg3BxXQAAYLPUzOv6/VKS1Xbl3UoroLR3AVQEAABQuBG8AAAAm8WmXNdz3y622m7d4wMIXmDV+WtJiklIsdqufJlSCvByL4CKAADIfwQvAAAAsIuYhBSFLt5jtd2a/m0IXgAARRbBC4BCgV89AQAAANyPCF4AFAr86gkAAADgfsRdjQAAAAAAAAxC8AIAAAAAAGAQhhoBAFDEeDs4KvFMhG2NS1Q0tBYAAADcGcELAABFTVK8ji8cYFPTWsO3GFwMAAAA7oShRgAAAAAAAAYheAEAAAAAADAIwQsAAAAAAIBBCF4AAAAAAAAMwsV1AQCSpBslS+pKfJrVdhmmrAKoBgAAALg/ELwAACRJiZnSokNxVtt1r0HwAgAAANiKoUYAAAAAAAAGIXgBAAAAAAAwCEONAAAAABS489eSFJOQYrVd+TKlFODlXgAVAYAxCF4AAAAAFLiYhBSFLt5jtd2a/m0IXgAUaQw1AgAAAAAAMAjBCwAAAAAAgEEYagQAsDvG+QMAAOB+RfBSxHk7OCrxTITVds5lyqukj7/xBQHAXWCcPwAAAO5XBC9FXVK8ji8cYLVZ7eErCV4AAAAAAChgXOMFAAAAAADAIAQvAAAAAAAABiF4AQAAAAAAMAjBCwAAAAAAgEG4uG4+SLxwSckxV21q61q+rDz8KxhcEVB4VHKX0lNPWW+YxZ1qAAAAANx/CF7yQXLMVW17ZqRNbTuvmkXwgmLFWUmKj5ljtV2WxhdANQAAAABQsBhqBAAAAAAAYBB6vNzB5evJiktKtdrOI9NUANUAAAAAAICihuDlDuKSUjXx89+stpse7FsA1RQ+56/HKebGdavtyruVVkBp7wKoCAAAAACAwoXgpYBleXrrQpT1C/FmZhT+XjQxN67r6a8WWm237vEBBC8AAAAAgGKJ4KWAJadmatPKH6y269inivHFAAAAAAAAQ3FxXQAAAAAAAIPQ4wUAYJhK7lJ66inrDbPcjS8GhdL5a0mKSUixqW35MqUU4MVzBQAAFC0ELwAAwzgrSfExc6y2y9L4AqgGhVFMQopCF++xqe2a/m0IXgAAQJFD8AIAAAAg39DbEQAsEbwAAIB8xxev4o3zX7zR2xEALBG8AACAfMcXr+KN8w8AwP9wVyMAAAAAAACDELwAAAAAAAAYhOAFAAAAAADAIEX+Gi+rV6/Wpk2blJiYqODgYI0ePVo+Pj72LgsAAAAAAKBoBy9btmzRypUr9eqrr8rf319z587Vm2++qVmzZtm7tELHoWQ5JUXH2dQ2xd1NiSYHq+0yTFn3WhYAAAAAAPe1Ih28bN68WU899ZRat24tSXrllVcUFhamkydPqnr16naurnDZtetHVYnztKmt+9OttejodavtutewLXix9ZaSjk6ecipR1qZ1Im/2/PyTqsi284/7D+e/eOP8F1+c++KN8w8AhUeRDV7S0tL0119/aeDAgeZp/v7+8vPzU2RkJMHLbfaE/6wqtR+1y7ZtvaVkitsbupx01Wq78mVKKcDLPT9KKzbsef5hf5z/4o3zX3xx7os3zj8AFB5FNnhJSEiQyWSSt7e3xXQvLy9du3bNPkXhnsQkZqjPJz9ZbbemfxuCFwAAAABAkVBkg5esLNuvL5KVlWVun5mZaftyJpNcbLjvk0lZcixV0qZ1mrJMciph/fopWVlZcilhfZ2mLEklSllfX1qWspysb1eSskyZKiGT9YamLLk6Wn8KmTKzZDI527A+k1xtOTYmU57O493K7/Nv67mX7Hf+bT73/3/jnP/8P/+2nvub65R9zr+N517i/Jvb2em9X7Lf+c/vcy8VzPnnb7/1jfPez99+q80Kwfm/9dnfwcG24w8ARnLYtWtXkbxCalpamh599FG99957Cg4ONk8PDQ1VaGiounfvbp6WlZUlk8mkX375RQcOHDBPb9q0qZo1a1agddvLL7/8Umz2Fdlx/os3zn/xxvkvvjj3xVtxO/85fc4PCQkheAFQKBTZ4EWSBgwYoJCQEL344ouSpIsXL6pPnz5atGiRxTVe/t7jRSL5BgAAAIoDPvcDKAyK7FAjSXryySc1d+5c1axZUxUrVtS8efPUoEGDbBfWdXBw4E0XAAAAAAAUuCIdvHTt2lVxcXGaOXOmEhMTFRwcrDFjxti7LAAAAAAAAElFfKgRAAAAAABAYWbDddthq969e+ubb765p3VERESoXbt2BXLl/oLy7rvv6u2337Z3GcWKUcf87bff1rvvvpvv60X+2rp1q3r16mXvMlBI8HwoHu7Hzw/IX3weAwD7KdJDjQrKuHHjVKpUKU2aNCnbvPnz52vfvn1aunSp5s+fL1dX13va1oMPPqjPPvtMTk5O97Qe6eaH7enTp+u5555T375973l9d2vYsGF223ZR1Lt3bz377LN67LHHLKaPGjVK9evXN19M+k5uP+a9evXSiy++qC5duuRrrbDu6tWrWrx4sQ4cOKD4+Hh5e3urTp06GjlypLy9ve95/W+//bacnJw0bty4fKg2//HcuzejRo3SwYMHJUkuLi7y9fVV/fr11bNnz2zXM7NVYX/OFGW2vn//8ssvWrFihU6fPq2srCz5+fmpXbt2euaZZ+64/uTkZPXq1Uuenp5atWqVxfXr8vPzA/JfYfhMxucxALAferzYoHPnzgoPD1diYqLFdJPJpO+++06dO3eWJHl5ealkyZI5rsNkMtn0K5Szs7N8fHzuvWhJ27dv11NPPaXt27fny/ryKiMjQ1lZWfLw8JCHh4ddaiiuOOaFxxtvvKHo6Gi98cYbWrFihV599VWVL19eKSkp9i4NRUTPnj312WefacWKFRo7dqwyMjI0ePBg/fzzz/YuDXfh9OnTGj9+vJo2bap58+bp448/1jPPPGPTe8L333+vevXqydnZWYcPH7aYZ+3zQ1pa2j3Xjrtnz89kfB4DAPsjeLFBy5Yt5eLiot27d1tM//XXXxUbG6sOHTpIshxqFB0drXbt2mnPnj0aPHiwOnfurJMnTyohIUETJkxQ586d9eyzzyo8PFzt2rVTRESEpOxdhZctW6bhw4dr8+bNeuqpp/TEE09o/vz5FrfHzsmlS5f0xx9/qF+/fpKU7QPau+++qylTpmjRokXq3r27evTooS1btigxMVGTJk3So48+qhdffFEnT560WG7nzp16/vnn1blzZ73wwgvas2ePed6t2vfv329uk5CQkK1ra3JysmbNmqUePXqoc+fOGjBggCIjIyVJR44c0csvv6xu3brpySef1FtvvaX4+HhbTlOxceu59eOPP2rw4MF69NFHNWrUKF26dMnc5u/HfNSoUbpy5YqmTZumdu3aadSoUeZ2n332mfr06aMuXbpo0KBB5ufhLZs2bVKPHj3UrVs3zZs3z+rzDpYSExN19OhRDRo0SPXq1ZOfn58aNWqkIUOGqGLFipKkffv2qV+/furUqZPCwsK0bds28/I5DR34+7CRZcuW6T//+Y+2bdumdu3aqV27dhbb37Nnj0JDQ9WtWzdNmzbN/MVr/fr1GjlypLnd8uXL1a5dO0VFRUmSYmNj1a5dO129elWSdO3aNU2ZMkXdunXTE088oSlTpli8Lr/77js999xz6tSpk3r06KH3339f0p2fe7BdqVKl5OPjowoVKqhRo0aaMGGCOnXqpA8//FAZGRmSrL+Wb8ntOXP27FmNGzdOTzzxhLp166Zx48bp4sWLBbWLxcqvv/6qSpUqqW/fvqpcubIqV66sdu3aqX///laX3bZtm9q3b6927dpZvFdIuX9+2LBhg3r16qVBgwbl+bU/d+5c8/Pq+eef186dO83LzpgxI1tP4PPnz6t9+/a6ePGisrKytGjRIvXq1UudOnVSnz599OWXX97VMSvq7vSZrKh+Hrv1tyi3vzMAAEsMNbKBi4uL2rVrp+3bt6tbt27m6du3b1fTpk3l6+ub67JLlizRsGHD5O/vL09PT82aNUvnz5/Xhx9+KEmaM2eO1e2fOnVK/v7+mjFjhqKiovTmm2+qQYMG+sc//pHrMtu3b1eLFi1UqlQptW3bVtu2bVP9+vUt2oSHh+vJJ5/URx99pD179mjGjBnas2ePHnnkEfXv318LFy7Ue++9p4ULF0qSfvvtN82ePVujRo1SzZo1FRkZqalTp6pcuXKqW7eueb3Lly/XmDFjVLp0abm5uWWr7YMPPtCJEyf06quvyt/fXydPnjR/oU9OTlb37t1Vs2ZNJSYmau7cufrwww9zHOZV3C1btkxDhw6Vl5eX3nvvPX300UeaPHlytnaTJ09Wv3791Lt3b7Vv314lStx82X/77bfatGmTRo0apUqVKmnv3r0aN26cli1bJj8/P0VERGjevHkaMWKEGjVqpM8++0w///yzWrduXdC7WmSVKlVKpUqV0k8//aTq1atnGwIQHR2tiRMnqnfv3urQoYN+/fVXvffee/L398/2es3J008/rdOnT8vR0VHDhw+3mJeQkKBt27bp7bffVnx8vCZNmqQaNWqoR48eatCggT755BOlpaXJxcVFhw4dUpkyZXTo0CEFBgbq8OHDCggIUNmyZSXd7LVTrlw5zZ49Ww4ODlqwYIHeeecdTZs2TVevXtW0adM0btw41a1bV/Hx8frjjz8k5f7cw7375z//qW+//VYnTpzQmTNn7vha/rvcnjPJyclq3bq1hgwZoszMTH3yySeaPHmyPv7444Letfuet7e3oqOj9ccff6hWrVo2L3fp0iUdO3ZMU6ZM0dWrVzV48GCNGDEi1562knTy5EmVK1dO7733nhwdHZWcnJyn136ZMmU0ceJEeXp66sCBA5o6daqqVKmiqlWrqkuXLnr55ZeVmJho7kWxY8cO1a9fXxUrVtSuXbv03Xff6fXXX1e5cuV08eJFJSUl3dvBK6KsfSYrqp/H7vR3BgBgiR4vNurUqZOOHDli/gUwOTlZP/74o3mYUW5CQ0PVrFkzBQQESJJ27dqlYcOGqW7duqpbt6751487cXJy0ujRo/XAAw+oVatWatSokXnMf262b9+u9u3bS5Lat2+v3bt3KzU11aJNuXLl9NJLLykwMFChoaEqUaKEKlasqI4dO6pSpUrq3bu3/vzzT924cUOStGrVKvXt21dt27aVv7+/OnTooA4dOmS7oPBLL72kevXq6YEHHpCzs7PFvAsXLui7777T+PHjzcelTZs2evDBByVJzZo1U7t27RQQEKBatWpp8ODB+vHHH7lYYA7CwsLUuHFjBQUFqWfPnrk+J8qUKSMHBwd5eHjIx8dHZcqUkXTzfA4bNkzNmzeXv7+/evToofr162vHjh2SpC+++EKtW7dW9+7dVblyZY0YMULu7u4Ftn/3gxIlSmjMmDH67LPP9Pjjj+vf//63Vq1apcuXL0uSvvzyS1WrVk39+vVT5cqV9c9//lNt2rTRZ599ZtP6XV1d5eLiopIlS8rHx8dimEF6errGjBmjqlWrqnHjxmrdurX5OVKjRg05OTnpjz/+UGZmpo4dO6YePXro0KFDkqSDBw+avxQcPHhQUVFRevXVV1W1alUFBQVpzJgx2r9/vy5fvqwrV67IxcVFLVq0kJ+fn2rVqqXu3btLyv25h3tXuXJlSTfDO2uv5b/L7TlTq1Ytde3aVZUrV1ZQUJD+/e9/6/jx4xY96ZA/2rZtqxYtWmjQoEHq3bu33nrrLe3YscPq37kdO3aoWbNmcnNzU2BgoPz9/fXDDz/ccRkHBweNHTtWQUFBeuCBB/L02pek5557TnXq1JG/v7+6d++uxo0bm7dZt25d+fn5WfQG3rFjhzp16iRJunz5sgICAsy9/Ro3bqxWrVrdzSEr8qx9Jiuqn8fu9HcGAGCJnx9tVK9ePQUEBGj79u3q27ev9uzZIycnJ7Vs2fKOy9WoUcP8/+joaGVmZqpmzZrmabb82hUQECAXFxfzYx8fH8XFxeXa/siRI7p27ZqaNWsmSapWrZp8fX31008/mf/wS1JQUJD5/05OTvL09FSVKlXM025d+PPatWtyc3PTqVOndPToUfMvLtLNccO3/zL/932+3ZkzZ1SqVKlc9/vy5ctatGiReR+ysrKUmZmp2NhYlStXLtf1FkdVq1Y1/9/Hx0cJCQnKzMy06cKKycnJunjxYrYeMunp6eYeXFFRUeYP0NLN58jfn7uwzSOPPKJ//OMf+u2333T06FFt27ZNa9eu1cyZMxUVFaU6depYtK9bt662bNlyz9v18vKyCGJ8fHx09uxZSTfPZd26dXX48GE5OTmpQoUKevjhhzVhwgRJN7vB3/rF8tSpU4qPj7fo7XfLhQsXVK9ePVWtWlV9+vRRSEiIQkJC1KpVq2wf8mGM9PR0q69lWyQmJpovAh0XFyeTySRJiomJUYUKFfK15uLOyclJEydOVP/+/fXrr7/qyJEjmjFjhrZs2aL3339fjo45/ya2fft2ix9rbvXEvTXcOSeVKlWyuOh/Xl770s3hJJs3b1Z0dLTS0tKUnp6u8uXLm+d37txZO3bsULdu3XT48GFduXJFbdq0kSS1bt1a69evV9++fRUSEqKWLVuqUaNGd3XMijJbPpMV1c9jd/o7AwCwRPCSB506ddK2bdvUt29f7dixQ23btr1jF1/p5lCDW2513/z7XQhscXv3fAcHB/OH4pxs375diYmJFncRycrKMo8Nz229t0+7Veffu50OGjRIzZs3t1jm76GQZLnPt8vKyrrj/r/77rvKyMjQ6NGjzV2Tx40bV6x6vLi7u+fYHTspKcmiq3BO58pWycnJkqTx48dbfOCTZP6Qbu1cwXaurq5q2bKlWrZsqX79+umll17S+vXrrV4z5/bXoCTzNT2suT2Au/19o379+jp06JAcHR3VoEEDBQUFKSkpSadPn9apU6fUoEEDSVJKSooCAgI0derUbNvw9fWVk5OTPvzwQx06dEj79+/XggULtHbtWs2dO5fwxUC3vtwEBgZKuvNr2RYff/yxIiMjNXToUFWsWFGZmZnq379/sXrvzQ+2vn9LUsWKFdWtWzfzv+HDhysiIkJNmjTJtnxkZKSioqL01ltv6a233rKYd+XKlVxDtpw+o9j62j906JA++OADDRw4UA0bNpSbm5tmz55t8R7UqVMnLVmyRBcvXtT27dvVqlUr87AjPz8/rVy5Uvv379cvv/yi8ePHq3PnzhoxYoSVo3h/seUzWVH9PGbt7wwA4H8IXvKgY8eOWrp0qXbv3q2IiAg9//zzeVq+YsWKcnR01B9//KHg4GBJ0okTJ/K1xrS0NO3atUv/93//Z/ErRlxcnMaOHaurV6+ax27nVbVq1XTx4kXzsKm7ERQUpOTk5FzHtkdGRmr8+PHm43P8+PG73lZRFRAQkO0iejdu3ND58+fNX7LyqkSJEhYflry9veXj46OYmJhcu34HBgZaHP/MzEz9+eefOX4pgO1KlCghf39/paSkqHLlyvr9998t5kdGRprPs5eXl6SbF7y89SvzqVOnsq3vbr4cN2jQQBs3bpSDg4M6dOggBwcH1atXT6tXr5aXl5f5dV6tWjVdunRJbm5uud7+2snJSY0bN1bjxo31r3/9Sz169NDJkydVp06du64Pd7Zp0yaVL19eNWvWtPpavl1O5yQyMlKPPfaYWrRoIUnmoSfIm7t9/741dCy3Oxtt27ZNrVq1yjY8+f3339eOHTsUGhpqc422vvaPHTumBx54QD179pR08+6MFy5csHgf8PX1VXBwsL799lvt2bNH48ePt9iWq6ur2rRpozZt2ig4OFjTpk0rVsGLLZ/J7gafxwCg6OEaL3lw644kH3zwgfz8/Gy6+OXfeXh4qH379po3b56OHTumyMhILV26NF9r/OmnnyRJHTp0UFBQkPlfkyZN9MADD+Q45t9WYWFh+vzzz7VhwwZFRUXp5MmT2rx5s8VdDqzx9/fXI488orffflsHDhzQhQsX9OOPP5qvou/v76/t27fr3Llz2r9/vz799NO7rreo6tGjh3bv3q1Nmzbp3LlzOnHihKZOnSofHx+FhITc1TorVKigQ4cOKTY2VomJiXJwcFBYWJiWLFmiLVu26Pz58/rjjz+0evVq/fbbb5KkJ554Qnv27NFXX32ls2fPau7cudluqY47i42N1dixY7Vz506dOXNG586d04YNG7R371794x//UPfu3fXXX39pyZIlioqK0ubNm7Vnzx7zF52AgAD5+vpq2bJlOn/+vHbs2JHt7moVKlTQn3/+qejo6DzdAaxu3bpKSUnR/v37zb9w169fXzt37rR4b2vatKmqVq2q119/XYcOHdKFCxd04MAB852LIiMjtWbNGp04cULR0dHavn27nJ2dzcNTbn/uIe9SUlIUGxurS5cuKSIiQlOmTNF//vMfvfzyyypRooTV1/LtcnrO+Pv7a8+ePTpz5owOHz6s+fPnF+Qu3jdsef/+4osvNGfOHP3++++6ePGijh8/rmnTpqlMmTLm62v83a0v77f/XQ8KClKbNm2y3d3IGltf+/7+/oqKilJ4eLjOnj2r2bNnKzY2Ntv6OnfurLVr18rZ2VlNmzY1T9+6dau2bt2q//73v4qKitKPP/541z8eFFVGfSbj8xgAFD30eMmjTp066ffffzd/McqrYcOG6b333tPIkSNVvnx5vfTSS5o0aVK27qF3a9u2bXrooYdy7LbasmVLbdu2Tb17976rdbds2VITJ07UypUrtWjRIrm5ualmzZp57vkzevRozZ8/X2+99ZZSU1NVuXJlvfzyy5KksWPHavr06erXr5+qVq2qfv36Fbs7GjVq1EhvvPGGVq1apU8++USurq6qV6+e3n///bseuvH8889rxowZ+te//qV69epp5syZ6tGjh5ydnbV27VrNmDHD/KH/1q/mjRs31qBBg7RkyRKlpaXp0UcfveOdtJCdu7u7qlWrptWrV5svzO3v769Ro0aZu52/9dZbWrBggdasWaPy5ctr7NixqlevnqSbPRNee+01zZo1Sy+++KKaNWum0NBQrV+/3ryNxx57TL///ruef/55paamateuXTbVVrJkSdWsWVNxcXHm8foNGjSQyWSy+PLl6OioadOmaf78+Xr99deVnJysChUqmJ8L7u7u+u2337R27Vrz63ny5Mnmcf85PfeQNxs3btTGjRvl7OwsX19fNWjQQB9//LGqVasmSVZfy7fL6TkzZMgQTZ06VQMHDlTFihU1dOhQvfLKKwW5m/cFW96/a9eurUOHDmnatGmKjY2Vh4eH6tSpow8++ECenp7Z1vnzzz8rNTU127AS6ebf5Y8//th8JzFb2Prab9WqlR577DG98847cnR0tOgR9XetWrVSyZIl9cgjj1gMPfHw8NCnn36q2bNny9HRUXXr1tXEiRNtrvN+YMtnsrzc2ervy/J5DACKFoddu3bd+SIDMNThw4c1YsQIbdq0Kddu/AAAAIVRXFycevXqpQULFpjDQAAAYIkeLwXs1u05a9SooZiYGM2ePVtNmzYldAEAAEWGyWTS1atXtXz5ctWuXZvQBQCAOyB4KWAmk0krVqzQ+fPn5e7uruDgYA0bNszeZQEAANgsJiZGoaGh8vf3ZwgKAABWMNQIAAAAAADAINzVCAAAAAAAwCAELwAAAAAAAAYheAEAAAAAADAIwQsAAAAAAIBBCF4AAEXCu+++q1GjRtnUdtmyZerdu7f5cXR0tNq1a6eIiAhjigMAAABywe2kAQBFwrPPPqv09PS7WtbHx0cfffSRHnjggXyuCgAAALgzghcAQJEQEBBgtU1qaqpKliyZbbqLi4vq1q1rRFkAAADAHRG8AADs6vTp01q1apWOHj2quLg4+fr6qnnz5nrxxRfl4eFhbvfuu+8qOjpaM2fOlCRFRETo5Zdf1qRJk7R37179/PPPcnNz05o1a7JtIzo6WqGhofrwww/VqFEjSdKoUaOUmZmpZ599VgsWLND58+cVGBiowYMHq0mTJhbLR0REaMWKFTp+/LiysrJUr149DRkyREFBQYYdFwAAANwfuMYLAMCuYmJiVLFiRQ0bNkzvvfeenn/+eR09elTjxo2zafm5c+fK2dlZEyZM0PDhw/O07QsXLmjevHnq3bu3Jk+eLE9PT02cOFEJCQnmNuHh4Ro9erRcXV312muvafz48UpOTtaIESN06dKlPG0PAAAAxQ89XgAAdhUSEqKQkBDz48zMTDVo0EC9e/fWyZMnVb169TsuX7duXf373/++q23Hx8dr1qxZqlSpkiSpRo0a6tmzp/bt26eOHTtKuhnsNGzYUG+//bZ5ucaNG6tPnz5av359nsMeAAAAFC8ELwAAu8rIyND69eu1fft2Xbp0SSkpKeZ5Z8+etRq8tGzZ8q63XalSJXPoIkne3t7y8vLS5cuXJUnnzp3ThQsXFBYWpszMTHO7UqVK6cEHH9Thw4fvetsAAAAoHgheAAB2tWjRIn355Zfq27evatasKTc3N5lMJg0dOlRpaWlWl/fx8bnrbZcuXTrbNGdnZ/N24+LiJEnTp0/X9OnTs7WtUKHCXW8bAAAAxQPBCwDArnbu3KnevXurd+/e5mnnz5+3eXkHBwcjypIkeXp6SpJeeuklBQcHZ5tfogR/RgEAAHBnfGIEANhVamqqnJ2dLaZ98803dqrGUmBgoPz8/HTmzBn16dPH3uUAAACgCCJ4AQDYVfPmzbVu3Tp5enqqQoUK2rdvn/bu3WvvsiTd7E0zcuRITZgwQenp6Wrbtq08PT0VFxeno0ePys/PTz179rR3mQAAACjECF4AAHY1YsQIzZkzRwsXLlRGRoYaN26s6dOnKzQ01N6lSZIeeughzZo1S6tWrdL777+v1NRU+fj4qG7dumrfvr29ywMAAEAh57Br164sexcBAAAAAABwP3K0dwEAAAAAAAD3K4IXAAAAAAAAgxC8AAAAAAAAGITgBQAAAAAAwCAELwAAAAAAAAYheAEAAAAAADAIwQsAAAAAAIBBCF4AAAAAAAAMQvACAAAAAABgEIIXAAAAAAAAg/w/DsAMMd6I+3oAAAAASUVORK5CYII=\n",
      "text/plain": [
       "<Figure size 1145.98x960 with 1 Axes>"
      ]
     },
     "metadata": {},
     "output_type": "display_data"
    }
   ],
   "source": [
    "plt.style.use('bmh')\n",
    "sns.factorplot(x = 'airline',data = dataset,kind = 'count',hue='negativereason',size=12,aspect=.9)\n",
    "plt.show()"
   ]
  },
  {
   "cell_type": "markdown",
   "id": "bf8be22f",
   "metadata": {},
   "source": [
    "# Data Cleaning and Preprocessing :-"
   ]
  },
  {
   "cell_type": "code",
<<<<<<< HEAD
   "execution_count": 70,
   "id": "77dcfba3",
   "metadata": {},
   "outputs": [
    {
     "name": "stdout",
     "output_type": "stream",
     "text": [
      "@VirginAmerica What @dhepburn said.\n",
      "@VirginAmerica plus you've added commercials to the experience... tacky.\n",
      "@VirginAmerica I didn't today... Must mean I need to take another trip!\n",
      "@VirginAmerica it's really aggressive to blast obnoxious \"entertainment\" in your guests' faces &amp; they have little recourse\n",
      "@VirginAmerica and it's a really big bad thing about it\n",
      "@VirginAmerica seriously would pay $30 a flight for seats that didn't have this playing.\n",
      "it's really the only bad thing about flying VA\n",
      "@VirginAmerica yes, nearly every time I fly VX this “ear worm” won’t go away :)\n",
      "@VirginAmerica Really missed a prime opportunity for Men Without Hats parody, there. https://t.co/mWpG7grEZP\n",
      "@virginamerica Well, I didn't…but NOW I DO! :-D\n",
      "@VirginAmerica it was amazing, and arrived an hour early. You're too good to me.\n"
     ]
    }
   ],
   "source": [
    "text=dataset['text'].values\n",
    "for i in range(10):\n",
    "    print(text[i])"
   ]
  },
  {
   "cell_type": "code",
   "execution_count": 3,
=======
   "execution_count": 37,
>>>>>>> e5dd505e0b5115757b340e423bd6582f46fd88d4
   "id": "154aba45",
   "metadata": {
    "executionInfo": {
     "elapsed": 5421,
     "status": "ok",
     "timestamp": 1652554427521,
     "user": {
      "displayName": "Abdelrahman Mohamed",
      "userId": "04684924364925318690"
     },
     "user_tz": -120
    },
    "id": "154aba45"
   },
   "outputs": [],
   "source": [
    "text=[word_tokenize(doc) for doc in text]"
   ]
  },
  {
   "cell_type": "code",
<<<<<<< HEAD
   "execution_count": 4,
=======
   "execution_count": 38,
>>>>>>> e5dd505e0b5115757b340e423bd6582f46fd88d4
   "id": "8e86440c",
   "metadata": {
    "colab": {
     "base_uri": "https://localhost:8080/"
    },
    "executionInfo": {
     "elapsed": 782,
     "status": "ok",
     "timestamp": 1652554432066,
     "user": {
      "displayName": "Abdelrahman Mohamed",
      "userId": "04684924364925318690"
     },
     "user_tz": -120
    },
    "id": "8e86440c",
    "outputId": "27457888-328a-4ea7-b0ce-64d75683bb48"
   },
   "outputs": [
    {
     "name": "stdout",
     "output_type": "stream",
     "text": [
      "['@', 'VirginAmerica', 'What', '@', 'dhepburn', 'said', '.']\n",
      "['@', 'VirginAmerica', 'plus', 'you', \"'ve\", 'added', 'commercials', 'to', 'the', 'experience', '...', 'tacky', '.']\n",
      "['@', 'VirginAmerica', 'I', 'did', \"n't\", 'today', '...', 'Must', 'mean', 'I', 'need', 'to', 'take', 'another', 'trip', '!']\n",
      "['@', 'VirginAmerica', 'it', \"'s\", 'really', 'aggressive', 'to', 'blast', 'obnoxious', '``', 'entertainment', \"''\", 'in', 'your', 'guests', \"'\", 'faces', '&', 'amp', ';', 'they', 'have', 'little', 'recourse']\n",
      "['@', 'VirginAmerica', 'and', 'it', \"'s\", 'a', 'really', 'big', 'bad', 'thing', 'about', 'it']\n",
      "['@', 'VirginAmerica', 'seriously', 'would', 'pay', '$', '30', 'a', 'flight', 'for', 'seats', 'that', 'did', \"n't\", 'have', 'this', 'playing', '.', 'it', \"'s\", 'really', 'the', 'only', 'bad', 'thing', 'about', 'flying', 'VA']\n",
      "['@', 'VirginAmerica', 'yes', ',', 'nearly', 'every', 'time', 'I', 'fly', 'VX', 'this', '“', 'ear', 'worm', '”', 'won', '’', 't', 'go', 'away', ':', ')']\n",
      "['@', 'VirginAmerica', 'Really', 'missed', 'a', 'prime', 'opportunity', 'for', 'Men', 'Without', 'Hats', 'parody', ',', 'there', '.', 'https', ':', '//t.co/mWpG7grEZP']\n",
      "['@', 'virginamerica', 'Well', ',', 'I', \"didn't…but\", 'NOW', 'I', 'DO', '!', ':', '-D']\n",
      "['@', 'VirginAmerica', 'it', 'was', 'amazing', ',', 'and', 'arrived', 'an', 'hour', 'early', '.', 'You', \"'re\", 'too', 'good', 'to', 'me', '.']\n"
     ]
    }
   ],
   "source": [
    "for i in range(10):\n",
    "    print(text[i])"
   ]
  },
  {
   "cell_type": "code",
<<<<<<< HEAD
   "execution_count": 5,
=======
   "execution_count": 39,
>>>>>>> e5dd505e0b5115757b340e423bd6582f46fd88d4
   "id": "0450ecd7",
   "metadata": {
    "executionInfo": {
     "elapsed": 391,
     "status": "ok",
     "timestamp": 1652554436614,
     "user": {
      "displayName": "Abdelrahman Mohamed",
      "userId": "04684924364925318690"
     },
     "user_tz": -120
    },
    "id": "0450ecd7"
   },
   "outputs": [],
   "source": [
    "sentiment=dataset['airline_sentiment'].values #'neutral' 'positive' 'negative'1"
   ]
  },
  {
   "cell_type": "code",
<<<<<<< HEAD
   "execution_count": 6,
=======
   "execution_count": 40,
>>>>>>> e5dd505e0b5115757b340e423bd6582f46fd88d4
   "id": "68e56186",
   "metadata": {},
   "outputs": [
    {
     "name": "stdout",
     "output_type": "stream",
     "text": [
      "neutral\n",
      "positive\n",
      "neutral\n",
      "negative\n",
      "negative\n",
      "negative\n",
      "positive\n",
      "neutral\n",
      "positive\n",
      "positive\n"
     ]
    }
   ],
   "source": [
    "for i in range(10):\n",
    "    print(sentiment[i])"
   ]
  },
  {
   "cell_type": "code",
<<<<<<< HEAD
   "execution_count": 9,
=======
   "execution_count": 43,
>>>>>>> e5dd505e0b5115757b340e423bd6582f46fd88d4
   "id": "9b1645f0",
   "metadata": {
    "executionInfo": {
     "elapsed": 408,
     "status": "ok",
     "timestamp": 1652554441763,
     "user": {
      "displayName": "Abdelrahman Mohamed",
      "userId": "04684924364925318690"
     },
     "user_tz": -120
    },
    "id": "9b1645f0"
   },
   "outputs": [],
   "source": [
<<<<<<< HEAD
    "documents=[(text[i],sentiment[i]) for i in range(dataset.shape[0])] #rows"
=======
    "documents=[(text[i],sentiment[i]) for i in range(dataset.shape[0])] #rows)]"
>>>>>>> e5dd505e0b5115757b340e423bd6582f46fd88d4
   ]
  },
  {
   "cell_type": "code",
<<<<<<< HEAD
   "execution_count": 10,
=======
   "execution_count": 44,
>>>>>>> e5dd505e0b5115757b340e423bd6582f46fd88d4
   "id": "bb2952c3",
   "metadata": {
    "colab": {
     "base_uri": "https://localhost:8080/"
    },
    "executionInfo": {
     "elapsed": 397,
     "status": "ok",
     "timestamp": 1652554444850,
     "user": {
      "displayName": "Abdelrahman Mohamed",
      "userId": "04684924364925318690"
     },
     "user_tz": -120
    },
    "id": "bb2952c3",
    "outputId": "31f3fe72-5be1-4567-df9c-1cb498303f74"
   },
   "outputs": [
    {
     "name": "stdout",
     "output_type": "stream",
     "text": [
      "(['@', 'VirginAmerica', 'What', '@', 'dhepburn', 'said', '.'], 'neutral')\n",
      "(['@', 'VirginAmerica', 'plus', 'you', \"'ve\", 'added', 'commercials', 'to', 'the', 'experience', '...', 'tacky', '.'], 'positive')\n",
      "(['@', 'VirginAmerica', 'I', 'did', \"n't\", 'today', '...', 'Must', 'mean', 'I', 'need', 'to', 'take', 'another', 'trip', '!'], 'neutral')\n",
      "(['@', 'VirginAmerica', 'it', \"'s\", 'really', 'aggressive', 'to', 'blast', 'obnoxious', '``', 'entertainment', \"''\", 'in', 'your', 'guests', \"'\", 'faces', '&', 'amp', ';', 'they', 'have', 'little', 'recourse'], 'negative')\n",
      "(['@', 'VirginAmerica', 'and', 'it', \"'s\", 'a', 'really', 'big', 'bad', 'thing', 'about', 'it'], 'negative')\n",
      "(['@', 'VirginAmerica', 'seriously', 'would', 'pay', '$', '30', 'a', 'flight', 'for', 'seats', 'that', 'did', \"n't\", 'have', 'this', 'playing', '.', 'it', \"'s\", 'really', 'the', 'only', 'bad', 'thing', 'about', 'flying', 'VA'], 'negative')\n",
      "(['@', 'VirginAmerica', 'yes', ',', 'nearly', 'every', 'time', 'I', 'fly', 'VX', 'this', '“', 'ear', 'worm', '”', 'won', '’', 't', 'go', 'away', ':', ')'], 'positive')\n",
      "(['@', 'VirginAmerica', 'Really', 'missed', 'a', 'prime', 'opportunity', 'for', 'Men', 'Without', 'Hats', 'parody', ',', 'there', '.', 'https', ':', '//t.co/mWpG7grEZP'], 'neutral')\n",
      "(['@', 'virginamerica', 'Well', ',', 'I', \"didn't…but\", 'NOW', 'I', 'DO', '!', ':', '-D'], 'positive')\n",
      "(['@', 'VirginAmerica', 'it', 'was', 'amazing', ',', 'and', 'arrived', 'an', 'hour', 'early', '.', 'You', \"'re\", 'too', 'good', 'to', 'me', '.'], 'positive')\n"
     ]
    }
   ],
   "source": [
    "for i in range(10):\n",
    "    print(documents[i])"
   ]
  },
  {
   "cell_type": "markdown",
   "id": "fbc693bc",
   "metadata": {
    "id": "fbc693bc"
   },
   "source": [
    "# Dataset Preprocessing\n",
    "1. TOKENIZING\n",
    "2. LEMMATIZING\n",
    "3. REMOVING STOPWORDS\n",
    "4. PUNCTUATIONS"
   ]
  },
  {
   "cell_type": "code",
<<<<<<< HEAD
   "execution_count": 11,
=======
   "execution_count": 45,
>>>>>>> e5dd505e0b5115757b340e423bd6582f46fd88d4
   "id": "8386007b",
   "metadata": {
    "colab": {
     "base_uri": "https://localhost:8080/"
    },
    "executionInfo": {
     "elapsed": 4,
     "status": "ok",
     "timestamp": 1652554488591,
     "user": {
      "displayName": "Abdelrahman Mohamed",
      "userId": "04684924364925318690"
     },
     "user_tz": -120
    },
    "id": "8386007b",
    "outputId": "eeafa513-0742-44f8-b1a8-16c8d829d681"
   },
   "outputs": [
    {
     "data": {
      "text/plain": [
       "{'!',\n",
       " '\"',\n",
       " '#',\n",
       " '$',\n",
       " '%',\n",
       " '&',\n",
       " \"'\",\n",
       " '(',\n",
       " ')',\n",
       " '*',\n",
       " '+',\n",
       " ',',\n",
       " '-',\n",
       " '.',\n",
       " '/',\n",
       " ':',\n",
       " ';',\n",
       " '<',\n",
       " '=',\n",
       " '>',\n",
       " '?',\n",
       " '@',\n",
       " '[',\n",
       " '\\\\',\n",
       " ']',\n",
       " '^',\n",
       " '_',\n",
       " '`',\n",
       " 'a',\n",
       " 'about',\n",
       " 'above',\n",
       " 'after',\n",
       " 'again',\n",
       " 'against',\n",
       " 'ain',\n",
       " 'all',\n",
       " 'am',\n",
       " 'an',\n",
       " 'and',\n",
       " 'any',\n",
       " 'are',\n",
       " 'aren',\n",
       " \"aren't\",\n",
       " 'as',\n",
       " 'at',\n",
       " 'be',\n",
       " 'because',\n",
       " 'been',\n",
       " 'before',\n",
       " 'being',\n",
       " 'below',\n",
       " 'between',\n",
       " 'both',\n",
       " 'but',\n",
       " 'by',\n",
       " 'can',\n",
       " 'couldn',\n",
       " \"couldn't\",\n",
       " 'd',\n",
       " 'did',\n",
       " 'didn',\n",
       " \"didn't\",\n",
       " 'do',\n",
       " 'does',\n",
       " 'doesn',\n",
       " \"doesn't\",\n",
       " 'doing',\n",
       " 'don',\n",
       " \"don't\",\n",
       " 'down',\n",
       " 'during',\n",
       " 'each',\n",
       " 'few',\n",
       " 'for',\n",
       " 'from',\n",
       " 'further',\n",
       " 'had',\n",
       " 'hadn',\n",
       " \"hadn't\",\n",
       " 'has',\n",
       " 'hasn',\n",
       " \"hasn't\",\n",
       " 'have',\n",
       " 'haven',\n",
       " \"haven't\",\n",
       " 'having',\n",
       " 'he',\n",
       " 'her',\n",
       " 'here',\n",
       " 'hers',\n",
       " 'herself',\n",
       " 'him',\n",
       " 'himself',\n",
       " 'his',\n",
       " 'how',\n",
       " 'i',\n",
       " 'if',\n",
       " 'in',\n",
       " 'into',\n",
       " 'is',\n",
       " 'isn',\n",
       " \"isn't\",\n",
       " 'it',\n",
       " \"it's\",\n",
       " 'its',\n",
       " 'itself',\n",
       " 'just',\n",
       " 'll',\n",
       " 'm',\n",
       " 'ma',\n",
       " 'me',\n",
       " 'mightn',\n",
       " \"mightn't\",\n",
       " 'more',\n",
       " 'most',\n",
       " 'mustn',\n",
       " \"mustn't\",\n",
       " 'my',\n",
       " 'myself',\n",
       " 'needn',\n",
       " \"needn't\",\n",
       " 'no',\n",
       " 'nor',\n",
       " 'not',\n",
       " 'now',\n",
       " 'o',\n",
       " 'of',\n",
       " 'off',\n",
       " 'on',\n",
       " 'once',\n",
       " 'only',\n",
       " 'or',\n",
       " 'other',\n",
       " 'our',\n",
       " 'ours',\n",
       " 'ourselves',\n",
       " 'out',\n",
       " 'over',\n",
       " 'own',\n",
       " 're',\n",
       " 's',\n",
       " 'same',\n",
       " 'shan',\n",
       " \"shan't\",\n",
       " 'she',\n",
       " \"she's\",\n",
       " 'should',\n",
       " \"should've\",\n",
       " 'shouldn',\n",
       " \"shouldn't\",\n",
       " 'so',\n",
       " 'some',\n",
       " 'such',\n",
       " 't',\n",
       " 'than',\n",
       " 'that',\n",
       " \"that'll\",\n",
       " 'the',\n",
       " 'their',\n",
       " 'theirs',\n",
       " 'them',\n",
       " 'themselves',\n",
       " 'then',\n",
       " 'there',\n",
       " 'these',\n",
       " 'they',\n",
       " 'this',\n",
       " 'those',\n",
       " 'through',\n",
       " 'to',\n",
       " 'too',\n",
       " 'under',\n",
       " 'until',\n",
       " 'up',\n",
       " 've',\n",
       " 'very',\n",
       " 'was',\n",
       " 'wasn',\n",
       " \"wasn't\",\n",
       " 'we',\n",
       " 'were',\n",
       " 'weren',\n",
       " \"weren't\",\n",
       " 'what',\n",
       " 'when',\n",
       " 'where',\n",
       " 'which',\n",
       " 'while',\n",
       " 'who',\n",
       " 'whom',\n",
       " 'why',\n",
       " 'will',\n",
       " 'with',\n",
       " 'won',\n",
       " \"won't\",\n",
       " 'wouldn',\n",
       " \"wouldn't\",\n",
       " 'y',\n",
       " 'you',\n",
       " \"you'd\",\n",
       " \"you'll\",\n",
       " \"you're\",\n",
       " \"you've\",\n",
       " 'your',\n",
       " 'yours',\n",
       " 'yourself',\n",
       " 'yourselves',\n",
       " '{',\n",
       " '|',\n",
       " '}',\n",
       " '~'}"
      ]
     },
<<<<<<< HEAD
     "execution_count": 11,
=======
     "execution_count": 45,
>>>>>>> e5dd505e0b5115757b340e423bd6582f46fd88d4
     "metadata": {},
     "output_type": "execute_result"
    }
   ],
   "source": [
    "stops=set(stopwords.words('english'))\n",
    "punctuations = list(string.punctuation)\n",
    "stops.update(punctuations)\n",
    "stops"
   ]
  },
  {
   "cell_type": "code",
<<<<<<< HEAD
   "execution_count": 13,
=======
   "execution_count": 46,
>>>>>>> e5dd505e0b5115757b340e423bd6582f46fd88d4
   "id": "5c246a36",
   "metadata": {
    "executionInfo": {
     "elapsed": 643,
     "status": "ok",
     "timestamp": 1652554451069,
     "user": {
      "displayName": "Abdelrahman Mohamed",
      "userId": "04684924364925318690"
     },
     "user_tz": -120
    },
    "id": "5c246a36"
   },
   "outputs": [],
   "source": [
    "def get_simple_pos(tag):   \n",
    "    if tag.startswith('J'):\n",
    "        return wordnet.ADJ\n",
    "    elif tag.startswith('V'):\n",
    "        return wordnet.VERB\n",
    "    elif tag.startswith('N'):\n",
    "        return wordnet.NOUN\n",
    "    elif tag.startswith('R'):\n",
    "        return wordnet.ADV\n",
    "    else:\n",
    "        return wordnet.NOUN"
   ]
  },
  {
   "cell_type": "code",
<<<<<<< HEAD
   "execution_count": 21,
=======
   "execution_count": 47,
>>>>>>> e5dd505e0b5115757b340e423bd6582f46fd88d4
   "id": "006562e9",
   "metadata": {
    "executionInfo": {
     "elapsed": 396,
     "status": "ok",
     "timestamp": 1652554447821,
     "user": {
      "displayName": "Abdelrahman Mohamed",
      "userId": "04684924364925318690"
     },
     "user_tz": -120
    },
    "id": "006562e9"
   },
   "outputs": [],
   "source": [
    "lemmatizer=WordNetLemmatizer()"
   ]
  },
  {
   "cell_type": "code",
<<<<<<< HEAD
   "execution_count": 68,
=======
   "execution_count": 48,
>>>>>>> e5dd505e0b5115757b340e423bd6582f46fd88d4
   "id": "3151d1f9",
   "metadata": {
    "executionInfo": {
     "elapsed": 404,
     "status": "ok",
     "timestamp": 1652554492693,
     "user": {
      "displayName": "Abdelrahman Mohamed",
      "userId": "04684924364925318690"
     },
     "user_tz": -120
    },
    "id": "3151d1f9"
   },
   "outputs": [],
   "source": [
    "def clean_review(words):\n",
    "    output_words = []\n",
    "    for w in words:\n",
    "        if w.lower() not in stops:\n",
    "            pos = pos_tag([w])\n",
    "            clean_word = lemmatizer.lemmatize(w, pos = get_simple_pos(pos[0][1]))\n",
    "            output_words.append(clean_word.lower())\n",
    "    return output_words"
   ]
  },
  {
   "cell_type": "code",
<<<<<<< HEAD
   "execution_count": 69,
=======
   "execution_count": 49,
>>>>>>> e5dd505e0b5115757b340e423bd6582f46fd88d4
   "id": "fed0244c",
   "metadata": {
    "executionInfo": {
     "elapsed": 26619,
     "status": "ok",
     "timestamp": 1652554588345,
     "user": {
      "displayName": "Abdelrahman Mohamed",
      "userId": "04684924364925318690"
     },
     "user_tz": -120
    },
    "id": "fed0244c"
   },
   "outputs": [],
   "source": [
    "clean_document = [(clean_review(doc), category) for doc, category in documents]"
   ]
  },
  {
   "cell_type": "code",
<<<<<<< HEAD
   "execution_count": 47,
=======
   "execution_count": 50,
>>>>>>> e5dd505e0b5115757b340e423bd6582f46fd88d4
   "id": "1deddcc2",
   "metadata": {
    "colab": {
     "base_uri": "https://localhost:8080/"
    },
    "executionInfo": {
     "elapsed": 395,
     "status": "ok",
     "timestamp": 1652554592939,
     "user": {
      "displayName": "Abdelrahman Mohamed",
      "userId": "04684924364925318690"
     },
     "user_tz": -120
    },
    "id": "1deddcc2",
    "outputId": "05d8a758-9acd-4589-e86e-f21f55dfdb86"
   },
   "outputs": [
    {
     "name": "stdout",
     "output_type": "stream",
     "text": [
      "The clean dataset is \n",
      "\n",
      "(['virginamerica', 'dhepburn', 'say'], 'neutral')\n",
      "(['virginamerica', 'plus', \"'ve\", 'add', 'commercial', 'experience', '...', 'tacky'], 'positive')\n",
      "(['virginamerica', \"n't\", 'today', '...', 'must', 'mean', 'need', 'take', 'another', 'trip'], 'neutral')\n",
      "(['virginamerica', \"'s\", 'really', 'aggressive', 'blast', 'obnoxious', '``', 'entertainment', \"''\", 'guest', 'face', 'amp', 'little', 'recourse'], 'negative')\n",
      "(['virginamerica', \"'s\", 'really', 'big', 'bad', 'thing'], 'negative')\n",
      "(['virginamerica', 'seriously', 'would', 'pay', '30', 'flight', 'seat', \"n't\", 'play', \"'s\", 'really', 'bad', 'thing', 'fly', 'va'], 'negative')\n",
      "(['virginamerica', 'yes', 'nearly', 'every', 'time', 'fly', 'vx', '“', 'ear', 'worm', '”', '’', 'go', 'away'], 'positive')\n",
      "(['virginamerica', 'really', 'miss', 'prime', 'opportunity', 'men', 'without', 'hats', 'parody', 'http', '//t.co/mwpg7grezp'], 'neutral')\n",
      "(['virginamerica', 'well', \"didn't…but\", '-d'], 'positive')\n",
      "(['virginamerica', 'amaze', 'arrive', 'hour', 'early', \"'re\", 'good'], 'positive')\n"
     ]
    }
   ],
   "source": [
    "print(\"The clean dataset is \\n\")\n",
    "\n",
    "for i in range(10):\n",
    "    print(clean_document[i])"
   ]
  },
  {
   "cell_type": "code",
<<<<<<< HEAD
   "execution_count": 52,
=======
   "execution_count": 51,
>>>>>>> e5dd505e0b5115757b340e423bd6582f46fd88d4
   "id": "1bdc9d10",
   "metadata": {
    "executionInfo": {
     "elapsed": 396,
     "status": "ok",
     "timestamp": 1652554602011,
     "user": {
      "displayName": "Abdelrahman Mohamed",
      "userId": "04684924364925318690"
     },
     "user_tz": -120
    },
    "id": "1bdc9d10"
   },
   "outputs": [],
   "source": [
    "categories = [category for document, category in clean_document]"
   ]
  },
  {
   "cell_type": "code",
<<<<<<< HEAD
   "execution_count": 53,
=======
   "execution_count": 52,
>>>>>>> e5dd505e0b5115757b340e423bd6582f46fd88d4
   "id": "e9c6774d",
   "metadata": {
    "colab": {
     "base_uri": "https://localhost:8080/"
    },
    "executionInfo": {
     "elapsed": 4,
     "status": "ok",
     "timestamp": 1652554604623,
     "user": {
      "displayName": "Abdelrahman Mohamed",
      "userId": "04684924364925318690"
     },
     "user_tz": -120
    },
    "id": "e9c6774d",
    "outputId": "bddccda2-97e7-47ae-f0bd-39a6d0aa4423"
   },
   "outputs": [
    {
     "data": {
      "text/plain": [
       "['neutral',\n",
       " 'positive',\n",
       " 'neutral',\n",
       " 'negative',\n",
       " 'negative',\n",
       " 'negative',\n",
       " 'positive',\n",
       " 'neutral',\n",
       " 'positive',\n",
       " 'positive']"
      ]
     },
<<<<<<< HEAD
     "execution_count": 53,
=======
     "execution_count": 52,
>>>>>>> e5dd505e0b5115757b340e423bd6582f46fd88d4
     "metadata": {},
     "output_type": "execute_result"
    }
   ],
   "source": [
    "categories[:10]"
   ]
  },
  {
   "cell_type": "code",
<<<<<<< HEAD
   "execution_count": 54,
=======
   "execution_count": 53,
>>>>>>> e5dd505e0b5115757b340e423bd6582f46fd88d4
   "id": "c69db218",
   "metadata": {
    "executionInfo": {
     "elapsed": 2,
     "status": "ok",
     "timestamp": 1652554607771,
     "user": {
      "displayName": "Abdelrahman Mohamed",
      "userId": "04684924364925318690"
     },
     "user_tz": -120
    },
    "id": "c69db218"
   },
   "outputs": [],
   "source": [
    "text_documents = [\" \".join(document) for document, category in clean_document]"
   ]
  },
  {
   "cell_type": "code",
<<<<<<< HEAD
   "execution_count": 55,
=======
   "execution_count": 54,
>>>>>>> e5dd505e0b5115757b340e423bd6582f46fd88d4
   "id": "db7e0630",
   "metadata": {
    "colab": {
     "base_uri": "https://localhost:8080/",
     "height": 36
    },
    "executionInfo": {
     "elapsed": 3,
     "status": "ok",
     "timestamp": 1652554609553,
     "user": {
      "displayName": "Abdelrahman Mohamed",
      "userId": "04684924364925318690"
     },
     "user_tz": -120
    },
    "id": "db7e0630",
    "outputId": "0d658711-9748-47aa-e306-184dab8f3c56"
   },
   "outputs": [
    {
     "name": "stdout",
     "output_type": "stream",
     "text": [
      "virginamerica dhepburn say\n",
      "virginamerica plus 've add commercial experience ... tacky\n",
      "virginamerica n't today ... must mean need take another trip\n",
      "virginamerica 's really aggressive blast obnoxious `` entertainment '' guest face amp little recourse\n",
      "virginamerica 's really big bad thing\n",
      "virginamerica seriously would pay 30 flight seat n't play 's really bad thing fly va\n",
      "virginamerica yes nearly every time fly vx “ ear worm ” ’ go away\n",
      "virginamerica really miss prime opportunity men without hats parody http //t.co/mwpg7grezp\n",
      "virginamerica well didn't…but -d\n",
      "virginamerica amaze arrive hour early 're good\n"
     ]
    }
   ],
   "source": [
    "for i in range(10):\n",
    "    print(text_documents[i])"
   ]
  },
  {
   "cell_type": "markdown",
   "id": "80b8ee8b",
   "metadata": {
    "id": "80b8ee8b"
   },
   "source": [
    "# SPLITTING THE DATASET"
   ]
  },
  {
   "cell_type": "code",
<<<<<<< HEAD
   "execution_count": 56,
=======
   "execution_count": 55,
>>>>>>> e5dd505e0b5115757b340e423bd6582f46fd88d4
   "id": "b6352d67",
   "metadata": {
    "executionInfo": {
     "elapsed": 2,
     "status": "ok",
     "timestamp": 1652554614261,
     "user": {
      "displayName": "Abdelrahman Mohamed",
      "userId": "04684924364925318690"
     },
     "user_tz": -120
    },
    "id": "b6352d67"
   },
   "outputs": [],
   "source": [
    "from sklearn.model_selection import train_test_split\n",
    "\n",
    "X_train, X_test, y_train, y_test = train_test_split(text_documents, categories,test_size=0.3,random_state=0)"
   ]
  },
  {
   "cell_type": "markdown",
   "id": "57d95e3a",
   "metadata": {
    "id": "57d95e3a"
   },
   "source": [
    "# Vectorization to get the maximum number of frequency words"
   ]
  },
  {
   "cell_type": "code",
<<<<<<< HEAD
   "execution_count": 57,
=======
   "execution_count": 56,
>>>>>>> e5dd505e0b5115757b340e423bd6582f46fd88d4
   "id": "41c42c24",
   "metadata": {
    "executionInfo": {
     "elapsed": 416,
     "status": "ok",
     "timestamp": 1652554617490,
     "user": {
      "displayName": "Abdelrahman Mohamed",
      "userId": "04684924364925318690"
     },
     "user_tz": -120
    },
    "id": "41c42c24"
   },
   "outputs": [],
   "source": [
    "from sklearn.feature_extraction.text import TfidfVectorizer"
   ]
  },
  {
   "cell_type": "code",
<<<<<<< HEAD
   "execution_count": 60,
=======
   "execution_count": 57,
>>>>>>> e5dd505e0b5115757b340e423bd6582f46fd88d4
   "id": "b49822bd",
   "metadata": {
    "executionInfo": {
     "elapsed": 403,
     "status": "ok",
     "timestamp": 1652558634253,
     "user": {
      "displayName": "Abdelrahman Mohamed",
      "userId": "04684924364925318690"
     },
     "user_tz": -120
    },
    "id": "b49822bd"
   },
   "outputs": [],
   "source": [
    "count_vect=TfidfVectorizer()\n",
    "X_train_features=count_vect.fit_transform(X_train)\n",
    "X_test_features=count_vect.transform(X_test)"
   ]
  },
  {
   "cell_type": "code",
   "execution_count": 58,
   "id": "c9ad73ce",
   "metadata": {},
   "outputs": [],
   "source": [
    "import pickle\n",
    "\n",
    "with open('tfidf.pickle', 'wb') as f:\n",
    "    pickle.dump(count_vect, f)"
   ]
  },
  {
   "cell_type": "markdown",
   "id": "a510362b",
   "metadata": {
    "id": "a510362b"
   },
   "source": [
    "# Helper funcation"
   ]
  },
  {
   "cell_type": "code",
<<<<<<< HEAD
   "execution_count": 61,
=======
   "execution_count": 59,
>>>>>>> e5dd505e0b5115757b340e423bd6582f46fd88d4
   "id": "52308e34",
   "metadata": {
    "executionInfo": {
     "elapsed": 3,
     "status": "ok",
     "timestamp": 1652554624476,
     "user": {
      "displayName": "Abdelrahman Mohamed",
      "userId": "04684924364925318690"
     },
     "user_tz": -120
    },
    "id": "52308e34"
   },
   "outputs": [],
   "source": [
    "from sklearn.metrics import accuracy_score\n",
    "def eval_model(model,X_train,y_train,X_test,y_test):\n",
    "    model.fit(X_train,y_train)\n",
    "    y_pred_train = model.predict(X_train)\n",
    "    y_pred_test = model.predict(X_test)\n",
    "    acc_train = accuracy_score(y_train, y_pred_train)\n",
    "    acc_test = accuracy_score(y_test, y_pred_test)\n",
    "    print(model.__class__.__name__)\n",
    "    print('acc train:', acc_train)\n",
    "    print('acc test:', acc_test)\n",
    "    print('----------------------------')\n",
    "    \n",
    "    return(acc_train,acc_test)"
   ]
  },
  {
   "cell_type": "markdown",
   "id": "2821c53b",
   "metadata": {
    "id": "2821c53b"
   },
   "source": [
    "# USING Svm CLASSIFIER"
   ]
  },
  {
   "cell_type": "code",
   "execution_count": 91,
   "id": "54a5a1fe",
   "metadata": {
    "colab": {
     "base_uri": "https://localhost:8080/"
    },
    "executionInfo": {
     "elapsed": 26357,
     "status": "ok",
     "timestamp": 1652554654105,
     "user": {
      "displayName": "Abdelrahman Mohamed",
      "userId": "04684924364925318690"
     },
     "user_tz": -120
    },
    "id": "54a5a1fe",
    "outputId": "2f2bcaaf-fe88-473f-c367-1edcc5eebab6"
   },
   "outputs": [
    {
     "name": "stdout",
     "output_type": "stream",
     "text": [
      "SVC\n",
      "acc train: 0.9585284933645589\n",
      "acc test: 0.7789162112932605\n",
      "----------------------------\n"
     ]
    }
   ],
   "source": [
    "clf = SVC(degree=11)\n",
    "acc_tarin , acc_test = eval_model(clf,X_train_features,y_train,X_test_features,y_test)"
   ]
  },
  {
   "cell_type": "code",
   "execution_count": 92,
   "id": "oZndL6Q0A5kP",
   "metadata": {
    "colab": {
     "base_uri": "https://localhost:8080/",
     "height": 265
    },
    "executionInfo": {
     "elapsed": 5683,
     "status": "ok",
     "timestamp": 1652556331706,
     "user": {
      "displayName": "Abdelrahman Mohamed",
      "userId": "04684924364925318690"
     },
     "user_tz": -120
    },
    "id": "oZndL6Q0A5kP",
    "outputId": "78902755-5c32-445e-ed31-4bf2c9937145"
   },
   "outputs": [
    {
     "data": {
      "image/png": "iVBORw0KGgoAAAANSUhEUgAAAgEAAAGiCAYAAAB+hhW8AAAAOXRFWHRTb2Z0d2FyZQBNYXRwbG90bGliIHZlcnNpb24zLjUuMSwgaHR0cHM6Ly9tYXRwbG90bGliLm9yZy/YYfK9AAAACXBIWXMAAAxOAAAMTgF/d4wjAAA/6ElEQVR4nO3deVxU9f7H8RcgiLjAACq4kAYpaJFCUTfTrmVZtrm0ikuphRqZe6FdDXNDlNDM1BYrtxa326LlRrnkTy1FUzAvuCO4wYgguDD8/qA7NVdUUGDI834+HvN4ON/zPed8oIn5zOfzPWccEhISChERERHDcbR3ACIiImIfSgJEREQMSkmAiIiIQSkJEBERMSglASIiIgalJEBERMSglASIiIgYVJWKOlGrW/0q6lSV3sq163jo/jb2DsPuTH4P2DuESuFiQR5VnKrZOwy7y7943t4hVAqFlnwcHF3tHYbdrV45v9zPUZbvSxt3HSqzY1UkVQLsYFXCenuHIJVIQUGevUOQSqSw8Jy9QzAOS0HZPf6mlASIiIgYVIW1A0RERCqVQou9I7A7JQF28GDb1vYOQSoRJ60HkL9wcKhq7xCMw6IkQO0AO9CiQPkrLQqUv9KiQKlIqgSIiIghFaodoCRAREQMSu0AtQNERESMSpUAERExJrUDlASIiIhB/Y1v8lNW1A4QERExKFUCRETEmNQOUBIgIiIGpasD1A4QERExKlUCRETEkCriZkHz5s1j3bp1HD58GDc3N8LCwoiIiMDDw8M6p23btpfs98EHHxAQEGB9vmDBApYsWUJOTg6hoaEMGTIET09P6/bDhw8TFxdHUlISJpOJHj160KFDh6vGpyRARESMqQLaAbt27eLpp5+madOm5ObmMm3aNMaMGUNcXJzNvNGjRxMcHGx97u7ubv33ihUrmDt3LlFRUdSrV4/p06cTHR3N1KlTAbh48SJRUVEEBAQwc+ZMkpKSiIuLo27duoSGhl4xPiUBIiIi5WTixIk2zyMjI4mMjCQnJ4caNWpYx2vWrGnzyf6vli5dSpcuXWjTpuh7Z4YPH054eDgpKSkEBASwefNmjh8/zuzZs3Fzc6Nx48bs2LGDpUuXXjUJ0JoAERExpkJL2T1K6PTp07i4uFCtmu0Xh02cOJFOnToxYMAANm3aZB0/f/48qamptGzZ0jpWr149fHx8SEpKAmDPnj0EBgbi5uZmnRMSEkJycvJV41ElQEREjKmCbxZ0/vx5PvvsM9q3b4+Tk5N1vHfv3oSEhODk5MSGDRsYOXIksbGxhIaGkp2djcViwWQy2RzLw8MDs9kMQFZWls0ag//dfiVKAkRERMpZQUEB48ePB6Bfv34227p162b9d9OmTTl27BiLFi0iNDSUwsLCco1LSYCIiBjTdVwdsGrDVlZt3Gp9Xr/ZnYSFhRU712KxEBMTw6FDh4iPj7+kFfC/mjRpwrfffgsULRB0dHQkKyvLZo7ZbLZ++jeZTBw6dOiy269ESYCIiBjTdVwd8OA9oTx4z5+L7jadcCp2XmFhIbGxsSQlJTFt2jRq1ap11WOnpqbi4+MDgIuLC/7+/iQmJloX+aWnp5ORkUGzZs0ACAwM5MsvvyQvL8+aYGzfvp2goKCrnktJgIiISDmJi4tj06ZNTJgwAYDMzEyg6BO+k5MTmzZtwmw2ExQUhJOTE+vXr2flypXW1gFAx44dmT59Ok2aNMHX15cZM2YQHBxsvY9AWFgY3t7exMTE0LNnT5KTk1m7du0lVyYUR0mAiIgYU5neLKj4SsB/y/r9+/e3GV+4cCE+Pj44OTmxaNEijh49iqOjI35+fkRHR3PXXXdZ53bo0IGsrCzi4+OtNwsaOnSodbuzszMTJkwgLi6OiIgIPD09GThw4FUvDwRwSEhIKN9VB39odatfRZxG/kZMfg/YOwSpRPIvnrd3CFKJrF45v9zP8Q/Pc2V2rE2ZVcvsWBVJ9wkQERExKLUDRETEkAoLK/Y+AZWRkgARETGmCvgCocpO7QARERGDUiVARESMqQK+RbCyUxIgIiLGpHaA2gEiIiJGpUqAiIgYUwV/i2BlpCRARESMSe0AtQNERESMSpUAERExJl0doCRAREQMSu0AtQNERESMSpUAERExJrUDlASIiIhBKQlQO0BERMSoVAkQERFD0lcJKwkQERGjUjtA7QARERGjUiVARESMqSzvE+BQdoeqSEoCRETEmMqyHeBUdoeqSGoHiIiIGJQqASIiYky6bbCSABERMShdHaB2gIiIiFGpEiAiIsakdoCSABERMSi1A9QOEBERMSpVAkRExJhUCVASICIiBqU1AWoHiIiIGJUqASIiYkxqB6gSADD70895+sVI7mzXiX8+0ZU3x8WRmWW+6n7LV/1Ipx79aPnPx2n7RDgfz19UbjGePJXJgDfGcMf9HfnnE12Z/ennNtuXfbeKTj36EdauM3c/1IVer77Bb8m/l1s8N7InnmzPt9/NIy19Bzln9+PkdOWbgg9/PZIf1y3jVNYeVq7+stzjq1PXm4VfzOL4ySRS9m1m6LD+NttfePE5Vq9dRFr6Dg4c/IX5C2bQqFHDco9LSm74sFfY9dtPZJtTOJa+i6VL5nDLLTdfMi80JJi83AP8lLDUDlEaQKGl7B5/U6oEANt37qbHc51pHngLublnGf/O+wwdNZGP35142X2+/n4NMVNnMfzVl2gZ3Jyc3LPk5ORecwzvfTSPo+nHGPfmkGK3Dx01gcJCmDdzCkfSMxjx9hS8vUx0fqw9AN5eJgb2fZHGfg24cPEi8778NxGD3mTl4k+oUb36NcdlRNWqVeOnnzaRkLCR6DHDrzq/ShUnvli4jL2/30ajxtf/Zjti5Gv4+TWgb8SwYrd/9tl0HBwceOD+LjRq1JDZH0zh2LETzP3sKwDuvfcuFsxfzObN2wGIHjOMJcs+IeyO9ly8ePG645Prl7rvIK+99iap+w5Qq1ZNRv1rMF8v+4yg5vda57i6uvLxx/H89NMmqlVztWO0ciNTEgC8P+Vtm+evvxZBt4jBnMnJpWaNS99AL1y8yJT3PmL4qy/xZIcHL3vc5at/ZOacBaQdPUbD+r707x3OQ21blzq+31P280viLr5d+AGN/BoQ2MSfPXtTmf/V19Yk4N6777DZZ+grvfnq38vZd+Awwc0DS31OI/vi82UAtG59V4nmjx83FSh6875cEvDUU4/xRtQAbmrUkP37DjJ+3FSWLVtR6tia3xrIva3vokXw/aSk7Oe3ncm8d/vH9Ov/gjUJ6NN7kM0+r/R/g9R9W2gaGMDuXXtKfU4pe4sXf2vz/K3oySRuW0OdOt4cP34SgAnjR7Dyhx85k5PDA/eX/u+GlIDaAaVLAlJTU0lOTsZsNgPg4eFBUFAQ/v7+5RGb3ZjNp6nq4kI11+Kz76Q9/+FUZhYXLhbQsVtfzuTmclfI7Qwf8DIe7rUA2PxrIhPeeZ83h0TSrGkAO3fvYcTbU6hb25vbbw0qVTy/Jf1O3TreNPJrYB27644WzP7sC/LPncO1alWb+RcuXmTRN9/j4V6LxjepDGxv9933DyZPeYtBA0exfftv3BnWktkfTiEtLZ2tWxNLdaw77ridI0eOkpKy3zr2Y8LPDBv+Cq6uVcnPP3fJPt5engBklaDFJRXP1dWVnt2fYc/vKZw4cQqA+9veS7t2bbjjzva8PvwVO0d4A/sbl/HLSomSgMzMTMaMGcPOnTvx8fHB3d0dgNOnT5ORkcHtt9/OqFGjMJlM5RpsRTh//jzvz1nAE4+0o0qV4nvBaRnHAPho3pdEDexLzZo1mDRtNsNGT+SD+PEAzPrkc/q9GE77PzL4hvV92bp9J4u/+aHUSUBmlhkvk4fNmKeHOxaLhSxzNr51awOwN3U/4RGDOXfuPF4mD2bFjS22kiEVa/jrkUyYMI2lS5cDcODAYdq0uZueLz5X6iSgdm0v6xvFf508eQonJye8vDxJS0u/ZJ9/jR7CqlU/cTQt45p/Bil7j3Zox/x5M3Bzq8be/+zjsce7UVhYiLt7LWbNjKVb91c4d+7SpE6kLJUoCZgyZQoODg7Mnz8fX19fm23p6enExsYyZcoUxo4dWy5BVpSCggLeGBMLwLDIPpedV2gpBKDvC8/T5p4wAEYPH8BTL7xC+rET+NatzX/27WfHrmTemTnHut+FCxcJCW4OQHrGcZ7oFmGzjcJCVv64wTo2c/LbhLa4lUIKSxR/Y78GLP7kPU5nn2HxN98zdNQEPv9wKu61apbwNyDloXnzpoTdFWKzvsDFxZlNP/8CQIMG9fhl20qbbQ4ODnTs9Ih1rHPHF/n55604ODiU6twTJo6kefOmtHvgqev8KaSsJfy4kdA7H8Knbm0GDYpg/twZ3Ne2E+/EjeGrRV+zecs2e4d441M7oGRJwLZt25g+ffolCQCAr68v/fv359VXX73iMVauXceqhPXW5w+2bc1D97cpZbjlx2KxMHJcHPsPHuGT9ybh5lbtsnO9PD0AbMrzjf/4d8bxoiTg7Nl8hkb2odVdoTb7Vq3qAkBtby8Wf/KedXzeV//m+IlTDO7fyzpWp7ZX0flMJk79Tyk303waR0dHTB61rGPOzs74NagHwG3NmvLoc3345oe1dHv6yZL+GqQcVK9RnZEjxrN61Tqb8bz8fADS049xz92PWsf79X+BevXq8q83Y6xjR48WfYo/fvwktf94XfyXt7cXBQUFnDqVaTM+Onoonbs8ykPtnuFYxoky/Znk+p09m0dq6gFSUw+wZWsiJ48n8fDDbWnT+m4aNPBl8KC+ADg6OuLo6Ej+2YMEt7ifvXtT7Rx5+Si05FNY+GflY8uWLYSFhZXvSZUElCwJqFGjBunp6Zft/WdkZFD9KivQH7q/TaV60/+rwsJCRk2MZ+fuPXw2I/aqn5ybNb2FKlWqcCgt3VraP5R2FMBamm8a0JgjRzOsb8r/q0oVJ5tt7rVqkpt7ttj5tzVryrHjJzl4OI2bGtYHYPOvO7jl5kaXrAf4K4vFQpWrXN4m5e+335Jp1MiPffsOFru9oKDAZltWlpmaNWsUO/+XX3bQoEE9/P0bkZp6AID7/vkPdu/+3WY9QNSIAbzQ81kebv8cBw8eKdsfSMqFg4MDBRcLeOTRrri4OFvH+0b05K67Qnix12vs33/IjhGWLwdHVxz4cx1WuScAApQwCejUqRMTJkygS5cutGzZEg8PDwDMZjPbt29nyZIlhIeHl2ec5WpM7Lv8tHEzM2LHAEXX5AOYPNxxcnLi2ImT9BkQxfh/DeW2Zk2pVbMGHTu0470P51Kvbh1q1KjO+LgZtL77DnzqFCUBL/V4jiGjxlO3tjdt7rmT/HPn2bZjFyYPdx5pd1+p4msa0Jg7WtzK6JipvPFaX45mHGPuF0t5/bU/2wkz5ywgtMWt1POpy5kzOXyxbDlZ5tO0/sedZfRbMg6TyZ0GDetxs38jAG4LDip6o049SC33mnz33XxeemkIv/6yAygq55s83albtzbVq7txW3BRYvjbzmQAJsfO4LO500lLS+eH7xNwreZKq1Z3cvLEKRYv/q5Use3etYcN6zcz/b0JDBs2hptuasArkb14ffifV7gMHtKXQYP70vX5vmSZT1OnrjcAWZmnuXDhwvX+eqQMTBg/gn//+weOpmdQt05thg9/hZMnM9n481ays8/YzD1x4iR5Z/PYvVv3/ShzhSVrtd7ISpQEdO3aFZPJxNKlS5k/fz6Ff/ziHBwc8Pf355VXXuGRRx65ylEqr6/+XXSp1vMvDbQZ/2HRJ9T3rcvFiwXsP3SEvL980npjYF9ips7m1TeicXJypNVddxA1sK91e9vWdzPprdeZ9clC3pn5MTWqu9Gs6S3073VtydLkMVFET3qXbhGDqV7djV7dnrZeHgiQfSaHN8fFcfzkKWrVrEnzwFv4cOoE6vvWvabzGVmHR9sxa/Zk6/MNG78B4JE/PlU3aeqP21+u237zX4Po1v3Pnvum/ytaAFjDrTEAy79bzYsvDOD1N15lzNvDOZOdw/bEXYwfG39N8fXoEcm0d8ezNmExZ87k8E7cLOvlgQC9+4Tj5laNZf/+1Ga/R9o/x/r1m6/pnFK2Gjasz+cLZ1G7ticnTmSyYeNmHnr42UsSAClnagfgkJCQUKpU6MKFC2RnZ/+xitUdZ2fnq+8EtLrV75oClBuXye8Be4cglUj+xfP2DkEqkdUr55f7Oe5KTyizY232bVtmx6pIpb5ZkLOzM15eXlefKCIiUpmpEqA7BoqIiEHpZkH6AiERERGjUiVARESMSe0AJQEiImJQukRQ7QARERGjUiVARESMSe0AJQEiImJQSgLUDhARETEqVQJERMSYdJ8AJQEiImJMhRZdHaB2gIiIiEGpEiAiIsakhYFKAkRExKC0JkDtABEREaNSJUBERIxJCwOVBIiIiEFpTYDaASIiIkalSoCIiBiTKgFKAkRExKD0VcJKAkRERMrLvHnzWLduHYcPH8bNzY2wsDAiIiLw8PCwzjl8+DBxcXEkJSVhMpno0aMHHTp0sDnOggULWLJkCTk5OYSGhjJkyBA8PT1LdYziaE2AiIgYk8VSdo/L2LVrF08//TSzZs1i7NixHDhwgDFjxli3X7x4kaioKNzd3Zk5cybdu3cnLi6OX3/91TpnxYoVzJ07lwEDBjB9+nRyc3OJjo4u1TEuR5UAERExpgq4RHDixIk2zyMjI4mMjCQnJ4caNWqwefNmjh8/zuzZs3Fzc6Nx48bs2LGDpUuXEhoaCsDSpUvp0qULbdq0AWD48OGEh4eTkpJCQEBAiY5xOaoEiIiIVJDTp0/j4uJCtWrVANizZw+BgYG4ublZ54SEhJCcnAzA+fPnSU1NpWXLltbt9erVw8fHh6SkpBId40pUCRAREWOq4NsGnz9/ns8++4z27dvj5OQEQFZWls36AAAPDw/MZjMA2dnZWCwWTCbTZedc7RhXoiRARESMqQLvGFhQUMD48eMB6NevX4n3KyznKxiUBIiIiJTSqr1prN6bZn3e0CGIsLCwYudaLBZiYmI4dOgQ8fHx1lYAgMlk4tChQzbzzWaz9ZO9u7s7jo6OZGVlXXbO1Y5xJUoCRETEkAqv42ZB7QJ8aRfga32+9TIJQGFhIbGxsSQlJTFt2jRq1aplsz0wMJAvv/ySvLw8a3Kwfft2goKCAHBxccHf35/ExETrIr/09HQyMjJo1qxZiY5xJVoYKCIixmQpLLvHZcTFxbFp0yZGjhwJQGZmJpmZmRQUFAAQFhaGt7c3MTEx7N+/n+XLl7N27Vo6depkPUbHjh1ZvHgx69evJyUlhdjYWIKDgwkICCjxMS7HISEhoUKaIq1u9auI08jfiMnvAXuHIJVI/sXz9g5BKpHVK+eX+znu3PhxmR1ra6texY63bdu22PGFCxfi4+MDwKFDh6w3+vH09KR79+48+uijNvPnz59vc7OgoUOH2twsqCTHKI6SALEbJQHyV0oC5K8qJAnY8GGZHWvrvX3K7FgVSWsCRETEmCrw6oDKSmsCREREDEqVABERMSZ9lbCSABERMSi1A9QOEBERMSpVAkRExJgq+LsDKiMlASIiYkxqB6gdICIiYlSqBIiIiCFdz3cH3CiUBIiIiDGpHaB2gIiIiFGpEiAiIsakSoCSABERMShdIqh2gIiIiFGpEiAiIsakdoCSABERMaZCJQFqB4iIiBiVKgEiImJMqgQoCRAREYPSHQPVDhARETEqVQJERMSY1A5QEiAiIgalJEDtABEREaNSJUBERAypsFCVACUBIiJiTGoHqB0gIiJiVKoEiIiIMakSoCRARESMSd8dUIFJwEMtIirqVPI3EejewN4hSCWyM3O/vUMQMRxVAkRExJhUCVASICIiBqWvDtDVASIiIkalSoCIiBiSFgYqCRAREaNSEqB2gIiIiFGpEiAiIsakhYFKAkRExJi0JkDtABEREcNSJUBERIxJ7QAlASIiYkxqB6gdICIiYliqBIiIiDGpHaAkQEREjKlQSYDaASIiIkalSoCIiBiTKgFKAkRExJjUDlA7QERExLBUCRAREWNSJUBJgIiIGJPaAWoHiIiIGJYqASIiYkiqBCgJEBERg1ISoHaAiIiIYakSICIixlToYO8I7E5JgIiIGJLaAWoHiIiIGJYqASIiYkiFFrUDlASIiIghqR2gdoCIiIhhqRIgIiKGVKirA5QEiIiIMakdoHaAiIiIYakSICIihlQRVwesW7eOZcuWsXfvXnJzc1m9ejVOTk7W7W3btr1knw8++ICAgADr8wULFrBkyRJycnIIDQ1lyJAheHp6WrcfPnyYuLg4kpKSMJlM9OjRgw4dOpQoPiUBIiJiSIWF5X+Oc+fOERISQmhoKB9++GGxc0aPHk1wcLD1ubu7u/XfK1asYO7cuURFRVGvXj2mT59OdHQ0U6dOBeDixYtERUUREBDAzJkzSUpKIi4ujrp16xIaGnrV+JQEiIiIlJMHH3wQgMTExMvOqVmzps0n+79aunQpXbp0oU2bNgAMHz6c8PBwUlJSCAgIYPPmzRw/fpzZs2fj5uZG48aN2bFjB0uXLi1REqA1ASIiYkiFFocye1yPiRMn0qlTJwYMGMCmTZus4+fPnyc1NZWWLVtax+rVq4ePjw9JSUkA7Nmzh8DAQNzc3KxzQkJCSE5OLtG5VQkQERFDqgx3DOzduzchISE4OTmxYcMGRo4cSWxsLKGhoWRnZ2OxWDCZTDb7eHh4YDabAcjKysLDw+Oy269GSYCIiIiddOvWzfrvpk2bcuzYMRYtWkRoaCiFFbBoQUmAiIgY0vW8x647c4p1Z05ZnzfdsoWwsLDrjqlJkyZ8++23QNECQUdHR7KysmzmmM1m66d/k8nEoUOHLrv9apQEiIiIIV1PO6B1dW9aV/e2Pj9UBgkAQGpqKj4+PgC4uLjg7+9PYmKidZFfeno6GRkZNGvWDIDAwEC+/PJL8vLyqFatGgDbt28nKCioROdTEiAiIlJOsrOzOX78OGlpaQCkpKTg5ORE/fr1SUxMxGw2ExQUhJOTE+vXr2flypWMHz/eun/Hjh2ZPn06TZo0wdfXlxkzZhAcHGy9j0BYWBje3t7ExMTQs2dPkpOTWbt2LRMnTixRfEoCRETEkCriuwN+/vlnYmJirM/79u0LwDvvvIOTkxOLFi3i6NGjODo64ufnR3R0NHfddZd1focOHcjKyiI+Pt56s6ChQ4datzs7OzNhwgTi4uKIiIjA09OTgQMHlujyQACHhISECrhdAkR3G1cRp5G/kTMF+fYOQSqRnZn77R2CVCIrf5hX7udo0H9CmR3ryIyoMjtWRdJ9AkRERAxK7QARETEki75KWEmAiIgYU0WsCajs1A4QERExKFUCRETEkCrDbYPtTUmAiIgYUkV8lXBlp3aAiIiIQakSICIihqR2gJIAERExKF0iqHaAiIiIYakSICIihqT7BCgJEBERg9LVAWoHiIiIGJaSgP/x9odvkXBkFSH3tix2e90GdUk4sqrYh4eXR7nEZKpt4u0P32LFf75h0a+fEx75vM32R7s+wrvL4vkmaRlLd3xF9OxR+Pr5lEssRtAzMpxF6+exYd8qVu/+lrhPJuB3c8PLzr/JvyHxcyexNnk5q3d/w9C3X6OKc/kV2bxqezJ5zng27FvF94nLeHFAd5vtHcMf56OvZ/Dj7ytYtesbJn34NvX9fMstHim9f705mPPnjtg8Fn31oXV7+/Zt2fTzd2Rl7uX333/mpZe62THaG5el0KHMHn9Xagf8xcPPtKeqa9Urzjlx9ASdWz5jMxb5Vj9q+9bGfMp8TeftObg7Pg18iBkcW+z20e+/WXSeJwfi6+dDVPxwMk9ksuKLHwC4/e5gVn61it3bkgB46Y3eTJw7nl4PvETBxYJrisnIjhxIY9KIdzhy4CjVa7rx8tBexM+NoXOrrpfMda3myrsLp7BtUyIvPhaBu8mdEZOGMmh0JLFvxl/T+V8e8iK+DX2JHji+2O3jZ0Xj4AC9Hu9HPT9foqe9yanjp/j68+UAhPyjBd999T07f9kNQOSICKbNn8wzbXvo9VCJbNmynS5P9bI+z88/B0CL25uzeNFHRI0Yx3ffreb24ObMnj2ZkycyWbpsub3CvSFpTYCSAKu69evwwpAeRHZ8ja+2LrzsPIvFQtaJLOtzF1cXwtqGMXPsLJt5bZ/4Jz0GdsPXz4ejB47yyTtzWffd+lLHdXNQY26/O5jurV/gyP40UpNSWfThEjr36mRNAsYPiLHZJ3ZYHIu3fcFNt/ixL1nf0V5aa7790eb5zEkf8UXCp3h6m8g8mWWz7faw2/Cq7cm4YbFcOH8BOMz08bOJ+WAMMybOJjfnLAAPPfkAfQa/QL2GvqQdTGP25Dms+c72PCUREORP6D9a0LlVVw7tO8ze3SksmP0lz/Z+ypoEjIp822aft4fE8MOOZTS+pREpyamlPqeUjwsXLnDs2IlLxrt0eYyff/6Fd9/9CIB9+w5y190hDBoUoSRAypzaAYCDgwNvxA/nkymfcTL9ZKn2bfPIvVRxdiLh65+sYy3vacGAt1/hkymf8eL9fZg/fSFR8cMJCgkqdWyBLQI5fvQ4R/anWce2bdhO48BGuLi6FLuPu2ctALLNZ0p9PrFV1dWFx599hAMpB8kqptLj4uJMQUEBFy9ctI7l5+VT1bUqgcFNAbijVQjDxg1kVuxHPPvP7nw8bS7R747k1pBmpY6necsgMtKOcWjfYevY1g2/EhB0M1Uv83rw8HQHINucXerzSfkJDm7GoYPb2L1rHVOnjsXDo+i/k0tVF/Ly823m5p3NJzQ0mCpV9LmtLBUWlt3j76pMkoC8vDx27NhRFoeyi6de6kJebh7ff/lDqfd96KmH2PD9Rs7+8YkPoNtrXfn0nXn89N060g9lsGZZAquXrOHR5x8p9fFNXh6YT5ptxsynzDg5OeFuci92n97DXmTLj1tLndDIn+5tdw/rUn5gfeoq7m33DwZ0HUZhMf+n79qWRGEhvDy0F1Wcq2Dy8qD3wB4AeNfxBKD3wB58MGUOa779kbRD6fywdDXLF6+kY9fHSx2Xp7fpkmQk64/Xg4enR7H79H+9Dz8nbOZ4+qWfOsU+Nm/ZRq9eA+nQoSvDXx9Dm9Z3s3hR0Sf/tWs38MD999KhwwM4ODhw261BvPDCczg7O+Pt7WnnyG8sWhNQRu2AtLQ0Bg8ezJo1a8ricBXKL8CPZ15+ir6PvlLqfb19vQm5twVvdB9pM35zYGOahzbj5aje1rEqzlX4besuAOrUq80nCR/ZbHNwcOC+R1tbx17vPoLftuwCh9K9uPqPiqBxYGNe7TSw1D+P/OmXjdvo2q4XXnU86db3Oca9P5o+HV+5pKeedcrMiL5vMWLSUF4c0I2LFwqY8+5c7rw3FIulKGkICPLnttBbiRwZYd3P2dmZxC07gaJW1Fc/zbXZ5uDgwAOP3WcdGxA+jMTNO0v7cmDQW5H4B/nT+4n+pf0VSDlaufJH67937d5DcvJ/2JO8kZCQYH74IYG3345j/rz3qVrVhVOnspg3fzFDBvfFYrHYL2i5IZUoCbjaC68kL8zM/FNk5p+yPvd09cLT1askpy9XQS0D8axj4ovN823GJ82fQMLXPzLu1YmX3bd9lwc5dewUv67fZjNerXo1Zr49my0//WIzfv6PhT8nj52iT/u+1vEuvTri7ePNrPF/rg4+mVH0KT7rZBYe3h42x/Hw8qCgoIDTWadtxvu83ot/Pn4fAzoPJvN45lV+crmS/Lx8jhxI48iBNHZvTyZhz3Ja3X8361ZuvGTuxjWbeDS0C57eJs7m5lG3fh36De/D0UPpAFRzq8bUMe+x6cctNvud++/rIeMUXdv9uUDsud5PUcfXm2ljZ1rHTmQUfYo/dSIL0/9chWL64/VgzjTbjPePepl2j7flpY6RnDp+Cqm89u07SFaWmcaNGrJt205iJk0ndvIMfHzqcOzYCXr1ep4zZ3I4efLG/f/aYsmn0PJnG2TLli2EhYWV6zm1MLCEScCDDz54xe2FhYU4XOUjSmV50/9fG37YyO8799qMzVnzAXFvTGXLj1uvuO9DT7Vj1eI1l5SJU5P24evny9EDR4vdz1JgsdmWbT6DW43qxc7fk7iHOvXqUL9xfdL+WBfQslUL9u85wPn889Z5PQZ1o8PzDzPwqaFkHM648g8tpebg4HDVlfX/XTTY7vG2HE8/wZ7fil5X/0lKof5N9ThyIK3Y/QoKCmy2ZZuzqV6zerHzd29Pxqd+XRo2bsDh/UeAojUHKcn7OPeX18NLg1+gY9fHeLnzqxw9nF66H1YqXMOG9TCZPDhw8Ih1zGKxcPRo0f/LnTs/yvffr72hKwGOjq7g6Gp9Xt4JAOi7A6CESUC1atUIDw8nKKj4hW1paWnExcWVaWAVJTc7l9zs3EvGMw5ncDL9JN4+Xkz5fBITBk5iT+Lv1u3NQoLwC/Djh69GX7Lv/HcXMvr9NzmRfoL/W7OZqq5Vue2u2zh9ykzCNz9dMv9K9iXvZ8f/7WTopEFMHzUDn4Z1eapPZ957633rnOdfeZbn+z/LqJeiOXP6DKbaJgDOmM/YLFiTknl1ZF9+/H49J46dxMvbk56vhmPOPE3i1t+o7ePN+1/FM/rVcexOTAbgyecf5T9JqeTm5NL6wVb0GdiTUa+OpaCgKGmYM20uE2ZFczz9BBtWb6Kqqwst77qdrFNmVn29tlSxpSSn8uumRN6cPJzJ/5pKvYa+dH35GeJGTbPO6RkZTs/IcIb1HskZ8xm8ahf1kU+bs/V6qCQmjB/JN9+uJC0tnUaN/Jg4YSSbNv3Ctm07qVKlCn379mTN6nVUrepC//4vEhoSzD2tHrN32HIDKlES0LRpUywWCy1atCh2e40aNYpdNHUjcKpSBb8AP6pWs71/QPunH2L3r0kc3nfkkn1+XrWJtyPH0/21cF6K6s3ZnLPs/e0/fBI395K5JRHdbyxDJg5k+tdTOXvmLAtnfGm9PBDgiW6P4VrNlUnzJtjsN/DpIezYtPOazmlkPvXrMnH2GExeHmSdMpO4eSf9nh5I7plcarnXpFHATbj+5fXgH3gzkSP7Ur2GG/v3HmBEv7dIWL7Oun3dyo2M7B9Nn0EvEDkigtycsyTv/J3Zkz++pvhGRIxmxKShzPl2JjlncvnsvfnWywMBuvR4suj+BQum2OwX0flVft2UeE3nlLLl51efhQtm4uVl4ujRY6xa/ROjR0+isLCQwsJCOnV8hOi3huHo6MjGn7fwwANPkZKiy33L2o35rlU6DgkJCVf9Paxfv578/PzLtgXOnDnDxo0befjhhy97jOhu4649SrkhnSnIv/okMYydmXqTkz+t/GFeuZ/D5fl3y+xY5xe+WmbHqkglqgS0bt36ittr1qx5xQRAREREKh/deUJERAxJVwcoCRAREYO6ca+1KDndNlhERMSgVAkQERFDKkTtACUBIiJiSBZdI6h2gIiIiFGpEiAiIoZkKcN2wN/1E7WSABERMSStCfj7Ji8iIiJynVQJEBERQyrL+wQ4leGxKpKSABERMSS1A9QOEBERMSxVAkRExJB022AlASIiYlBKAtQOEBERMSxVAkRExJC0MFBJgIiIGJRFOYDaASIiIkalSoCIiBhSWX53wN+VkgARETEkfZOw2gEiIiKGpUqAiIgYku4ToCRAREQMyuKgNQFqB4iIiBiUKgEiImJIWhioJEBERAxKawLUDhARETEsVQJERMSQdNtgJQEiImJQumOg2gEiIiKGpUqAiIgYkq4OUBIgIiIGpTUBageIiIgYlioBIiJiSLpPgJIAERExKK0JUDtARETEsFQJEBERQ9LCQCUBIiJiUFoToCRARESk3Kxbt45ly5axd+9ecnNzWb16NU5OTtbthw8fJi4ujqSkJEwmEz169KBDhw42x1iwYAFLliwhJyeH0NBQhgwZgqenZ6mOcTlaEyAiIoZkKcPH5Zw7d46QkBCef/75S7ZdvHiRqKgo3N3dmTlzJt27dycuLo5ff/3VOmfFihXMnTuXAQMGMH36dHJzc4mOji7VMa5ElQARETGkwgpYE/Dggw8CkJiYeMm2zZs3c/z4cWbPno2bmxuNGzdmx44dLF26lNDQUACWLl1Kly5daNOmDQDDhw8nPDyclJQUAgICSnSMK1ElQERExA727NlDYGAgbm5u1rGQkBCSk5MBOH/+PKmpqbRs2dK6vV69evj4+JCUlFSiY1yNKgEiImJI9l4YmJWVhYeHh82Yh4cHZrMZgOzsbCwWCyaT6bJzrnaMq1ESICIihmTvJOBqCgvL/3ZGSgJERERKKTn/KMn56dbnZ7cEExYWVqpjmEwmDh06ZDNmNputn+zd3d1xdHQkKyvrsnOudoyr0ZoAERExpMLreAS61qOTR6j1UdoEACAwMJDff/+dvLw869j27dsJCgoCwMXFBX9/f5tFhenp6WRkZNCsWbMSHeNqlASIiIghWRzK7nE52dnZpKSkkJaWBkBKSgopKSnk5eURFhaGt7c3MTEx7N+/n+XLl7N27Vo6depk3b9jx44sXryY9evXk5KSQmxsLMHBwQQEBACU6BhXonaAiIhIOfn555+JiYmxPu/bty8A77zzDi1atGDChAnExcURERGBp6cnAwcOtLm0r0OHDmRlZREfH2+9WdDQoUOt252dna96jCtxSEhIqJAvUoruNq4iTiN/I2cK8u0dglQiOzP32zsEqURW/jCv3M+xvceHZXaslp/1KbNjVSRVAkRExJAq+9UBFUFrAkRERAxKlQARETGkCumFV3JKAkRExJCutKrfKNQOEBERMShVAkRExJC0MFBJgIiIGJTWBKgdICIiYliqBIiIiCFZVAuouCRgT05aRZ1K/ibM53LtHYJUIsGeje0dghiM1gSoHSAiImJYageIiIghqRmgJEBERAxK7QC1A0RERAxLlQARETEk3TZYSYCIiBiULhFUO0BERMSwVAkQERFDUh1ASYCIiBiUrg5QO0BERMSwVAkQERFD0sJAJQEiImJQSgHUDhARETEsVQJERMSQtDBQSYCIiBiU1gSoHSAiImJYqgSIiIghqQ6gJEBERAxKawLUDhARETEsVQJERMSQCtUQUBIgIiLGpHaA2gEiIiKGpUqAiIgYku4ToCRAREQMSimA2gEiIiKGpUqAiIgYktoBSgJERMSgdHWA2gEiIiKGpUqAiIgYkm4WpCRAREQMSu0AtQNEREQMS5UAERExJLUDlASIiIhBqR2gdoCIiIhhqRIgIiKGZClUO0BJgIiIGJJSALUDREREDEuVABERMSR9d4CSABERMShdIqh2gIiIiGGpEiAiIoak+wQoCRAREYPSmgC1A0RERAxLlQARETEkLQxUEiAiIgalNQFqB4iIiBiWKgEiImJIhfruACUBIiJiTLo6QO0AERERw1IlQEREDEkLA5UEiIiIQekSQbUDREREDEuVABERMaSKWBj4ySef8Omnn9qMtWrVirFjxwJw+PBh4uLiSEpKwmQy0aNHDzp06GAzf8GCBSxZsoScnBxCQ0MZMmQInp6eZRKfkgARETGkirpEMDAwkHHjxlmfu7i4AHDx4kWioqIICAhg5syZJCUlERcXR926dQkNDQVgxYoVzJ07l6ioKOrVq8f06dOJjo5m6tSpZRKbkgAREZFyVKVKlWI/uW/evJnjx48ze/Zs3NzcaNy4MTt27GDp0qXWJGDp0qV06dKFNm3aADB8+HDCw8NJSUkhICDgumPTmgARETEkSxk+riQ1NZXOnTvTvXt34uPjOXPmDAB79uwhMDAQNzc369yQkBCSk5MBOH/+PKmpqbRs2dK6vV69evj4+JCUlHSdP30RVQJERMSQKuLqgGbNmhEVFUX9+vXJyMjggw8+4M033yQ+Pp6srCw8PDxs5nt4eGA2mwHIzs7GYrFgMpkuO+d6qRIADBj8Mit/WkTKkV9I3PMT77w3Di8v0xX3GTg0guVrPufAsUT+vWJuucdYu443c+a/y76jv5K45ycGDH7ZZnt4j6f4+of5/H5wM7tSNvDhZ/H43dSg3OOSkqlVqyZTp44lNXUzJ08ms2jRR9Sv7wNA1apV+fDDOBIT15Cbu5/Ro4faOVr5q56R4SxaP48N+1axeve3xH0yAb+bG152/k3+DYmfO4m1yctZvfsbhr79GlWcy+/zlldtTybPGc+Gfav4PnEZLw7obrO9Y/jjfPT1DH78fQWrdn3DpA/fpr6fb7nFI7bCwsJo3bo1N998M/fccw9jx45l586d7N2796r7VsSaBSUBQNjdIcx671Mebvs0L3SNpElTf2bOmXLFfZyqVGHxl9/y9dIVZRLDkDdeIX7GuMtunzVnCh4mdx5vH07U0DG8OuglnuvW2br9H63u5KuF/6Zjh+48/WQvqlatyvxFs6hSRcWeymDmzEmEht7Os8++TKtWj5Ofn8/ixR/j6OiIk5MjOTlnmTJlJjt3Jts7VPkfRw6kMWnEOzxzXw/6Pf0aBRYL8XNjip3rWs2VdxdOwZxp5sXHIhjcM4o7WrVk0OjIaz7/y0NeZHT8iMtuHz8rmloeNen1eD8mRk3hhVe78cRzf64uD/lHC7776nv6dIyk39MDcalalWnzJ+NUxemaY7pRWCi85seJ/BPsMe+xPrZs2VKic9avX58aNWqQnp6OyWS65BO92Wy2Vgfc3d1xdHQkKyvrsnOul94hgG7P9LV5PipqAt+uWkjNWjU4k51T7D5TJr4HFL1533SZT9xPdn6EwcP70/Cm+hzcf5jJE9/ju69Xljq+oOZN+EerO2kV+gj7Ug+y+7c9zA7+lN4R3fh83hIAIiNet9lnyIB/seP3ddzS9GaSd18945Ty4+palccff4hHHunKL7/sAKBv3+EcO7aL+++/l9Wr1zFw4JsAdOvWxZ6hSjHWfPujzfOZkz7ii4RP8fQ2kXnS9o/z7WG34VXbk3HDYrlw/gJwmOnjZxPzwRhmTJxNbs5ZAB568gH6DH6Beg19STuYxuzJc1jzne15SiIgyJ/Qf7Sgc6uuHNp3mL27U1gw+0ue7f0UX3++HIBRkW/b7PP2kBh+2LGMxrc0IiU5tdTnvJFczydtz6peeFb1sj4PCwsr0X7Hjh0jJycHHx8fnJ2d+fLLL8nLy6NatWoAbN++naCgIKDoKgJ/f38SExOtCwXT09PJyMigWbNm1xz7X6kSUAxPLxN5efmczc275mO0anMX4yaNJHbCdP559xNMi5vNuzMnEHJHcKmP1TLkNtKOpLMv9aB1bMNP/0dQs1twda162Z8BwJx1+tp+ACkzzs7OVKlShfz8fOvYuXPnKSgo4O67Q+0YmZRWVVcXHn/2EQ6kHCTrlPmS7S4uzhQUFHDxwkXrWH5ePlVdqxIY3BSAO1qFMGzcQGbFfsSz/+zOx9PmEv3uSG4NKf0f9eYtg8hIO8ahfYetY1s3/EpA0M1UdXUpdh8PT3cAss3ZpT6flN7MmTP57bffyMjIYPv27YwaNYrmzZvTpEkTwsLC8Pb2JiYmhv3797N8+XLWrl1Lp06drPt37NiRxYsXs379elJSUoiNjSU4OLhMrgyAUlYCzp49i6urK46OtrmDxWLhxIkT1K1bt0yCsicXF2cGD+/HVwv/TUFBwTUfZ+DQCKbEzODbf/8AwKGDR7jn3jvp2uMptv2ys1TH8q7txamTmTZjp05m4eTkhKeXiaNpGZfs8/qbr5Gwej3pR49d888gZePMmRy2bt3OiBED6dNnELm5eURHD8PZ2Zm6dWvbOzwpgXvb3cP4maNxrebKoX2HGdB1WLGfIndtS6KwEF4e2ouP4j+lZq0a9B7YAwDvOkWXiPUe2IMPpsyxVhjSDqUTek9LOnZ9nF3bSrfi29PbdEkyknXKjJOTEx6eHhw7evySffq/3oefEzZzPP1Eqc51I6qImwUdO3aMt956i+zsbLy8vLjzzjvp3bs3jo6OODo6MmHCBOLi4oiIiMDT05OBAwdaP/UDdOjQgaysLOLj4603Cxo6tOzWDZUoCTh9+jRjxowhMTERFxcX2rdvT9++fXF1dQWK+hNdu3ZlzZo1ZRaYPTg6OjJ99iQAov8Ve13HCmrWhNA7WzBy9GDrmLOLM1v+71cA6jfw5af/+8Zmm4MDPPZEe+tY+NMRbN70Kw4ODqU691vjhhPU7BaeaB9+XT+DlJ1evQYxZ048hw9vx2KxsGzZCrZt+w2LRV9h8nfwy8ZtdG3XC686nnTr+xzj3h9Nn46vUHDR9oNC1ikzI/q+xYhJQ3lxQDcuXihgzrtzufPeUCyWojecgCB/bgu9lciREdb9nJ2dSdxS9OGgbv06fPXTXJttDg4OPPDYfdaxAeHDSNy8k1L+aWDQW5H4B/nT+4n+pf0V3JAq4uqA0aNHX3G7n58f8fHxV5wTHh5OeHj5/D0vURIwc+ZM8vLyePfddzGbzcydO5dBgwYRGxtLjRo1gKv3Vs5dyOHcxVzr86pVqlPVucZ1hF62HBwcmPr+eAJuaUznR3tyNvfsdR3PrbobY/4Vy49rNtqM/7cknJF+nHat/1zY17tvN3x96zB2dJx1LCO96FP8ieMn8fK2vdGEl7eJgoICMk/Z9iSj/jWQxzs+TMcO3Tl+7OR1/QxSdlJS9tO69ZPUqlWTKlWcyMw0s2/fVg4ePHz1ncXu8vPyOXIgjSMH0ti9PZmEPctpdf/drFu58ZK5G9ds4tHQLnh6mzibm0fd+nXoN7wPRw+lA1DNrRpTx7zHph9tF5Kdyz8HwMmMU3Rt18s6/lzvp6jj6820sTOtYycyij7FnzqRhcnLw+Y4Ji8PCgoKMGeabcb7R71Mu8fb8lLHSE4dP3XNv4vycvpcFtnn/vx7tmXLlhL32eXalSgJ2Lp1K+PGjaNp06Ke1p133sm4ceN47bXXmDKlaBX91T6tVnWuUane9P/XlHffJuSO2+n4SHfM5uvvoyft+p2bGjXkwP5DxW4vKCiw2WbOOk3NmtWLnb9922/Ub+BL45tvYv++onUBrdrcTXLSf8j/4w8HwODX+9O1Rxc6P9qTwwfTrvtnkLKXnV10k5BWre7E17cOy5evtXNEci0cHBwuqQL8r/8uGmz3eFuOp59gz29FC3T/k5RC/ZvqceRA8f+PFhQU2GzLNmdTvWb1Yufv3p6MT/26NGzcgMP7jwBFaw5SkvdxLv+8dd5Lg1+gY9fHeLnzqxw9nF66H7aCuFc14V71z0uzKyIBsFTQbYMrsxItDDx79qzNHY2cnZ0ZNWoU/v7+DBgwgBMn/t69pUnvvMVDD/+TV14aDhRdk1+7jrd17YOPbx3Wb/mWFiG3Wfep38CX5rcFUqeON9Wqu9H8tkCa3xZo3T4tbjYv9Hmel/v34Gb/m2h2a1NefKkrT3R6uNTxJe/ey6aNW5k8LZpmtzalfYf7eblfDz6aNc86J3JgHyJf682AvlGYzdnWn8HZ2flafy1Shtq3b0vbtq1o1KghnTp1YP7895k58zP27PkPAIGBtxAc3Izq1atTp443wcHNuPnmm+wctQC8OrIvt4U2x6dBXZq3CGL8zLcwZ54mcetv1PbxZtH6eTRvEWSd/+Tzj9Ls9kBu8m9It77P0WdgT955a7p1jdGcaXN5+oVOdH35Gfxubsgtzfx55sXOPPjE/aWOLSU5lV83JfLm5OHc0syf+9rfS9eXn+GLjxZZ5/SMDKdnZDijB4zljPkMXrU98artWa73Lvi7KCzDx99ViV4FDRo0YO/evTRs+OcNMhwdHYmKimLSpEm88cYb5RZgRej+4jMArFj7hc34ncHtOHLoKFWcqxDQ5Gaqublatw0bEcmzXf9cwbl6fdGler4eRSt8V65IoH+foQwa1o8RoweTcyaHnYm7mfzHpYWlFfHiECbFv8W3Kxdw5kwu7039yHp5IECPXs9Sza0aCxbPttmv82M92bRh6zWdU8qOp6cHo0cPwde3Lunpx3j//U+Jjf3ztbBs2Rxuuqno/6/Q0GB69Xqedes20b79c/YKWf7gU78uE2ePweTlQdYpM4mbd9Lv6YHknsmllntNGgXchGu1P6/S8Q+8mciRfalew439ew8wot9bJCxfZ92+buVGRvaPps+gF4gcEUFuzlmSd/7O7MkfX1N8IyJGM2LSUOZ8O5OcM7l89t586+WBAF16PFl0/4IFtvc+iej8Kr9uSrymc8qNwyEhIeGqScy8efPYvXs3EyZMKHb7lClT+O6771i79vKlzec7aiGK2DKfy736JDGM5h5+9g5BKpHJC9+++qTrNDJ8TJkda9z8UWV2rIpUokpAt27drrh9yJAhDBkypEwCEhERqQgVcYlgZaebBYmIiBiUVoaIiIghVcQX9FR2SgJERMSQ1A5QO0BERMSwVAkQERFDqojbBld2SgJERMSQtCZA7QARERHDUiVAREQMSQsDlQSIiIhBqR2gdoCIiIhhqRIgIiKGpHaAkgARETEoXSKodoCIiIhhqRIgIiKGZNHCQCUBIiJiTGoHqB0gIiJiWKoEiIiIIakdoCRAREQMSu0AtQNEREQMS5UAERExJLUDlASIiIhBqR2gdoCIiIhhqRIgIiKGpHaAkgARETEotQPUDhARETEsVQJERMSQCgst9g7B7pQEiIiIIVnUDlA7QERExKhUCRAREUMq1NUBSgJERMSY1A5QO0BERMSwVAkQERFDUjtASYCIiBiU7hiodoCIiIhhqRIgIiKGpNsGKwkQERGD0poAtQNEREQMS5UAERExJN0nQEmAiIgYlNoBageIiIgYlioBIiJiSLpPgJIAERExKLUD1A4QERExLFUCRETEkHR1gJIAERExKLUD1A4QERExLFUCRETEkHR1gJIAERExKH2BkNoBIiIihqVKgIiIGJLaAUoCRETEoHR1gNoBIiIihqVKgIiIGJIWBioJEBERg1I7QO0Auzh3IcfeIUglUlCQZ+8QpBI5fS7L3iGIgSgJsINzF3PtHYJUIhZLvr1DkEokW0lAhSksLCyzx9+V2gEiImJIf9+37rKjSoCIiIhBOSQkJCgZqmBbtmwhLCzM3mFIJaHXg/yVXg9SkZQEiIiIGJTaASIiIgalJEBERMSglASIiIgYlC4RrEALFixgyZIl5OTkEBoaypAhQ/D09LR3WGIH69atY9myZezdu5fc3FxWr16Nk5OTvcMSO5k3bx7r1q3j8OHDuLm5ERYWRkREBB4eHvYOTW5wqgRUkBUrVjB37lwGDBjA9OnTyc3NJTo62t5hiZ2cO3eOkJAQnn/+eXuHIpXArl27ePrpp5k1axZjx47lwIEDjBkzxt5hiQGoElBBli5dSpcuXWjTpg0Aw4cPJzw8nJSUFAICAuwcnVS0Bx98EIDExET7BiKVwsSJE22eR0ZGEhkZSU5ODjVq1LBTVGIEqgRUgPPnz5OamkrLli2tY/Xq1cPHx4ekpCQ7RiYildHp06dxcXGhWrVq9g5FbnBKAipAdnY2FosFk8lkM+7h4YHZbLZPUCJSKZ0/f57PPvuM9u3ba52IlDslARXg7/zlEiJScQoKChg/fjwA/fr1s3M0YgRaE1AB3N3dcXR0JCvL9tvBzGazVv+KCAAWi4WYmBgOHTpEfHy8WgFSIVQJqAAuLi74+/vbLAJLT08nIyODZs2a2S8wEakUCgsLiY2NJSkpicmTJ1OrVi17hyQGoUpABenYsSPTp0+nSZMm+Pr6MmPGDIKDg3VlgEFlZ2dz/Phx0tLSAEhJScHJyYn69evrE6ABxcXFsWnTJiZMmABAZmYmUFRF1LoAKU/6AqEKNH/+fJubBQ0dOlQ3CzKo77//npiYmEvG33nnHVq0aFHxAYldtW3bttjxhQsX4uPjU8HRiJEoCRARETEorQkQERExKCUBIiIiBqUkQERExKCUBIiIiBiUkgARERGDUhIgIiJiUEoCREREDEpJgIiIiEEpCRARETEoJQEiIiIG9f8WhSN/CI7/QwAAAABJRU5ErkJggg==\n",
      "text/plain": [
       "<Figure size 640x480 with 2 Axes>"
      ]
     },
     "metadata": {},
     "output_type": "display_data"
    }
   ],
   "source": [
    "import seaborn as sns\n",
    "import matplotlib.pyplot as plt\n",
    "y_pred=clf.predict(X_test_features)\n",
    "cm=confusion_matrix(y_test,y_pred)\n",
    "sns.heatmap(cm,annot=True)\n",
    "plt.show()\n"
   ]
  },
  {
   "cell_type": "markdown",
   "id": "5161779b",
   "metadata": {
    "id": "5161779b"
   },
   "source": [
    "# USING RANDOM FOREST CLASSIFIER "
   ]
  },
  {
   "cell_type": "code",
   "execution_count": 104,
   "id": "25c5360f",
   "metadata": {
    "colab": {
     "base_uri": "https://localhost:8080/"
    },
    "executionInfo": {
     "elapsed": 5910,
     "status": "ok",
     "timestamp": 1652555118706,
     "user": {
      "displayName": "Abdelrahman Mohamed",
      "userId": "04684924364925318690"
     },
     "user_tz": -120
    },
    "id": "25c5360f",
    "outputId": "3e7d65b6-274e-4321-d282-604e0491e3da"
   },
   "outputs": [
    {
     "name": "stdout",
     "output_type": "stream",
     "text": [
      "RandomForestClassifier\n",
      "acc train: 0.9960967993754879\n",
      "acc test: 0.755464480874317\n",
      "----------------------------\n"
     ]
    }
   ],
   "source": [
    "clf1=RandomForestClassifier(n_estimators=100, n_jobs=-1)\n",
    "acc_tarin1,acc_test1=eval_model(clf1,X_train_features,y_train,X_test_features,y_test)\n",
    " "
   ]
  },
  {
   "cell_type": "code",
   "execution_count": 105,
   "id": "pmzWlyEDCL0w",
   "metadata": {
    "colab": {
     "base_uri": "https://localhost:8080/",
     "height": 265
    },
    "executionInfo": {
     "elapsed": 1460,
     "status": "ok",
     "timestamp": 1652556366021,
     "user": {
      "displayName": "Abdelrahman Mohamed",
      "userId": "04684924364925318690"
     },
     "user_tz": -120
    },
    "id": "pmzWlyEDCL0w",
    "outputId": "e4f19362-246b-4aa9-e98e-7c662a1cd3ff"
   },
   "outputs": [
    {
     "data": {
      "image/png": "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\n",
      "text/plain": [
       "<Figure size 640x480 with 2 Axes>"
      ]
     },
     "metadata": {},
     "output_type": "display_data"
    }
   ],
   "source": [
    "import seaborn as sns\n",
    "import matplotlib.pyplot as plt\n",
    "y_pred1=clf1.predict(X_test_features)\n",
    "cm=confusion_matrix(y_test,y_pred1)\n",
    "sns.heatmap(cm,annot=True)\n",
    "plt.show()\n"
   ]
  },
  {
   "cell_type": "markdown",
   "id": "8tc2Ts0uSlxx",
   "metadata": {
    "id": "8tc2Ts0uSlxx"
   },
   "source": [
    "# USING KNeighborsClassifier "
   ]
  },
  {
   "cell_type": "code",
   "execution_count": 106,
   "id": "09fdb9bb",
   "metadata": {
    "colab": {
     "base_uri": "https://localhost:8080/"
    },
    "executionInfo": {
     "elapsed": 6014,
     "status": "ok",
     "timestamp": 1652555127943,
     "user": {
      "displayName": "Abdelrahman Mohamed",
      "userId": "04684924364925318690"
     },
     "user_tz": -120
    },
    "id": "09fdb9bb",
    "outputId": "402190f5-0c8f-4d5e-dea9-522ecb9291ce"
   },
   "outputs": [
    {
     "name": "stdout",
     "output_type": "stream",
     "text": [
      "KNeighborsClassifier\n",
      "acc train: 0.7379000780640125\n",
      "acc test: 0.7454462659380692\n",
      "----------------------------\n"
     ]
    }
   ],
   "source": [
    "clf2=KNeighborsClassifier(n_neighbors=57)\n",
    "acc_tarin2,acc_test2=eval_model(clf2,X_train_features,y_train,X_test_features,y_test)"
   ]
  },
  {
   "cell_type": "code",
   "execution_count": 107,
   "id": "rs3YZXreCS1l",
   "metadata": {
    "colab": {
     "base_uri": "https://localhost:8080/",
     "height": 265
    },
    "executionInfo": {
     "elapsed": 2548,
     "status": "ok",
     "timestamp": 1652556407593,
     "user": {
      "displayName": "Abdelrahman Mohamed",
      "userId": "04684924364925318690"
     },
     "user_tz": -120
    },
    "id": "rs3YZXreCS1l",
    "outputId": "fa89dc89-4641-48d9-99b6-3881cab9aea5"
   },
   "outputs": [
    {
     "data": {
      "image/png": "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\n",
      "text/plain": [
       "<Figure size 640x480 with 2 Axes>"
      ]
     },
     "metadata": {},
     "output_type": "display_data"
    }
   ],
   "source": [
    "y_pred2=clf2.predict(X_test_features)\n",
    "cm=confusion_matrix(y_test,y_pred2)\n",
    "sns.heatmap(cm,annot=True)\n",
    "plt.show()\n"
   ]
  },
  {
   "cell_type": "markdown",
   "id": "szgQLsp7S25B",
   "metadata": {
    "id": "szgQLsp7S25B"
   },
   "source": [
    "# USING BernoulliNB Classifier"
   ]
  },
  {
   "cell_type": "code",
   "execution_count": 108,
   "id": "VJzqikmvKlD8",
   "metadata": {
    "colab": {
     "base_uri": "https://localhost:8080/"
    },
    "executionInfo": {
     "elapsed": 384,
     "status": "ok",
     "timestamp": 1652555132127,
     "user": {
      "displayName": "Abdelrahman Mohamed",
      "userId": "04684924364925318690"
     },
     "user_tz": -120
    },
    "id": "VJzqikmvKlD8",
    "outputId": "1748a346-649b-445d-d8b0-35a97f1450b4"
   },
   "outputs": [
    {
     "name": "stdout",
     "output_type": "stream",
     "text": [
      "BernoulliNB\n",
      "acc train: 0.8162568306010929\n",
      "acc test: 0.735655737704918\n",
      "----------------------------\n"
     ]
    }
   ],
   "source": [
    "clf3=BernoulliNB()\n",
    "acc_tarin3,acc_test3=eval_model(clf3,X_train_features,y_train,X_test_features,y_test)\n"
   ]
  },
  {
   "cell_type": "code",
   "execution_count": 109,
   "id": "xkRtsdJKCeK_",
   "metadata": {
    "colab": {
     "base_uri": "https://localhost:8080/",
     "height": 265
    },
    "executionInfo": {
     "elapsed": 473,
     "status": "ok",
     "timestamp": 1652556475122,
     "user": {
      "displayName": "Abdelrahman Mohamed",
      "userId": "04684924364925318690"
     },
     "user_tz": -120
    },
    "id": "xkRtsdJKCeK_",
    "outputId": "0a7a30dc-e811-40a0-d31a-353c61563c6e"
   },
   "outputs": [
    {
     "data": {
      "image/png": "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\n",
      "text/plain": [
       "<Figure size 640x480 with 2 Axes>"
      ]
     },
     "metadata": {},
     "output_type": "display_data"
    }
   ],
   "source": [
    "y_pred3=clf3.predict(X_test_features)\n",
    "cm=confusion_matrix(y_test,y_pred3)\n",
    "sns.heatmap(cm,annot=True)\n",
    "plt.show()\n"
   ]
  },
  {
   "cell_type": "markdown",
   "id": "D7x7EbSbTD-h",
   "metadata": {
    "id": "D7x7EbSbTD-h"
   },
   "source": [
    "# USING LogisticRegression"
   ]
  },
  {
   "cell_type": "code",
<<<<<<< HEAD
   "execution_count": 65,
=======
   "execution_count": 115,
>>>>>>> e5dd505e0b5115757b340e423bd6582f46fd88d4
   "id": "gh8ZQKKmOSGV",
   "metadata": {
    "colab": {
     "base_uri": "https://localhost:8080/"
    },
    "executionInfo": {
     "elapsed": 934,
     "status": "ok",
     "timestamp": 1652555135726,
     "user": {
      "displayName": "Abdelrahman Mohamed",
      "userId": "04684924364925318690"
     },
     "user_tz": -120
    },
    "id": "gh8ZQKKmOSGV",
    "outputId": "20c20ed5-b6a7-4456-ae92-de4fc035ed9e"
   },
   "outputs": [
    {
     "name": "stdout",
     "output_type": "stream",
     "text": [
      "LogisticRegression\n",
      "acc train: 0.877927400468384\n",
      "acc test: 0.7809653916211293\n",
      "----------------------------\n"
     ]
    }
   ],
   "source": [
    "clf4=LogisticRegression(max_iter=100,random_state=0)\n",
    "acc_tarin4,acc_test4=eval_model(clf4,X_train_features,y_train,X_test_features,y_test)"
   ]
  },
  {
   "cell_type": "code",
   "execution_count": 116,
   "id": "gmQpBGTzCtca",
   "metadata": {
    "colab": {
     "base_uri": "https://localhost:8080/",
     "height": 265
    },
    "executionInfo": {
     "elapsed": 457,
     "status": "ok",
     "timestamp": 1652556504575,
     "user": {
      "displayName": "Abdelrahman Mohamed",
      "userId": "04684924364925318690"
     },
     "user_tz": -120
    },
    "id": "gmQpBGTzCtca",
    "outputId": "84b74380-06d0-4c70-dc44-bb1208dcc1b2"
   },
   "outputs": [
    {
     "data": {
      "image/png": "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\n",
      "text/plain": [
       "<Figure size 640x480 with 2 Axes>"
      ]
     },
     "metadata": {},
     "output_type": "display_data"
    }
   ],
   "source": [
    "y_pred4=clf4.predict(X_test_features)\n",
    "cm=confusion_matrix(y_test,y_pred4)\n",
    "sns.heatmap(cm,annot=True)\n",
    "plt.show()"
   ]
  },
  {
   "cell_type": "markdown",
   "id": "5ufuyqRmTNJx",
   "metadata": {
    "id": "5ufuyqRmTNJx"
   },
   "source": [
    "# USING MultinomialNB Classifier"
   ]
  },
  {
   "cell_type": "code",
   "execution_count": 117,
   "id": "sIpNEtJuRvLU",
   "metadata": {
    "colab": {
     "base_uri": "https://localhost:8080/"
    },
    "executionInfo": {
     "elapsed": 525,
     "status": "ok",
     "timestamp": 1652555139279,
     "user": {
      "displayName": "Abdelrahman Mohamed",
      "userId": "04684924364925318690"
     },
     "user_tz": -120
    },
    "id": "sIpNEtJuRvLU",
    "outputId": "fd150f2c-f4cb-4460-8732-e4ca5c5a1c4e"
   },
   "outputs": [
    {
     "name": "stdout",
     "output_type": "stream",
     "text": [
      "MultinomialNB\n",
      "acc train: 0.7314597970335676\n",
      "acc test: 0.682832422586521\n",
      "----------------------------\n"
     ]
    }
   ],
   "source": [
    "clf5=MultinomialNB()\n",
    "acc_tarin5,acc_test5=eval_model(clf5,X_train_features,y_train,X_test_features,y_test)"
   ]
  },
  {
   "cell_type": "code",
   "execution_count": 118,
   "id": "ZeX8blnRCz3v",
   "metadata": {
    "colab": {
     "base_uri": "https://localhost:8080/",
     "height": 265
    },
    "executionInfo": {
     "elapsed": 511,
     "status": "ok",
     "timestamp": 1652556570833,
     "user": {
      "displayName": "Abdelrahman Mohamed",
      "userId": "04684924364925318690"
     },
     "user_tz": -120
    },
    "id": "ZeX8blnRCz3v",
    "outputId": "22dccdbe-b72c-426d-a639-91aacce41a2e"
   },
   "outputs": [
    {
     "data": {
      "image/png": "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\n",
      "text/plain": [
       "<Figure size 640x480 with 2 Axes>"
      ]
     },
     "metadata": {},
     "output_type": "display_data"
    }
   ],
   "source": [
    "y_pred5=clf5.predict(X_test_features)\n",
    "cm=confusion_matrix(y_test,y_pred5)\n",
    "sns.heatmap(cm,annot=True)\n",
    "plt.show()\n"
   ]
  },
  {
   "cell_type": "markdown",
   "id": "K18P0XyQDXss",
   "metadata": {
    "id": "K18P0XyQDXss"
   },
   "source": [
    "# Making Voting to five Models"
   ]
  },
  {
   "cell_type": "code",
   "execution_count": 119,
   "id": "LMPIZXEp94RE",
   "metadata": {
    "executionInfo": {
     "elapsed": 1934,
     "status": "ok",
     "timestamp": 1652555786828,
     "user": {
      "displayName": "Abdelrahman Mohamed",
      "userId": "04684924364925318690"
     },
     "user_tz": -120
    },
    "id": "LMPIZXEp94RE"
   },
   "outputs": [],
   "source": [
    "estimators = [\n",
    "    ('Svm',clf),\n",
    "    ('RANDOM FOREST', clf1),\n",
    "    ('KNN', clf2),\n",
    "    ('BernoulliNB', clf3),\n",
    "    ('LogisticRegression',clf4),\n",
    "    ('MultinomialNB',clf5)\n",
    "]\n",
    "\n",
    "voting_clf = VotingClassifier(estimators)"
   ]
  },
  {
   "cell_type": "code",
   "execution_count": 120,
   "id": "Tc3NO9pb-aqn",
   "metadata": {
    "colab": {
     "base_uri": "https://localhost:8080/"
    },
    "executionInfo": {
     "elapsed": 50248,
     "status": "ok",
     "timestamp": 1652555840584,
     "user": {
      "displayName": "Abdelrahman Mohamed",
      "userId": "04684924364925318690"
     },
     "user_tz": -120
    },
    "id": "Tc3NO9pb-aqn",
    "outputId": "23ad67ef-f648-488b-8cca-5670a06db20f"
   },
   "outputs": [
    {
     "name": "stdout",
     "output_type": "stream",
     "text": [
      "SVC\n",
      "acc train: 0.9585284933645589\n",
      "acc test: 0.7789162112932605\n",
      "----------------------------\n",
      "RandomForestClassifier\n",
      "acc train: 0.9960967993754879\n",
      "acc test: 0.7611566484517304\n",
      "----------------------------\n",
      "KNeighborsClassifier\n",
      "acc train: 0.7379000780640125\n",
      "acc test: 0.7454462659380692\n",
      "----------------------------\n",
      "BernoulliNB\n",
      "acc train: 0.8162568306010929\n",
      "acc test: 0.735655737704918\n",
      "----------------------------\n",
      "LogisticRegression\n",
      "acc train: 0.877927400468384\n",
      "acc test: 0.7809653916211293\n",
      "----------------------------\n",
      "MultinomialNB\n",
      "acc train: 0.7314597970335676\n",
      "acc test: 0.682832422586521\n",
      "----------------------------\n",
      "VotingClassifier\n",
      "acc train: 0.8575331772053083\n",
      "acc test: 0.7572859744990893\n",
      "----------------------------\n"
     ]
    }
   ],
   "source": [
    "all_estimators = estimators + [('voting', voting_clf)]\n",
    "\n",
    "final_results = {\n",
    "    'model': [],\n",
    "    'acc train': [],\n",
    "    'acc test': []\n",
    "}\n",
    "\n",
    "for (name, clf) in all_estimators:\n",
    "    acc_train, acc_test = eval_model(\n",
    "        clf, X_train_features,y_train,X_test_features,y_test\n",
    "    )\n",
    "    final_results['model'].append(name)\n",
    "    final_results['acc train'].append(acc_train)\n",
    "    final_results['acc test'].append(acc_test)"
   ]
  },
  {
   "cell_type": "code",
   "execution_count": 121,
   "id": "QB7fMl48_cfA",
   "metadata": {
    "colab": {
     "base_uri": "https://localhost:8080/",
     "height": 559
    },
    "executionInfo": {
     "elapsed": 510,
     "status": "ok",
     "timestamp": 1652555850908,
     "user": {
      "displayName": "Abdelrahman Mohamed",
      "userId": "04684924364925318690"
     },
     "user_tz": -120
    },
    "id": "QB7fMl48_cfA",
    "outputId": "6e33a839-b672-4599-de2c-493ebe730c40"
   },
   "outputs": [
    {
     "data": {
      "image/png": "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\n",
      "text/plain": [
       "<Figure size 1296x576 with 1 Axes>"
      ]
     },
     "metadata": {
      "needs_background": "light"
     },
     "output_type": "display_data"
    }
   ],
   "source": [
    "import matplotlib.pyplot as plt\n",
    "%matplotlib inline\n",
    "\n",
    "final_results=pd.DataFrame(final_results)\n",
    "final_results.plot.bar(x='model',y=['acc train','acc test'],color=['red','green'],\n",
    "                       figsize=(18,8),width=0.5)\n",
    "plt.xticks(rotation=360)\n",
    "plt.title('Final accurse for each model to make the decision\\n',fontsize=25)\n",
    "plt.xlabel('The Models',fontsize=20)\n",
    "plt.ylabel('Accuracy',fontsize=20)\n",
    "plt.legend(loc='best')\n",
    "plt.grid(axis='y')\n",
    "plt.show()"
   ]
  },
  {
   "cell_type": "code",
   "execution_count": 122,
   "id": "51309f08",
   "metadata": {},
   "outputs": [
    {
     "data": {
      "text/html": [
       "<div>\n",
       "<style scoped>\n",
       "    .dataframe tbody tr th:only-of-type {\n",
       "        vertical-align: middle;\n",
       "    }\n",
       "\n",
       "    .dataframe tbody tr th {\n",
       "        vertical-align: top;\n",
       "    }\n",
       "\n",
       "    .dataframe thead th {\n",
       "        text-align: right;\n",
       "    }\n",
       "</style>\n",
       "<table border=\"1\" class=\"dataframe\">\n",
       "  <thead>\n",
       "    <tr style=\"text-align: right;\">\n",
       "      <th></th>\n",
       "      <th>model</th>\n",
       "      <th>acc train</th>\n",
       "      <th>acc test</th>\n",
       "    </tr>\n",
       "  </thead>\n",
       "  <tbody>\n",
       "    <tr>\n",
       "      <th>0</th>\n",
       "      <td>LogisticRegression</td>\n",
       "      <td>0.877927</td>\n",
       "      <td>0.780965</td>\n",
       "    </tr>\n",
       "    <tr>\n",
       "      <th>1</th>\n",
       "      <td>Svm</td>\n",
       "      <td>0.958528</td>\n",
       "      <td>0.778916</td>\n",
       "    </tr>\n",
       "    <tr>\n",
       "      <th>2</th>\n",
       "      <td>RANDOM FOREST</td>\n",
       "      <td>0.996097</td>\n",
       "      <td>0.761157</td>\n",
       "    </tr>\n",
       "    <tr>\n",
       "      <th>3</th>\n",
       "      <td>voting</td>\n",
       "      <td>0.857533</td>\n",
       "      <td>0.757286</td>\n",
       "    </tr>\n",
       "    <tr>\n",
       "      <th>4</th>\n",
       "      <td>KNN</td>\n",
       "      <td>0.737900</td>\n",
       "      <td>0.745446</td>\n",
       "    </tr>\n",
       "    <tr>\n",
       "      <th>5</th>\n",
       "      <td>BernoulliNB</td>\n",
       "      <td>0.816257</td>\n",
       "      <td>0.735656</td>\n",
       "    </tr>\n",
       "    <tr>\n",
       "      <th>6</th>\n",
       "      <td>MultinomialNB</td>\n",
       "      <td>0.731460</td>\n",
       "      <td>0.682832</td>\n",
       "    </tr>\n",
       "  </tbody>\n",
       "</table>\n",
       "</div>"
      ],
      "text/plain": [
       "                model  acc train  acc test\n",
       "0  LogisticRegression   0.877927  0.780965\n",
       "1                 Svm   0.958528  0.778916\n",
       "2       RANDOM FOREST   0.996097  0.761157\n",
       "3              voting   0.857533  0.757286\n",
       "4                 KNN   0.737900  0.745446\n",
       "5         BernoulliNB   0.816257  0.735656\n",
       "6       MultinomialNB   0.731460  0.682832"
      ]
     },
     "execution_count": 122,
     "metadata": {},
     "output_type": "execute_result"
    }
   ],
   "source": [
    "final_results.sort_values(by='acc test', ascending=False, ignore_index=True, inplace=True)\n",
    "final_results"
   ]
  },
  {
   "cell_type": "markdown",
   "id": "45e1a418",
   "metadata": {},
   "source": [
    "# Final Test"
   ]
  },
  {
   "cell_type": "code",
   "execution_count": 123,
   "id": "718b6611",
   "metadata": {},
   "outputs": [
    {
     "name": "stdout",
     "output_type": "stream",
     "text": [
      "the Final Accurse: 78.0 %\n"
     ]
    }
   ],
   "source": [
    "final_model=LogisticRegression(max_iter=100,random_state=0)\n",
    "final_model.fit(X_train_features,y_train)\n",
    "final_y_pred=final_model.predict(X_test_features)\n",
    "final_acc_test=accuracy_score(y_test,final_y_pred)\n",
    "print(\"the Final Accurse:\",round(final_acc_test,2)*100,\"%\")"
   ]
  },
  {
   "cell_type": "code",
   "execution_count": 124,
   "id": "e5718ea2",
   "metadata": {},
   "outputs": [
    {
     "data": {
      "image/png": "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\n",
      "text/plain": [
       "<Figure size 640x480 with 1 Axes>"
      ]
     },
     "metadata": {},
     "output_type": "display_data"
    }
   ],
   "source": [
    "plt.style.use('classic')\n",
    "plt.pie([final_acc_test,1-final_acc_test],labels=('Classification True','Classification False')\n",
    "        ,explode=[0.1,0.1],autopct=\"%1.1f%%\",shadow=True,colors=['green','red'])\n",
    "plt.axis('equal')\n",
    "plt.title(' final Classification Accuracy\\n',fontsize=35)\n",
    "plt.show()"
   ]
  },
  {
   "cell_type": "markdown",
   "id": "zEgXFtVsDOTD",
   "metadata": {
    "id": "zEgXFtVsDOTD"
   },
   "source": [
    "# Save Model"
   ]
  },
  {
   "cell_type": "code",
   "execution_count": 125,
   "id": "ZUN2bY-xPmWb",
   "metadata": {
    "executionInfo": {
     "elapsed": 1674,
     "status": "ok",
     "timestamp": 1652556723114,
     "user": {
      "displayName": "Abdelrahman Mohamed",
      "userId": "04684924364925318690"
     },
     "user_tz": -120
    },
    "id": "ZUN2bY-xPmWb"
   },
   "outputs": [],
   "source": [
    "import pickle\n",
    "with open('saved-model.pickle', 'wb') as f:\n",
    "    pickle.dump(final_model, f)"
   ]
  },
  {
   "cell_type": "markdown",
   "id": "1a4qx_SIDwOG",
   "metadata": {
    "id": "1a4qx_SIDwOG"
   },
   "source": [
    "# Check The Model After Load"
   ]
  },
  {
   "cell_type": "code",
   "execution_count": 126,
   "id": "NjxaA_Jl9pAr",
   "metadata": {
    "executionInfo": {
     "elapsed": 945,
     "status": "ok",
     "timestamp": 1652556845383,
     "user": {
      "displayName": "Abdelrahman Mohamed",
      "userId": "04684924364925318690"
     },
     "user_tz": -120
    },
    "id": "NjxaA_Jl9pAr"
   },
   "outputs": [],
   "source": [
    "import pickle\n",
    "\n",
    "with open('saved-model.pickle', 'rb') as f:\n",
    "    my_model = pickle.load(f)\n",
    "    \n",
    "with open('tfidf.pickle', 'rb') as f:\n",
    "    my_feature = pickle.load(f)"
   ]
  },
  {
   "cell_type": "code",
   "execution_count": 129,
   "id": "5Zb7d_w4EIji",
   "metadata": {
    "colab": {
     "base_uri": "https://localhost:8080/"
    },
    "executionInfo": {
     "elapsed": 392,
     "status": "ok",
     "timestamp": 1652559475335,
     "user": {
      "displayName": "Abdelrahman Mohamed",
      "userId": "04684924364925318690"
     },
     "user_tz": -120
    },
    "id": "5Zb7d_w4EIji",
    "outputId": "5d9db6ed-15be-412e-9178-17e051093c1e"
   },
   "outputs": [
    {
     "name": "stdout",
     "output_type": "stream",
     "text": [
      "americanair cancelled flighted flight left help find hotel stay slept airport night-_-\n",
      "-----------------------------------------------------------------------\n",
      "the actual Sentiment Analysis:===>> negative\n",
      "-----------------------------------------------------------------------\n",
      "tf-idf values:\n",
      "  (0, 1593)\t0.257810587475228\n",
      "  (0, 1690)\t0.143065037592864\n",
      "  (0, 2622)\t0.2019381938229398\n",
      "  (0, 4399)\t0.2995445452627294\n",
      "  (0, 4459)\t0.12930384650783025\n",
      "  (0, 4478)\t0.2832270589903063\n",
      "  (0, 5179)\t0.20617993372501237\n",
      "  (0, 5328)\t0.30996343954638167\n",
      "  (0, 6169)\t0.30185264158919195\n",
      "  (0, 7054)\t0.304756230583898\n",
      "  (0, 9046)\t0.48805081046143944\n",
      "  (0, 9293)\t0.353342052103431\n",
      "-----------------------------------------------------------------------\n",
      "my model predict:===>> negative\n",
      "-----------------------------------------------------------------------\n"
     ]
    }
   ],
   "source": [
    "randnum=np.random.randint(1,1000)\n",
    "sentence=X_test[randnum]\n",
    "print(sentence)\n",
    "sentence_features=X_test_features[randnum]\n",
    "print(\"-----------------------------------------------------------------------\")\n",
    "print(\"the actual Sentiment Analysis:===>>\",y_test[randnum])\n",
    "print(\"-----------------------------------------------------------------------\")\n",
    "print('tf-idf values:')\n",
    "print(sentence_features)\n",
    "print(\"-----------------------------------------------------------------------\")\n",
    "print('my model predict:===>>',final_y_pred[randnum])\n",
    "print(\"-----------------------------------------------------------------------\")"
   ]
  },
  {
   "cell_type": "markdown",
   "id": "15a176d4",
   "metadata": {
    "id": "IBV4z3EqF46F"
   },
   "source": [
    "# ♥♥ End of Code ♥♥"
   ]
  },
  {
   "cell_type": "code",
   "execution_count": null,
   "id": "7df6f93f",
   "metadata": {},
   "outputs": [],
   "source": []
  }
 ],
 "metadata": {
  "colab": {
   "collapsed_sections": [],
   "name": "Sentiment Analysis .ipynb",
   "provenance": []
  },
  "kernelspec": {
   "display_name": "Python 3 (ipykernel)",
   "language": "python",
   "name": "python3"
  },
  "language_info": {
   "codemirror_mode": {
    "name": "ipython",
    "version": 3
   },
   "file_extension": ".py",
   "mimetype": "text/x-python",
   "name": "python",
   "nbconvert_exporter": "python",
   "pygments_lexer": "ipython3",
   "version": "3.9.12"
  }
 },
 "nbformat": 4,
 "nbformat_minor": 5
}
