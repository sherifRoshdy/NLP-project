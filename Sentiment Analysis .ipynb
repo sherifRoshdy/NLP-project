{
 "cells": [
  {
   "cell_type": "markdown",
   "id": "9c73eb15",
   "metadata": {
    "id": "9c73eb15"
   },
   "source": [
    "# Project - Airline Sentiment Analysis\n",
    "---------------------------------------------------------------------------------------------\n",
    "-----------------------------------------------------------------------------------------------"
   ]
  },
  {
   "cell_type": "markdown",
   "id": "6354f460",
   "metadata": {
    "id": "6354f460"
   },
   "source": [
    "# Importing Libraries"
   ]
  },
  {
   "cell_type": "code",
   "execution_count": 8,
   "id": "913bb442",
   "metadata": {
    "executionInfo": {
     "elapsed": 446,
     "status": "ok",
     "timestamp": 1652555999728,
     "user": {
      "displayName": "Abdelrahman Mohamed",
      "userId": "04684924364925318690"
     },
     "user_tz": -120
    },
    "id": "913bb442"
   },
   "outputs": [],
   "source": [
    "import pandas as pd\n",
    "import numpy as np\n",
    "import matplotlib.pyplot as plt\n",
    "import seaborn as sns\n",
    "import nltk\n",
    "from nltk.tokenize import sent_tokenize, word_tokenize\n",
    "from nltk.corpus import stopwords,wordnet\n",
    "import string\n",
    "from nltk import pos_tag\n",
    "from nltk.stem import WordNetLemmatizer\n",
    "from sklearn.model_selection import train_test_split\n",
    "from sklearn import preprocessing \n",
    "from sklearn.metrics import accuracy_score,confusion_matrix\n",
    "from sklearn.neighbors import KNeighborsClassifier\n",
    "from sklearn.naive_bayes import BernoulliNB,MultinomialNB\n",
    "from sklearn.linear_model import LogisticRegression\n",
    "from sklearn.svm import SVC\n",
    "from sklearn.ensemble import RandomForestClassifier,VotingClassifier\n",
    "import warnings\n",
    "warnings.filterwarnings(\"ignore\")"
   ]
  },
  {
   "cell_type": "markdown",
   "id": "7402711d",
   "metadata": {
    "id": "7402711d"
   },
   "source": [
    "# Dataset: Airline sentiment\n",
    "\n",
    "A dataset for US airlines comments analysis,Tweets analysis on Kaggle (<a href=\"https://www.kaggle.com/datasets/welkin10/airline-sentiment\">See dataset page</a>)\n",
    "\n",
    "### About Dataset\n",
    "#### Context:\n",
    "    - This is US airlines data which contain comments of passengers on basis of service provided by airlines.\n",
    "--------------------------------------------------------------------------------\n",
    "#### Inspiration:\n",
    "    -you can use it for sentiment analysis .\n",
    "---------------------------------------------------------------------------------"
   ]
  },
  {
   "cell_type": "markdown",
   "id": "499bcf44",
   "metadata": {
    "id": "499bcf44"
   },
   "source": [
    "# Importing Dataset"
   ]
  },
  {
   "cell_type": "code",
   "execution_count": 2,
   "id": "7134983b",
   "metadata": {
    "colab": {
     "base_uri": "https://localhost:8080/",
     "height": 496
    },
    "executionInfo": {
     "elapsed": 1866,
     "status": "ok",
     "timestamp": 1652554378988,
     "user": {
      "displayName": "Abdelrahman Mohamed",
      "userId": "04684924364925318690"
     },
     "user_tz": -120
    },
    "id": "7134983b",
    "outputId": "3ef69faf-8b58-4de1-d669-78166bb90fc5"
   },
   "outputs": [
    {
     "data": {
      "text/html": [
       "<div>\n",
       "<style scoped>\n",
       "    .dataframe tbody tr th:only-of-type {\n",
       "        vertical-align: middle;\n",
       "    }\n",
       "\n",
       "    .dataframe tbody tr th {\n",
       "        vertical-align: top;\n",
       "    }\n",
       "\n",
       "    .dataframe thead th {\n",
       "        text-align: right;\n",
       "    }\n",
       "</style>\n",
       "<table border=\"1\" class=\"dataframe\">\n",
       "  <thead>\n",
       "    <tr style=\"text-align: right;\">\n",
       "      <th></th>\n",
       "      <th>tweet_id</th>\n",
       "      <th>airline_sentiment</th>\n",
       "      <th>airline_sentiment_confidence</th>\n",
       "      <th>negativereason</th>\n",
       "      <th>negativereason_confidence</th>\n",
       "      <th>airline</th>\n",
       "      <th>airline_sentiment_gold</th>\n",
       "      <th>name</th>\n",
       "      <th>negativereason_gold</th>\n",
       "      <th>retweet_count</th>\n",
       "      <th>text</th>\n",
       "      <th>tweet_coord</th>\n",
       "      <th>tweet_created</th>\n",
       "      <th>tweet_location</th>\n",
       "      <th>user_timezone</th>\n",
       "    </tr>\n",
       "  </thead>\n",
       "  <tbody>\n",
       "    <tr>\n",
       "      <th>0</th>\n",
       "      <td>570306133677760513</td>\n",
       "      <td>neutral</td>\n",
       "      <td>1.0000</td>\n",
       "      <td>NaN</td>\n",
       "      <td>NaN</td>\n",
       "      <td>Virgin America</td>\n",
       "      <td>NaN</td>\n",
       "      <td>cairdin</td>\n",
       "      <td>NaN</td>\n",
       "      <td>0</td>\n",
       "      <td>@VirginAmerica What @dhepburn said.</td>\n",
       "      <td>NaN</td>\n",
       "      <td>2015-02-24 11:35:52 -0800</td>\n",
       "      <td>NaN</td>\n",
       "      <td>Eastern Time (US &amp; Canada)</td>\n",
       "    </tr>\n",
       "    <tr>\n",
       "      <th>1</th>\n",
       "      <td>570301130888122368</td>\n",
       "      <td>positive</td>\n",
       "      <td>0.3486</td>\n",
       "      <td>NaN</td>\n",
       "      <td>0.0000</td>\n",
       "      <td>Virgin America</td>\n",
       "      <td>NaN</td>\n",
       "      <td>jnardino</td>\n",
       "      <td>NaN</td>\n",
       "      <td>0</td>\n",
       "      <td>@VirginAmerica plus you've added commercials t...</td>\n",
       "      <td>NaN</td>\n",
       "      <td>2015-02-24 11:15:59 -0800</td>\n",
       "      <td>NaN</td>\n",
       "      <td>Pacific Time (US &amp; Canada)</td>\n",
       "    </tr>\n",
       "    <tr>\n",
       "      <th>2</th>\n",
       "      <td>570301083672813571</td>\n",
       "      <td>neutral</td>\n",
       "      <td>0.6837</td>\n",
       "      <td>NaN</td>\n",
       "      <td>NaN</td>\n",
       "      <td>Virgin America</td>\n",
       "      <td>NaN</td>\n",
       "      <td>yvonnalynn</td>\n",
       "      <td>NaN</td>\n",
       "      <td>0</td>\n",
       "      <td>@VirginAmerica I didn't today... Must mean I n...</td>\n",
       "      <td>NaN</td>\n",
       "      <td>2015-02-24 11:15:48 -0800</td>\n",
       "      <td>Lets Play</td>\n",
       "      <td>Central Time (US &amp; Canada)</td>\n",
       "    </tr>\n",
       "    <tr>\n",
       "      <th>3</th>\n",
       "      <td>570301031407624196</td>\n",
       "      <td>negative</td>\n",
       "      <td>1.0000</td>\n",
       "      <td>Bad Flight</td>\n",
       "      <td>0.7033</td>\n",
       "      <td>Virgin America</td>\n",
       "      <td>NaN</td>\n",
       "      <td>jnardino</td>\n",
       "      <td>NaN</td>\n",
       "      <td>0</td>\n",
       "      <td>@VirginAmerica it's really aggressive to blast...</td>\n",
       "      <td>NaN</td>\n",
       "      <td>2015-02-24 11:15:36 -0800</td>\n",
       "      <td>NaN</td>\n",
       "      <td>Pacific Time (US &amp; Canada)</td>\n",
       "    </tr>\n",
       "    <tr>\n",
       "      <th>4</th>\n",
       "      <td>570300817074462722</td>\n",
       "      <td>negative</td>\n",
       "      <td>1.0000</td>\n",
       "      <td>Can't Tell</td>\n",
       "      <td>1.0000</td>\n",
       "      <td>Virgin America</td>\n",
       "      <td>NaN</td>\n",
       "      <td>jnardino</td>\n",
       "      <td>NaN</td>\n",
       "      <td>0</td>\n",
       "      <td>@VirginAmerica and it's a really big bad thing...</td>\n",
       "      <td>NaN</td>\n",
       "      <td>2015-02-24 11:14:45 -0800</td>\n",
       "      <td>NaN</td>\n",
       "      <td>Pacific Time (US &amp; Canada)</td>\n",
       "    </tr>\n",
       "  </tbody>\n",
       "</table>\n",
       "</div>"
      ],
      "text/plain": [
       "             tweet_id airline_sentiment  airline_sentiment_confidence  \\\n",
       "0  570306133677760513           neutral                        1.0000   \n",
       "1  570301130888122368          positive                        0.3486   \n",
       "2  570301083672813571           neutral                        0.6837   \n",
       "3  570301031407624196          negative                        1.0000   \n",
       "4  570300817074462722          negative                        1.0000   \n",
       "\n",
       "  negativereason  negativereason_confidence         airline  \\\n",
       "0            NaN                        NaN  Virgin America   \n",
       "1            NaN                     0.0000  Virgin America   \n",
       "2            NaN                        NaN  Virgin America   \n",
       "3     Bad Flight                     0.7033  Virgin America   \n",
       "4     Can't Tell                     1.0000  Virgin America   \n",
       "\n",
       "  airline_sentiment_gold        name negativereason_gold  retweet_count  \\\n",
       "0                    NaN     cairdin                 NaN              0   \n",
       "1                    NaN    jnardino                 NaN              0   \n",
       "2                    NaN  yvonnalynn                 NaN              0   \n",
       "3                    NaN    jnardino                 NaN              0   \n",
       "4                    NaN    jnardino                 NaN              0   \n",
       "\n",
       "                                                text tweet_coord  \\\n",
       "0                @VirginAmerica What @dhepburn said.         NaN   \n",
       "1  @VirginAmerica plus you've added commercials t...         NaN   \n",
       "2  @VirginAmerica I didn't today... Must mean I n...         NaN   \n",
       "3  @VirginAmerica it's really aggressive to blast...         NaN   \n",
       "4  @VirginAmerica and it's a really big bad thing...         NaN   \n",
       "\n",
       "               tweet_created tweet_location               user_timezone  \n",
       "0  2015-02-24 11:35:52 -0800            NaN  Eastern Time (US & Canada)  \n",
       "1  2015-02-24 11:15:59 -0800            NaN  Pacific Time (US & Canada)  \n",
       "2  2015-02-24 11:15:48 -0800      Lets Play  Central Time (US & Canada)  \n",
       "3  2015-02-24 11:15:36 -0800            NaN  Pacific Time (US & Canada)  \n",
       "4  2015-02-24 11:14:45 -0800            NaN  Pacific Time (US & Canada)  "
      ]
     },
     "execution_count": 2,
     "metadata": {},
     "output_type": "execute_result"
    }
   ],
   "source": [
    "dataset=pd.read_csv('Dataset/airline data.csv')\n",
    "dataset.head()"
   ]
  },
  {
   "cell_type": "code",
   "execution_count": 48,
   "id": "17dbe918",
   "metadata": {},
   "outputs": [
    {
     "data": {
      "text/plain": [
       "(14640, 15)"
      ]
     },
     "execution_count": 48,
     "metadata": {},
     "output_type": "execute_result"
    }
   ],
   "source": [
    "dataset.shape"
   ]
  },
  {
   "cell_type": "code",
   "execution_count": 3,
   "id": "50c3728a",
   "metadata": {
    "colab": {
     "base_uri": "https://localhost:8080/"
    },
    "executionInfo": {
     "elapsed": 3,
     "status": "ok",
     "timestamp": 1652554381837,
     "user": {
      "displayName": "Abdelrahman Mohamed",
      "userId": "04684924364925318690"
     },
     "user_tz": -120
    },
    "id": "50c3728a",
    "outputId": "da976b5d-4da7-40d7-f77e-0d48b8c5b0ca"
   },
   "outputs": [
    {
     "name": "stdout",
     "output_type": "stream",
     "text": [
      "15\n"
     ]
    },
    {
     "data": {
      "text/plain": [
       "Index(['tweet_id', 'airline_sentiment', 'airline_sentiment_confidence',\n",
       "       'negativereason', 'negativereason_confidence', 'airline',\n",
       "       'airline_sentiment_gold', 'name', 'negativereason_gold',\n",
       "       'retweet_count', 'text', 'tweet_coord', 'tweet_created',\n",
       "       'tweet_location', 'user_timezone'],\n",
       "      dtype='object')"
      ]
     },
     "execution_count": 3,
     "metadata": {},
     "output_type": "execute_result"
    }
   ],
   "source": [
    "print(len(dataset.columns))\n",
    "dataset.columns"
   ]
  },
  {
   "cell_type": "code",
   "execution_count": 13,
   "id": "9f2ffbac",
   "metadata": {},
   "outputs": [
    {
     "data": {
      "text/plain": [
       "array(['neutral', 'positive', 'negative'], dtype=object)"
      ]
     },
     "execution_count": 13,
     "metadata": {},
     "output_type": "execute_result"
    }
   ],
   "source": [
    "dataset['airline_sentiment'].unique()"
   ]
  },
  {
   "cell_type": "code",
   "execution_count": 4,
   "id": "98f7f956",
   "metadata": {},
   "outputs": [
    {
     "data": {
      "text/plain": [
       "tweet_id                          int64\n",
       "airline_sentiment                object\n",
       "airline_sentiment_confidence    float64\n",
       "negativereason                   object\n",
       "negativereason_confidence       float64\n",
       "airline                          object\n",
       "airline_sentiment_gold           object\n",
       "name                             object\n",
       "negativereason_gold              object\n",
       "retweet_count                     int64\n",
       "text                             object\n",
       "tweet_coord                      object\n",
       "tweet_created                    object\n",
       "tweet_location                   object\n",
       "user_timezone                    object\n",
       "dtype: object"
      ]
     },
     "execution_count": 4,
     "metadata": {},
     "output_type": "execute_result"
    }
   ],
   "source": [
    "dataset.dtypes"
   ]
  },
  {
   "cell_type": "code",
   "execution_count": 12,
   "id": "4e37425d",
   "metadata": {},
   "outputs": [
    {
     "data": {
      "text/html": [
       "<div>\n",
       "<style scoped>\n",
       "    .dataframe tbody tr th:only-of-type {\n",
       "        vertical-align: middle;\n",
       "    }\n",
       "\n",
       "    .dataframe tbody tr th {\n",
       "        vertical-align: top;\n",
       "    }\n",
       "\n",
       "    .dataframe thead th {\n",
       "        text-align: right;\n",
       "    }\n",
       "</style>\n",
       "<table border=\"1\" class=\"dataframe\">\n",
       "  <thead>\n",
       "    <tr style=\"text-align: right;\">\n",
       "      <th></th>\n",
       "      <th>tweet_id</th>\n",
       "      <th>airline_sentiment_confidence</th>\n",
       "      <th>negativereason_confidence</th>\n",
       "      <th>retweet_count</th>\n",
       "    </tr>\n",
       "  </thead>\n",
       "  <tbody>\n",
       "    <tr>\n",
       "      <th>count</th>\n",
       "      <td>1.464000e+04</td>\n",
       "      <td>14640.000000</td>\n",
       "      <td>10522.000000</td>\n",
       "      <td>14640.000000</td>\n",
       "    </tr>\n",
       "    <tr>\n",
       "      <th>mean</th>\n",
       "      <td>5.692184e+17</td>\n",
       "      <td>0.900169</td>\n",
       "      <td>0.638298</td>\n",
       "      <td>0.082650</td>\n",
       "    </tr>\n",
       "    <tr>\n",
       "      <th>std</th>\n",
       "      <td>7.791112e+14</td>\n",
       "      <td>0.162830</td>\n",
       "      <td>0.330440</td>\n",
       "      <td>0.745778</td>\n",
       "    </tr>\n",
       "    <tr>\n",
       "      <th>min</th>\n",
       "      <td>5.675883e+17</td>\n",
       "      <td>0.335000</td>\n",
       "      <td>0.000000</td>\n",
       "      <td>0.000000</td>\n",
       "    </tr>\n",
       "    <tr>\n",
       "      <th>25%</th>\n",
       "      <td>5.685592e+17</td>\n",
       "      <td>0.692300</td>\n",
       "      <td>0.360600</td>\n",
       "      <td>0.000000</td>\n",
       "    </tr>\n",
       "    <tr>\n",
       "      <th>50%</th>\n",
       "      <td>5.694779e+17</td>\n",
       "      <td>1.000000</td>\n",
       "      <td>0.670600</td>\n",
       "      <td>0.000000</td>\n",
       "    </tr>\n",
       "    <tr>\n",
       "      <th>75%</th>\n",
       "      <td>5.698905e+17</td>\n",
       "      <td>1.000000</td>\n",
       "      <td>1.000000</td>\n",
       "      <td>0.000000</td>\n",
       "    </tr>\n",
       "    <tr>\n",
       "      <th>max</th>\n",
       "      <td>5.703106e+17</td>\n",
       "      <td>1.000000</td>\n",
       "      <td>1.000000</td>\n",
       "      <td>44.000000</td>\n",
       "    </tr>\n",
       "  </tbody>\n",
       "</table>\n",
       "</div>"
      ],
      "text/plain": [
       "           tweet_id  airline_sentiment_confidence  negativereason_confidence  \\\n",
       "count  1.464000e+04                  14640.000000               10522.000000   \n",
       "mean   5.692184e+17                      0.900169                   0.638298   \n",
       "std    7.791112e+14                      0.162830                   0.330440   \n",
       "min    5.675883e+17                      0.335000                   0.000000   \n",
       "25%    5.685592e+17                      0.692300                   0.360600   \n",
       "50%    5.694779e+17                      1.000000                   0.670600   \n",
       "75%    5.698905e+17                      1.000000                   1.000000   \n",
       "max    5.703106e+17                      1.000000                   1.000000   \n",
       "\n",
       "       retweet_count  \n",
       "count   14640.000000  \n",
       "mean        0.082650  \n",
       "std         0.745778  \n",
       "min         0.000000  \n",
       "25%         0.000000  \n",
       "50%         0.000000  \n",
       "75%         0.000000  \n",
       "max        44.000000  "
      ]
     },
     "execution_count": 12,
     "metadata": {},
     "output_type": "execute_result"
    }
   ],
   "source": [
    "dataset.describe()"
   ]
  },
  {
   "cell_type": "markdown",
   "id": "c5d43757",
   "metadata": {},
   "source": [
    "# check missing value "
   ]
  },
  {
   "cell_type": "code",
   "execution_count": 5,
   "id": "e1d56da8",
   "metadata": {},
   "outputs": [
    {
     "name": "stdout",
     "output_type": "stream",
     "text": [
      "<class 'pandas.core.frame.DataFrame'>\n",
      "RangeIndex: 14640 entries, 0 to 14639\n",
      "Data columns (total 15 columns):\n",
      " #   Column                        Non-Null Count  Dtype  \n",
      "---  ------                        --------------  -----  \n",
      " 0   tweet_id                      14640 non-null  int64  \n",
      " 1   airline_sentiment             14640 non-null  object \n",
      " 2   airline_sentiment_confidence  14640 non-null  float64\n",
      " 3   negativereason                9178 non-null   object \n",
      " 4   negativereason_confidence     10522 non-null  float64\n",
      " 5   airline                       14640 non-null  object \n",
      " 6   airline_sentiment_gold        40 non-null     object \n",
      " 7   name                          14640 non-null  object \n",
      " 8   negativereason_gold           32 non-null     object \n",
      " 9   retweet_count                 14640 non-null  int64  \n",
      " 10  text                          14640 non-null  object \n",
      " 11  tweet_coord                   1019 non-null   object \n",
      " 12  tweet_created                 14640 non-null  object \n",
      " 13  tweet_location                9907 non-null   object \n",
      " 14  user_timezone                 9820 non-null   object \n",
      "dtypes: float64(2), int64(2), object(11)\n",
      "memory usage: 1.7+ MB\n"
     ]
    }
   ],
   "source": [
    "dataset.info()"
   ]
  },
  {
   "cell_type": "code",
   "execution_count": 11,
   "id": "ff86200b",
   "metadata": {},
   "outputs": [
    {
     "data": {
      "image/png": "[encoded data removed]",
      "text/plain": [
       "<Figure size 640x480 with 1 Axes>"
      ]
     },
     "metadata": {},
     "output_type": "display_data"
    }
   ],
   "source": [
    "plt.style.use('classic')\n",
    "dataset.isnull().sum(axis=0).plot.bar()\n",
    "plt.show()"
   ]
  },
  {
   "cell_type": "markdown",
   "id": "dbf2a545",
   "metadata": {},
   "source": [
    "# Graphical representation of airline sentiment :-"
   ]
  },
  {
   "cell_type": "code",
   "execution_count": 22,
   "id": "fe069b7c",
   "metadata": {},
   "outputs": [
    {
     "data": {
      "text/plain": [
       "negative    9178\n",
       "neutral     3099\n",
       "positive    2363\n",
       "Name: airline_sentiment, dtype: int64"
      ]
     },
     "execution_count": 22,
     "metadata": {},
     "output_type": "execute_result"
    }
   ],
   "source": [
    "dataset['airline_sentiment'].value_counts()"
   ]
  },
  {
   "cell_type": "code",
   "execution_count": 20,
   "id": "ababb3c2",
   "metadata": {},
   "outputs": [
    {
     "data": {
      "image/png": "[encoded data removed]",
      "text/plain": [
       "<Figure size 640x480 with 1 Axes>"
      ]
     },
     "metadata": {},
     "output_type": "display_data"
    }
   ],
   "source": [
    "sns.countplot(x='airline_sentiment',data=dataset,order=['neutral','positive','negative'])\n",
    "plt.show()"
   ]
  },
  {
   "cell_type": "markdown",
   "id": "606b16ec",
   "metadata": {},
   "source": [
    "# Graphical representation of airline sentiment with airlines:-"
   ]
  },
  {
   "cell_type": "code",
   "execution_count": 23,
   "id": "284ee02a",
   "metadata": {},
   "outputs": [
    {
     "data": {
      "text/plain": [
       "United            3822\n",
       "US Airways        2913\n",
       "American          2759\n",
       "Southwest         2420\n",
       "Delta             2222\n",
       "Virgin America     504\n",
       "Name: airline, dtype: int64"
      ]
     },
     "execution_count": 23,
     "metadata": {},
     "output_type": "execute_result"
    }
   ],
   "source": [
    "dataset['airline'].value_counts()"
   ]
  },
  {
   "cell_type": "code",
   "execution_count": 28,
   "id": "bf7ea199",
   "metadata": {},
   "outputs": [
    {
     "data": {
      "image/png": "[encoded data removed]",
      "text/plain": [
       "<Figure size 1440x1600 with 6 Axes>"
      ]
     },
     "metadata": {},
     "output_type": "display_data"
    }
   ],
   "source": [
    "sns.factorplot(x = 'airline_sentiment',data=dataset,\n",
    "               order = ['neutral','positive','negative'],kind = 'count',col_wrap=3,col='airline',size=10,aspect=0.6,sharex=False,sharey=False)\n",
    "plt.show()"
   ]
  },
  {
   "cell_type": "markdown",
   "id": "644e522e",
   "metadata": {},
   "source": [
    "# Graphical representation of negativereason towards airlines:-"
   ]
  },
  {
   "cell_type": "code",
   "execution_count": 29,
   "id": "bef14265",
   "metadata": {},
   "outputs": [
    {
     "data": {
      "text/plain": [
       "Customer Service Issue         2910\n",
       "Late Flight                    1665\n",
       "Can't Tell                     1190\n",
       "Cancelled Flight                847\n",
       "Lost Luggage                    724\n",
       "Bad Flight                      580\n",
       "Flight Booking Problems         529\n",
       "Flight Attendant Complaints     481\n",
       "longlines                       178\n",
       "Damaged Luggage                  74\n",
       "Name: negativereason, dtype: int64"
      ]
     },
     "execution_count": 29,
     "metadata": {},
     "output_type": "execute_result"
    }
   ],
   "source": [
    "dataset['negativereason'].value_counts()"
   ]
  },
  {
   "cell_type": "code",
   "execution_count": 40,
   "id": "bf94b9bf",
   "metadata": {},
   "outputs": [
    {
     "data": {
      "image/png": "[encoded data removed]",
      "text/plain": [
       "<Figure size 1040.12x960 with 1 Axes>"
      ]
     },
     "metadata": {},
     "output_type": "display_data"
    }
   ],
   "source": [
    "plt.style.use('bmh')\n",
    "sns.factorplot(x = 'airline',data = dataset,kind = 'count',hue='negativereason',size=12,aspect=.9)\n",
    "plt.show()"
   ]
  },
  {
   "cell_type": "markdown",
   "id": "bf8be22f",
   "metadata": {},
   "source": [
    "# Data Cleaning and Preprocessing :-"
   ]
  },
  {
   "cell_type": "code",
   "execution_count": 42,
   "id": "154aba45",
   "metadata": {
    "executionInfo": {
     "elapsed": 5421,
     "status": "ok",
     "timestamp": 1652554427521,
     "user": {
      "displayName": "Abdelrahman Mohamed",
      "userId": "04684924364925318690"
     },
     "user_tz": -120
    },
    "id": "154aba45"
   },
   "outputs": [],
   "source": [
    "text=dataset['text'].values\n",
    "text=[word_tokenize(doc) for doc in text]"
   ]
  },
  {
   "cell_type": "code",
   "execution_count": 43,
   "id": "8e86440c",
   "metadata": {
    "colab": {
     "base_uri": "https://localhost:8080/"
    },
    "executionInfo": {
     "elapsed": 782,
     "status": "ok",
     "timestamp": 1652554432066,
     "user": {
      "displayName": "Abdelrahman Mohamed",
      "userId": "04684924364925318690"
     },
     "user_tz": -120
    },
    "id": "8e86440c",
    "outputId": "27457888-328a-4ea7-b0ce-64d75683bb48"
   },
   "outputs": [
    {
     "name": "stdout",
     "output_type": "stream",
     "text": [
      "['@', 'VirginAmerica', 'What', '@', 'dhepburn', 'said', '.']\n",
      "['@', 'VirginAmerica', 'plus', 'you', \"'ve\", 'added', 'commercials', 'to', 'the', 'experience', '...', 'tacky', '.']\n",
      "['@', 'VirginAmerica', 'I', 'did', \"n't\", 'today', '...', 'Must', 'mean', 'I', 'need', 'to', 'take', 'another', 'trip', '!']\n",
      "['@', 'VirginAmerica', 'it', \"'s\", 'really', 'aggressive', 'to', 'blast', 'obnoxious', '``', 'entertainment', \"''\", 'in', 'your', 'guests', \"'\", 'faces', '&', 'amp', ';', 'they', 'have', 'little', 'recourse']\n",
      "['@', 'VirginAmerica', 'and', 'it', \"'s\", 'a', 'really', 'big', 'bad', 'thing', 'about', 'it']\n",
      "['@', 'VirginAmerica', 'seriously', 'would', 'pay', '$', '30', 'a', 'flight', 'for', 'seats', 'that', 'did', \"n't\", 'have', 'this', 'playing', '.', 'it', \"'s\", 'really', 'the', 'only', 'bad', 'thing', 'about', 'flying', 'VA']\n",
      "['@', 'VirginAmerica', 'yes', ',', 'nearly', 'every', 'time', 'I', 'fly', 'VX', 'this', '“', 'ear', 'worm', '”', 'won', '’', 't', 'go', 'away', ':', ')']\n",
      "['@', 'VirginAmerica', 'Really', 'missed', 'a', 'prime', 'opportunity', 'for', 'Men', 'Without', 'Hats', 'parody', ',', 'there', '.', 'https', ':', '//t.co/mWpG7grEZP']\n",
      "['@', 'virginamerica', 'Well', ',', 'I', \"didn't…but\", 'NOW', 'I', 'DO', '!', ':', '-D']\n",
      "['@', 'VirginAmerica', 'it', 'was', 'amazing', ',', 'and', 'arrived', 'an', 'hour', 'early', '.', 'You', \"'re\", 'too', 'good', 'to', 'me', '.']\n"
     ]
    }
   ],
   "source": [
    "for i in range(10):\n",
    "    print(text[i])"
   ]
  },
  {
   "cell_type": "code",
   "execution_count": 46,
   "id": "0450ecd7",
   "metadata": {
    "executionInfo": {
     "elapsed": 391,
     "status": "ok",
     "timestamp": 1652554436614,
     "user": {
      "displayName": "Abdelrahman Mohamed",
      "userId": "04684924364925318690"
     },
     "user_tz": -120
    },
    "id": "0450ecd7"
   },
   "outputs": [],
   "source": [
    "sentiment=dataset['airline_sentiment'].values #'neutral' 'positive' 'negative'"
   ]
  },
  {
   "cell_type": "code",
   "execution_count": 50,
   "id": "68e56186",
   "metadata": {},
   "outputs": [
    {
     "name": "stdout",
     "output_type": "stream",
     "text": [
      "neutral\n",
      "positive\n",
      "neutral\n",
      "negative\n",
      "negative\n",
      "negative\n",
      "positive\n",
      "neutral\n",
      "positive\n",
      "positive\n"
     ]
    }
   ],
   "source": [
    "for i in range(10):\n",
    "    print(sentiment[i])"
   ]
  },
  {
   "cell_type": "code",
   "execution_count": 47,
   "id": "9b1645f0",
   "metadata": {
    "executionInfo": {
     "elapsed": 408,
     "status": "ok",
     "timestamp": 1652554441763,
     "user": {
      "displayName": "Abdelrahman Mohamed",
      "userId": "04684924364925318690"
     },
     "user_tz": -120
    },
    "id": "9b1645f0"
   },
   "outputs": [],
   "source": [
    "documents=[(text[i],sentiment[i]) for i in range(dataset.shape[0] #rows)]"
   ]
  },
  {
   "cell_type": "code",
   "execution_count": 49,
   "id": "bb2952c3",
   "metadata": {
    "colab": {
     "base_uri": "https://localhost:8080/"
    },
    "executionInfo": {
     "elapsed": 397,
     "status": "ok",
     "timestamp": 1652554444850,
     "user": {
      "displayName": "Abdelrahman Mohamed",
      "userId": "04684924364925318690"
     },
     "user_tz": -120
    },
    "id": "bb2952c3",
    "outputId": "31f3fe72-5be1-4567-df9c-1cb498303f74"
   },
   "outputs": [
    {
     "name": "stdout",
     "output_type": "stream",
     "text": [
      "(['@', 'VirginAmerica', 'What', '@', 'dhepburn', 'said', '.'], 'neutral')\n",
      "(['@', 'VirginAmerica', 'plus', 'you', \"'ve\", 'added', 'commercials', 'to', 'the', 'experience', '...', 'tacky', '.'], 'positive')\n",
      "(['@', 'VirginAmerica', 'I', 'did', \"n't\", 'today', '...', 'Must', 'mean', 'I', 'need', 'to', 'take', 'another', 'trip', '!'], 'neutral')\n",
      "(['@', 'VirginAmerica', 'it', \"'s\", 'really', 'aggressive', 'to', 'blast', 'obnoxious', '``', 'entertainment', \"''\", 'in', 'your', 'guests', \"'\", 'faces', '&', 'amp', ';', 'they', 'have', 'little', 'recourse'], 'negative')\n",
      "(['@', 'VirginAmerica', 'and', 'it', \"'s\", 'a', 'really', 'big', 'bad', 'thing', 'about', 'it'], 'negative')\n",
      "(['@', 'VirginAmerica', 'seriously', 'would', 'pay', '$', '30', 'a', 'flight', 'for', 'seats', 'that', 'did', \"n't\", 'have', 'this', 'playing', '.', 'it', \"'s\", 'really', 'the', 'only', 'bad', 'thing', 'about', 'flying', 'VA'], 'negative')\n",
      "(['@', 'VirginAmerica', 'yes', ',', 'nearly', 'every', 'time', 'I', 'fly', 'VX', 'this', '“', 'ear', 'worm', '”', 'won', '’', 't', 'go', 'away', ':', ')'], 'positive')\n",
      "(['@', 'VirginAmerica', 'Really', 'missed', 'a', 'prime', 'opportunity', 'for', 'Men', 'Without', 'Hats', 'parody', ',', 'there', '.', 'https', ':', '//t.co/mWpG7grEZP'], 'neutral')\n",
      "(['@', 'virginamerica', 'Well', ',', 'I', \"didn't…but\", 'NOW', 'I', 'DO', '!', ':', '-D'], 'positive')\n",
      "(['@', 'VirginAmerica', 'it', 'was', 'amazing', ',', 'and', 'arrived', 'an', 'hour', 'early', '.', 'You', \"'re\", 'too', 'good', 'to', 'me', '.'], 'positive')\n"
     ]
    }
   ],
   "source": [
    "for i in range(10):\n",
    "    print(documents[i])"
   ]
  },
  {
   "cell_type": "markdown",
   "id": "fbc693bc",
   "metadata": {
    "id": "fbc693bc"
   },
   "source": [
    "# Dataset Preprocessing\n",
    "1. TOKENIZING\n",
    "2. LEMMATIZING\n",
    "3. REMOVING STOPWORDS\n",
    "4. PUNCTUATIONS"
   ]
  },
  {
   "cell_type": "code",
   "execution_count": 52,
   "id": "8386007b",
   "metadata": {
    "colab": {
     "base_uri": "https://localhost:8080/"
    },
    "executionInfo": {
     "elapsed": 4,
     "status": "ok",
     "timestamp": 1652554488591,
     "user": {
      "displayName": "Abdelrahman Mohamed",
      "userId": "04684924364925318690"
     },
     "user_tz": -120
    },
    "id": "8386007b",
    "outputId": "eeafa513-0742-44f8-b1a8-16c8d829d681"
   },
   "outputs": [
    {
     "data": {
      "text/plain": [
       "{'!',\n",
       " '\"',\n",
       " '#',\n",
       " '$',\n",
       " '%',\n",
       " '&',\n",
       " \"'\",\n",
       " '(',\n",
       " ')',\n",
       " '*',\n",
       " '+',\n",
       " ',',\n",
       " '-',\n",
       " '.',\n",
       " '/',\n",
       " ':',\n",
       " ';',\n",
       " '<',\n",
       " '=',\n",
       " '>',\n",
       " '?',\n",
       " '@',\n",
       " '[',\n",
       " '\\\\',\n",
       " ']',\n",
       " '^',\n",
       " '_',\n",
       " '`',\n",
       " 'a',\n",
       " 'about',\n",
       " 'above',\n",
       " 'after',\n",
       " 'again',\n",
       " 'against',\n",
       " 'ain',\n",
       " 'all',\n",
       " 'am',\n",
       " 'an',\n",
       " 'and',\n",
       " 'any',\n",
       " 'are',\n",
       " 'aren',\n",
       " \"aren't\",\n",
       " 'as',\n",
       " 'at',\n",
       " 'be',\n",
       " 'because',\n",
       " 'been',\n",
       " 'before',\n",
       " 'being',\n",
       " 'below',\n",
       " 'between',\n",
       " 'both',\n",
       " 'but',\n",
       " 'by',\n",
       " 'can',\n",
       " 'couldn',\n",
       " \"couldn't\",\n",
       " 'd',\n",
       " 'did',\n",
       " 'didn',\n",
       " \"didn't\",\n",
       " 'do',\n",
       " 'does',\n",
       " 'doesn',\n",
       " \"doesn't\",\n",
       " 'doing',\n",
       " 'don',\n",
       " \"don't\",\n",
       " 'down',\n",
       " 'during',\n",
       " 'each',\n",
       " 'few',\n",
       " 'for',\n",
       " 'from',\n",
       " 'further',\n",
       " 'had',\n",
       " 'hadn',\n",
       " \"hadn't\",\n",
       " 'has',\n",
       " 'hasn',\n",
       " \"hasn't\",\n",
       " 'have',\n",
       " 'haven',\n",
       " \"haven't\",\n",
       " 'having',\n",
       " 'he',\n",
       " 'her',\n",
       " 'here',\n",
       " 'hers',\n",
       " 'herself',\n",
       " 'him',\n",
       " 'himself',\n",
       " 'his',\n",
       " 'how',\n",
       " 'i',\n",
       " 'if',\n",
       " 'in',\n",
       " 'into',\n",
       " 'is',\n",
       " 'isn',\n",
       " \"isn't\",\n",
       " 'it',\n",
       " \"it's\",\n",
       " 'its',\n",
       " 'itself',\n",
       " 'just',\n",
       " 'll',\n",
       " 'm',\n",
       " 'ma',\n",
       " 'me',\n",
       " 'mightn',\n",
       " \"mightn't\",\n",
       " 'more',\n",
       " 'most',\n",
       " 'mustn',\n",
       " \"mustn't\",\n",
       " 'my',\n",
       " 'myself',\n",
       " 'needn',\n",
       " \"needn't\",\n",
       " 'no',\n",
       " 'nor',\n",
       " 'not',\n",
       " 'now',\n",
       " 'o',\n",
       " 'of',\n",
       " 'off',\n",
       " 'on',\n",
       " 'once',\n",
       " 'only',\n",
       " 'or',\n",
       " 'other',\n",
       " 'our',\n",
       " 'ours',\n",
       " 'ourselves',\n",
       " 'out',\n",
       " 'over',\n",
       " 'own',\n",
       " 're',\n",
       " 's',\n",
       " 'same',\n",
       " 'shan',\n",
       " \"shan't\",\n",
       " 'she',\n",
       " \"she's\",\n",
       " 'should',\n",
       " \"should've\",\n",
       " 'shouldn',\n",
       " \"shouldn't\",\n",
       " 'so',\n",
       " 'some',\n",
       " 'such',\n",
       " 't',\n",
       " 'than',\n",
       " 'that',\n",
       " \"that'll\",\n",
       " 'the',\n",
       " 'their',\n",
       " 'theirs',\n",
       " 'them',\n",
       " 'themselves',\n",
       " 'then',\n",
       " 'there',\n",
       " 'these',\n",
       " 'they',\n",
       " 'this',\n",
       " 'those',\n",
       " 'through',\n",
       " 'to',\n",
       " 'too',\n",
       " 'under',\n",
       " 'until',\n",
       " 'up',\n",
       " 've',\n",
       " 'very',\n",
       " 'was',\n",
       " 'wasn',\n",
       " \"wasn't\",\n",
       " 'we',\n",
       " 'were',\n",
       " 'weren',\n",
       " \"weren't\",\n",
       " 'what',\n",
       " 'when',\n",
       " 'where',\n",
       " 'which',\n",
       " 'while',\n",
       " 'who',\n",
       " 'whom',\n",
       " 'why',\n",
       " 'will',\n",
       " 'with',\n",
       " 'won',\n",
       " \"won't\",\n",
       " 'wouldn',\n",
       " \"wouldn't\",\n",
       " 'y',\n",
       " 'you',\n",
       " \"you'd\",\n",
       " \"you'll\",\n",
       " \"you're\",\n",
       " \"you've\",\n",
       " 'your',\n",
       " 'yours',\n",
       " 'yourself',\n",
       " 'yourselves',\n",
       " '{',\n",
       " '|',\n",
       " '}',\n",
       " '~'}"
      ]
     },
     "execution_count": 52,
     "metadata": {},
     "output_type": "execute_result"
    }
   ],
   "source": [
    "stops=set(stopwords.words('english'))\n",
    "punctuations = list(string.punctuation)\n",
    "stops.update(punctuations)\n",
    "stops"
   ]
  },
  {
   "cell_type": "code",
   "execution_count": 53,
   "id": "5c246a36",
   "metadata": {
    "executionInfo": {
     "elapsed": 643,
     "status": "ok",
     "timestamp": 1652554451069,
     "user": {
      "displayName": "Abdelrahman Mohamed",
      "userId": "04684924364925318690"
     },
     "user_tz": -120
    },
    "id": "5c246a36"
   },
   "outputs": [],
   "source": [
    "def get_simple_pos(tag):   \n",
    "    \n",
    "    if tag.startswith('J'):\n",
    "        return wordnet.ADJ\n",
    "    elif tag.startswith('V'):\n",
    "        return wordnet.VERB\n",
    "    elif tag.startswith('N'):\n",
    "        return wordnet.NOUN\n",
    "    elif tag.startswith('R'):\n",
    "        return wordnet.ADV\n",
    "    else:\n",
    "        return wordnet.NOUN"
   ]
  },
  {
   "cell_type": "code",
   "execution_count": 54,
   "id": "006562e9",
   "metadata": {
    "executionInfo": {
     "elapsed": 396,
     "status": "ok",
     "timestamp": 1652554447821,
     "user": {
      "displayName": "Abdelrahman Mohamed",
      "userId": "04684924364925318690"
     },
     "user_tz": -120
    },
    "id": "006562e9"
   },
   "outputs": [],
   "source": [
    "lemmatizer=WordNetLemmatizer()"
   ]
  },
  {
   "cell_type": "code",
   "execution_count": 55,
   "id": "3151d1f9",
   "metadata": {
    "executionInfo": {
     "elapsed": 404,
     "status": "ok",
     "timestamp": 1652554492693,
     "user": {
      "displayName": "Abdelrahman Mohamed",
      "userId": "04684924364925318690"
     },
     "user_tz": -120
    },
    "id": "3151d1f9"
   },
   "outputs": [],
   "source": [
    "def clean_review(words):\n",
    "    output_words = []\n",
    "    for w in words:\n",
    "        if w.lower() not in stops:\n",
    "            pos = pos_tag([w])\n",
    "            clean_word = lemmatizer.lemmatize(w, pos = get_simple_pos(pos[0][1]))\n",
    "            output_words.append(clean_word.lower())\n",
    "    return output_words"
   ]
  },
  {
   "cell_type": "code",
   "execution_count": 56,
   "id": "fed0244c",
   "metadata": {
    "executionInfo": {
     "elapsed": 26619,
     "status": "ok",
     "timestamp": 1652554588345,
     "user": {
      "displayName": "Abdelrahman Mohamed",
      "userId": "04684924364925318690"
     },
     "user_tz": -120
    },
    "id": "fed0244c"
   },
   "outputs": [],
   "source": [
    "clean_document = [(clean_review(doc), category) for doc, category in documents]"
   ]
  },
  {
   "cell_type": "code",
   "execution_count": 64,
   "id": "1deddcc2",
   "metadata": {
    "colab": {
     "base_uri": "https://localhost:8080/"
    },
    "executionInfo": {
     "elapsed": 395,
     "status": "ok",
     "timestamp": 1652554592939,
     "user": {
      "displayName": "Abdelrahman Mohamed",
      "userId": "04684924364925318690"
     },
     "user_tz": -120
    },
    "id": "1deddcc2",
    "outputId": "05d8a758-9acd-4589-e86e-f21f55dfdb86"
   },
   "outputs": [
    {
     "name": "stdout",
     "output_type": "stream",
     "text": [
      "The clean dataset is \n",
      "\n",
      "(['virginamerica', 'dhepburn', 'say'], 'neutral')\n",
      "(['virginamerica', 'plus', \"'ve\", 'add', 'commercial', 'experience', '...', 'tacky'], 'positive')\n",
      "(['virginamerica', \"n't\", 'today', '...', 'must', 'mean', 'need', 'take', 'another', 'trip'], 'neutral')\n",
      "(['virginamerica', \"'s\", 'really', 'aggressive', 'blast', 'obnoxious', '``', 'entertainment', \"''\", 'guest', 'face', 'amp', 'little', 'recourse'], 'negative')\n",
      "(['virginamerica', \"'s\", 'really', 'big', 'bad', 'thing'], 'negative')\n",
      "(['virginamerica', 'seriously', 'would', 'pay', '30', 'flight', 'seat', \"n't\", 'play', \"'s\", 'really', 'bad', 'thing', 'fly', 'va'], 'negative')\n",
      "(['virginamerica', 'yes', 'nearly', 'every', 'time', 'fly', 'vx', '“', 'ear', 'worm', '”', '’', 'go', 'away'], 'positive')\n",
      "(['virginamerica', 'really', 'miss', 'prime', 'opportunity', 'men', 'without', 'hats', 'parody', 'http', '//t.co/mwpg7grezp'], 'neutral')\n",
      "(['virginamerica', 'well', \"didn't…but\", '-d'], 'positive')\n",
      "(['virginamerica', 'amaze', 'arrive', 'hour', 'early', \"'re\", 'good'], 'positive')\n"
     ]
    }
   ],
   "source": [
    "print(\"The clean dataset is \\n\")\n",
    "\n",
    "for i in range(10):\n",
    "    print(clean_document[i])"
   ]
  },
  {
   "cell_type": "code",
   "execution_count": 65,
   "id": "1bdc9d10",
   "metadata": {
    "executionInfo": {
     "elapsed": 396,
     "status": "ok",
     "timestamp": 1652554602011,
     "user": {
      "displayName": "Abdelrahman Mohamed",
      "userId": "04684924364925318690"
     },
     "user_tz": -120
    },
    "id": "1bdc9d10"
   },
   "outputs": [],
   "source": [
    "categories = [category for document, category in clean_document]"
   ]
  },
  {
   "cell_type": "code",
   "execution_count": 66,
   "id": "e9c6774d",
   "metadata": {
    "colab": {
     "base_uri": "https://localhost:8080/"
    },
    "executionInfo": {
     "elapsed": 4,
     "status": "ok",
     "timestamp": 1652554604623,
     "user": {
      "displayName": "Abdelrahman Mohamed",
      "userId": "04684924364925318690"
     },
     "user_tz": -120
    },
    "id": "e9c6774d",
    "outputId": "bddccda2-97e7-47ae-f0bd-39a6d0aa4423"
   },
   "outputs": [
    {
     "data": {
      "text/plain": [
       "['neutral',\n",
       " 'positive',\n",
       " 'neutral',\n",
       " 'negative',\n",
       " 'negative',\n",
       " 'negative',\n",
       " 'positive',\n",
       " 'neutral',\n",
       " 'positive',\n",
       " 'positive']"
      ]
     },
     "execution_count": 66,
     "metadata": {},
     "output_type": "execute_result"
    }
   ],
   "source": [
    "categories[:10]"
   ]
  },
  {
   "cell_type": "code",
   "execution_count": 67,
   "id": "c69db218",
   "metadata": {
    "executionInfo": {
     "elapsed": 2,
     "status": "ok",
     "timestamp": 1652554607771,
     "user": {
      "displayName": "Abdelrahman Mohamed",
      "userId": "04684924364925318690"
     },
     "user_tz": -120
    },
    "id": "c69db218"
   },
   "outputs": [],
   "source": [
    "text_documents = [\" \".join(document) for document, category in clean_document]"
   ]
  },
  {
   "cell_type": "code",
   "execution_count": 68,
   "id": "db7e0630",
   "metadata": {
    "colab": {
     "base_uri": "https://localhost:8080/",
     "height": 36
    },
    "executionInfo": {
     "elapsed": 3,
     "status": "ok",
     "timestamp": 1652554609553,
     "user": {
      "displayName": "Abdelrahman Mohamed",
      "userId": "04684924364925318690"
     },
     "user_tz": -120
    },
    "id": "db7e0630",
    "outputId": "0d658711-9748-47aa-e306-184dab8f3c56"
   },
   "outputs": [
    {
     "name": "stdout",
     "output_type": "stream",
     "text": [
      "virginamerica dhepburn say\n",
      "virginamerica plus 've add commercial experience ... tacky\n",
      "virginamerica n't today ... must mean need take another trip\n",
      "virginamerica 's really aggressive blast obnoxious `` entertainment '' guest face amp little recourse\n",
      "virginamerica 's really big bad thing\n",
      "virginamerica seriously would pay 30 flight seat n't play 's really bad thing fly va\n",
      "virginamerica yes nearly every time fly vx “ ear worm ” ’ go away\n",
      "virginamerica really miss prime opportunity men without hats parody http //t.co/mwpg7grezp\n",
      "virginamerica well didn't…but -d\n",
      "virginamerica amaze arrive hour early 're good\n"
     ]
    }
   ],
   "source": [
    "for i in range(10):\n",
    "    print(text_documents[i])"
   ]
  },
  {
   "cell_type": "markdown",
   "id": "80b8ee8b",
   "metadata": {
    "id": "80b8ee8b"
   },
   "source": [
    "# SPLITTING THE DATASET"
   ]
  },
  {
   "cell_type": "code",
   "execution_count": 69,
   "id": "b6352d67",
   "metadata": {
    "executionInfo": {
     "elapsed": 2,
     "status": "ok",
     "timestamp": 1652554614261,
     "user": {
      "displayName": "Abdelrahman Mohamed",
      "userId": "04684924364925318690"
     },
     "user_tz": -120
    },
    "id": "b6352d67"
   },
   "outputs": [],
   "source": [
    "from sklearn.model_selection import train_test_split\n",
    "\n",
    "X_train, X_test, y_train, y_test = train_test_split(text_documents, categories,test_size=0.3,random_state=0)"
   ]
  },
  {
   "cell_type": "markdown",
   "id": "57d95e3a",
   "metadata": {
    "id": "57d95e3a"
   },
   "source": [
    "# Vectorization to get the maximum number of frequency words"
   ]
  },
  {
   "cell_type": "code",
   "execution_count": 72,
   "id": "41c42c24",
   "metadata": {
    "executionInfo": {
     "elapsed": 416,
     "status": "ok",
     "timestamp": 1652554617490,
     "user": {
      "displayName": "Abdelrahman Mohamed",
      "userId": "04684924364925318690"
     },
     "user_tz": -120
    },
    "id": "41c42c24"
   },
   "outputs": [],
   "source": [
    "from sklearn.feature_extraction.text import TfidfVectorizer"
   ]
  },
  {
   "cell_type": "code",
   "execution_count": 73,
   "id": "b49822bd",
   "metadata": {
    "executionInfo": {
     "elapsed": 403,
     "status": "ok",
     "timestamp": 1652558634253,
     "user": {
      "displayName": "Abdelrahman Mohamed",
      "userId": "04684924364925318690"
     },
     "user_tz": -120
    },
    "id": "b49822bd"
   },
   "outputs": [],
   "source": [
    "count_vect=TfidfVectorizer(max_features=30000)\n",
    "X_train_features=count_vect.fit_transform(X_train)\n",
    "X_test_features=count_vect.transform(X_test)"
   ]
  },
  {
   "cell_type": "code",
   "execution_count": 25,
   "id": "c9ad73ce",
   "metadata": {},
   "outputs": [],
   "source": [
    "import pickle\n",
    "\n",
    "with open('tfidf.pickle', 'wb') as f:\n",
    "    pickle.dump(count_vect, f)"
   ]
  },
  {
   "cell_type": "markdown",
   "id": "a510362b",
   "metadata": {
    "id": "a510362b"
   },
   "source": [
    "# Helper funcation"
   ]
  },
  {
   "cell_type": "code",
   "execution_count": 74,
   "id": "52308e34",
   "metadata": {
    "executionInfo": {
     "elapsed": 3,
     "status": "ok",
     "timestamp": 1652554624476,
     "user": {
      "displayName": "Abdelrahman Mohamed",
      "userId": "04684924364925318690"
     },
     "user_tz": -120
    },
    "id": "52308e34"
   },
   "outputs": [],
   "source": [
    "from sklearn.metrics import accuracy_score\n",
    "def eval_model(model,X_train,y_train,X_test,y_test):\n",
    "    model.fit(X_train,y_train)\n",
    "    y_pred_train = model.predict(X_train)\n",
    "    y_pred_test = model.predict(X_test)\n",
    "    acc_train = accuracy_score(y_train, y_pred_train)\n",
    "    acc_test = accuracy_score(y_test, y_pred_test)\n",
    "    print(model.__class__.__name__)\n",
    "    print('acc train:', acc_train)\n",
    "    print('acc test:', acc_test)\n",
    "    print('----------------------------')\n",
    "    \n",
    "    return(acc_train,acc_test)"
   ]
  },
  {
   "cell_type": "markdown",
   "id": "2821c53b",
   "metadata": {
    "id": "2821c53b"
   },
   "source": [
    "# USING Svm CLASSIFIER"
   ]
  },
  {
   "cell_type": "code",
   "execution_count": 75,
   "id": "54a5a1fe",
   "metadata": {
    "colab": {
     "base_uri": "https://localhost:8080/"
    },
    "executionInfo": {
     "elapsed": 26357,
     "status": "ok",
     "timestamp": 1652554654105,
     "user": {
      "displayName": "Abdelrahman Mohamed",
      "userId": "04684924364925318690"
     },
     "user_tz": -120
    },
    "id": "54a5a1fe",
    "outputId": "2f2bcaaf-fe88-473f-c367-1edcc5eebab6"
   },
   "outputs": [
    {
     "name": "stdout",
     "output_type": "stream",
     "text": [
      "SVC\n",
      "acc train: 0.9585284933645589\n",
      "acc test: 0.7789162112932605\n",
      "----------------------------\n"
     ]
    }
   ],
   "source": [
    "clf = SVC(degree=11)\n",
    "acc_tarin , acc_test = eval_model(clf,X_train_features,y_train,X_test_features,y_test)"
   ]
  },
  {
   "cell_type": "code",
   "execution_count": 28,
   "id": "oZndL6Q0A5kP",
   "metadata": {
    "colab": {
     "base_uri": "https://localhost:8080/",
     "height": 265
    },
    "executionInfo": {
     "elapsed": 5683,
     "status": "ok",
     "timestamp": 1652556331706,
     "user": {
      "displayName": "Abdelrahman Mohamed",
      "userId": "04684924364925318690"
     },
     "user_tz": -120
    },
    "id": "oZndL6Q0A5kP",
    "outputId": "78902755-5c32-445e-ed31-4bf2c9937145"
   },
   "outputs": [
    {
     "data": {
      "image/png": "[encoded data removed]",
      "text/plain": [
       "<Figure size 432x288 with 2 Axes>"
      ]
     },
     "metadata": {
      "needs_background": "light"
     },
     "output_type": "display_data"
    }
   ],
   "source": [
    "import seaborn as sns\n",
    "import matplotlib.pyplot as plt\n",
    "y_pred=clf.predict(X_test_features)\n",
    "cm=confusion_matrix(y_test,y_pred)\n",
    "sns.heatmap(cm,annot=True)\n",
    "plt.show()\n"
   ]
  },
  {
   "cell_type": "markdown",
   "id": "5161779b",
   "metadata": {
    "id": "5161779b"
   },
   "source": [
    "# USING RANDOM FOREST CLASSIFIER "
   ]
  },
  {
   "cell_type": "code",
   "execution_count": 76,
   "id": "25c5360f",
   "metadata": {
    "colab": {
     "base_uri": "https://localhost:8080/"
    },
    "executionInfo": {
     "elapsed": 5910,
     "status": "ok",
     "timestamp": 1652555118706,
     "user": {
      "displayName": "Abdelrahman Mohamed",
      "userId": "04684924364925318690"
     },
     "user_tz": -120
    },
    "id": "25c5360f",
    "outputId": "3e7d65b6-274e-4321-d282-604e0491e3da"
   },
   "outputs": [
    {
     "name": "stdout",
     "output_type": "stream",
     "text": [
      "RandomForestClassifier\n",
      "acc train: 0.9959992193598751\n",
      "acc test: 0.7536429872495446\n",
      "----------------------------\n"
     ]
    }
   ],
   "source": [
    "clf1=RandomForestClassifier(n_estimators=100, n_jobs=-1)\n",
    "acc_tarin1,acc_test1=eval_model(clf1,X_train_features,y_train,X_test_features,y_test)\n",
    " "
   ]
  },
  {
   "cell_type": "code",
   "execution_count": 30,
   "id": "pmzWlyEDCL0w",
   "metadata": {
    "colab": {
     "base_uri": "https://localhost:8080/",
     "height": 265
    },
    "executionInfo": {
     "elapsed": 1460,
     "status": "ok",
     "timestamp": 1652556366021,
     "user": {
      "displayName": "Abdelrahman Mohamed",
      "userId": "04684924364925318690"
     },
     "user_tz": -120
    },
    "id": "pmzWlyEDCL0w",
    "outputId": "e4f19362-246b-4aa9-e98e-7c662a1cd3ff"
   },
   "outputs": [
    {
     "data": {
      "image/png": "[encoded data removed]",
      "text/plain": [
       "<Figure size 432x288 with 2 Axes>"
      ]
     },
     "metadata": {
      "needs_background": "light"
     },
     "output_type": "display_data"
    }
   ],
   "source": [
    "import seaborn as sns\n",
    "import matplotlib.pyplot as plt\n",
    "y_pred1=clf1.predict(X_test_features)\n",
    "cm=confusion_matrix(y_test,y_pred1)\n",
    "sns.heatmap(cm,annot=True)\n",
    "plt.show()\n"
   ]
  },
  {
   "cell_type": "markdown",
   "id": "8tc2Ts0uSlxx",
   "metadata": {
    "id": "8tc2Ts0uSlxx"
   },
   "source": [
    "# USING KNeighborsClassifier "
   ]
  },
  {
   "cell_type": "code",
   "execution_count": 77,
   "id": "09fdb9bb",
   "metadata": {
    "colab": {
     "base_uri": "https://localhost:8080/"
    },
    "executionInfo": {
     "elapsed": 6014,
     "status": "ok",
     "timestamp": 1652555127943,
     "user": {
      "displayName": "Abdelrahman Mohamed",
      "userId": "04684924364925318690"
     },
     "user_tz": -120
    },
    "id": "09fdb9bb",
    "outputId": "402190f5-0c8f-4d5e-dea9-522ecb9291ce"
   },
   "outputs": [
    {
     "name": "stdout",
     "output_type": "stream",
     "text": [
      "KNeighborsClassifier\n",
      "acc train: 0.7379000780640125\n",
      "acc test: 0.7454462659380692\n",
      "----------------------------\n"
     ]
    }
   ],
   "source": [
    "clf2=KNeighborsClassifier(n_neighbors=57)\n",
    "acc_tarin2,acc_test2=eval_model(clf2,X_train_features,y_train,X_test_features,y_test)"
   ]
  },
  {
   "cell_type": "code",
   "execution_count": 32,
   "id": "rs3YZXreCS1l",
   "metadata": {
    "colab": {
     "base_uri": "https://localhost:8080/",
     "height": 265
    },
    "executionInfo": {
     "elapsed": 2548,
     "status": "ok",
     "timestamp": 1652556407593,
     "user": {
      "displayName": "Abdelrahman Mohamed",
      "userId": "04684924364925318690"
     },
     "user_tz": -120
    },
    "id": "rs3YZXreCS1l",
    "outputId": "fa89dc89-4641-48d9-99b6-3881cab9aea5"
   },
   "outputs": [
    {
     "data": {
      "image/png": "[encoded data removed]",
      "text/plain": [
       "<Figure size 432x288 with 2 Axes>"
      ]
     },
     "metadata": {
      "needs_background": "light"
     },
     "output_type": "display_data"
    }
   ],
   "source": [
    "y_pred2=clf2.predict(X_test_features)\n",
    "cm=confusion_matrix(y_test,y_pred2)\n",
    "sns.heatmap(cm,annot=True)\n",
    "plt.show()\n"
   ]
  },
  {
   "cell_type": "markdown",
   "id": "szgQLsp7S25B",
   "metadata": {
    "id": "szgQLsp7S25B"
   },
   "source": [
    "# USING BernoulliNB Classifier"
   ]
  },
  {
   "cell_type": "code",
   "execution_count": 33,
   "id": "VJzqikmvKlD8",
   "metadata": {
    "colab": {
     "base_uri": "https://localhost:8080/"
    },
    "executionInfo": {
     "elapsed": 384,
     "status": "ok",
     "timestamp": 1652555132127,
     "user": {
      "displayName": "Abdelrahman Mohamed",
      "userId": "04684924364925318690"
     },
     "user_tz": -120
    },
    "id": "VJzqikmvKlD8",
    "outputId": "1748a346-649b-445d-d8b0-35a97f1450b4"
   },
   "outputs": [
    {
     "name": "stdout",
     "output_type": "stream",
     "text": [
      "BernoulliNB\n",
      "acc train: 0.8033762685402029\n",
      "acc test: 0.7607012750455373\n",
      "----------------------------\n"
     ]
    }
   ],
   "source": [
    "clf3=BernoulliNB()\n",
    "acc_tarin3,acc_test3=eval_model(clf3,X_train_features,y_train,X_test_features,y_test)\n"
   ]
  },
  {
   "cell_type": "code",
   "execution_count": 34,
   "id": "xkRtsdJKCeK_",
   "metadata": {
    "colab": {
     "base_uri": "https://localhost:8080/",
     "height": 265
    },
    "executionInfo": {
     "elapsed": 473,
     "status": "ok",
     "timestamp": 1652556475122,
     "user": {
      "displayName": "Abdelrahman Mohamed",
      "userId": "04684924364925318690"
     },
     "user_tz": -120
    },
    "id": "xkRtsdJKCeK_",
    "outputId": "0a7a30dc-e811-40a0-d31a-353c61563c6e"
   },
   "outputs": [
    {
     "data": {
      "image/png": "[encoded data removed]",
      "text/plain": [
       "<Figure size 432x288 with 2 Axes>"
      ]
     },
     "metadata": {
      "needs_background": "light"
     },
     "output_type": "display_data"
    }
   ],
   "source": [
    "y_pred3=clf3.predict(X_test_features)\n",
    "cm=confusion_matrix(y_test,y_pred3)\n",
    "sns.heatmap(cm,annot=True)\n",
    "plt.show()\n"
   ]
  },
  {
   "cell_type": "markdown",
   "id": "D7x7EbSbTD-h",
   "metadata": {
    "id": "D7x7EbSbTD-h"
   },
   "source": [
    "# USING LogisticRegression"
   ]
  },
  {
   "cell_type": "code",
   "execution_count": 35,
   "id": "gh8ZQKKmOSGV",
   "metadata": {
    "colab": {
     "base_uri": "https://localhost:8080/"
    },
    "executionInfo": {
     "elapsed": 934,
     "status": "ok",
     "timestamp": 1652555135726,
     "user": {
      "displayName": "Abdelrahman Mohamed",
      "userId": "04684924364925318690"
     },
     "user_tz": -120
    },
    "id": "gh8ZQKKmOSGV",
    "outputId": "20c20ed5-b6a7-4456-ae92-de4fc035ed9e"
   },
   "outputs": [
    {
     "name": "stdout",
     "output_type": "stream",
     "text": [
      "LogisticRegression\n",
      "acc train: 0.8291373926619828\n",
      "acc test: 0.7841530054644809\n",
      "----------------------------\n"
     ]
    }
   ],
   "source": [
    "clf4=LogisticRegression(max_iter=100,random_state=0)\n",
    "acc_tarin4,acc_test4=eval_model(clf4,X_train_features,y_train,X_test_features,y_test)"
   ]
  },
  {
   "cell_type": "code",
   "execution_count": 36,
   "id": "gmQpBGTzCtca",
   "metadata": {
    "colab": {
     "base_uri": "https://localhost:8080/",
     "height": 265
    },
    "executionInfo": {
     "elapsed": 457,
     "status": "ok",
     "timestamp": 1652556504575,
     "user": {
      "displayName": "Abdelrahman Mohamed",
      "userId": "04684924364925318690"
     },
     "user_tz": -120
    },
    "id": "gmQpBGTzCtca",
    "outputId": "84b74380-06d0-4c70-dc44-bb1208dcc1b2"
   },
   "outputs": [
    {
     "data": {
      "image/png": "[encoded data removed]",
      "text/plain": [
       "<Figure size 432x288 with 2 Axes>"
      ]
     },
     "metadata": {
      "needs_background": "light"
     },
     "output_type": "display_data"
    }
   ],
   "source": [
    "y_pred4=clf4.predict(X_test_features)\n",
    "cm=confusion_matrix(y_test,y_pred4)\n",
    "sns.heatmap(cm,annot=True)\n",
    "plt.show()\n"
   ]
  },
  {
   "cell_type": "markdown",
   "id": "5ufuyqRmTNJx",
   "metadata": {
    "id": "5ufuyqRmTNJx"
   },
   "source": [
    "# USING MultinomialNB Classifier"
   ]
  },
  {
   "cell_type": "code",
   "execution_count": 37,
   "id": "sIpNEtJuRvLU",
   "metadata": {
    "colab": {
     "base_uri": "https://localhost:8080/"
    },
    "executionInfo": {
     "elapsed": 525,
     "status": "ok",
     "timestamp": 1652555139279,
     "user": {
      "displayName": "Abdelrahman Mohamed",
      "userId": "04684924364925318690"
     },
     "user_tz": -120
    },
    "id": "sIpNEtJuRvLU",
    "outputId": "fd150f2c-f4cb-4460-8732-e4ca5c5a1c4e"
   },
   "outputs": [
    {
     "name": "stdout",
     "output_type": "stream",
     "text": [
      "MultinomialNB\n",
      "acc train: 0.773224043715847\n",
      "acc test: 0.75591985428051\n",
      "----------------------------\n"
     ]
    }
   ],
   "source": [
    "clf5=MultinomialNB()\n",
    "acc_tarin5,acc_test5=eval_model(clf5,X_train_features,y_train,X_test_features,y_test)"
   ]
  },
  {
   "cell_type": "code",
   "execution_count": 38,
   "id": "ZeX8blnRCz3v",
   "metadata": {
    "colab": {
     "base_uri": "https://localhost:8080/",
     "height": 265
    },
    "executionInfo": {
     "elapsed": 511,
     "status": "ok",
     "timestamp": 1652556570833,
     "user": {
      "displayName": "Abdelrahman Mohamed",
      "userId": "04684924364925318690"
     },
     "user_tz": -120
    },
    "id": "ZeX8blnRCz3v",
    "outputId": "22dccdbe-b72c-426d-a639-91aacce41a2e"
   },
   "outputs": [
    {
     "data": {
      "image/png": "[encoded data removed]",
      "text/plain": [
       "<Figure size 432x288 with 2 Axes>"
      ]
     },
     "metadata": {
      "needs_background": "light"
     },
     "output_type": "display_data"
    }
   ],
   "source": [
    "y_pred5=clf5.predict(X_test_features)\n",
    "cm=confusion_matrix(y_test,y_pred5)\n",
    "sns.heatmap(cm,annot=True)\n",
    "plt.show()\n"
   ]
  },
  {
   "cell_type": "markdown",
   "id": "K18P0XyQDXss",
   "metadata": {
    "id": "K18P0XyQDXss"
   },
   "source": [
    "# Making Voting to five Models"
   ]
  },
  {
   "cell_type": "code",
   "execution_count": 39,
   "id": "LMPIZXEp94RE",
   "metadata": {
    "executionInfo": {
     "elapsed": 1934,
     "status": "ok",
     "timestamp": 1652555786828,
     "user": {
      "displayName": "Abdelrahman Mohamed",
      "userId": "04684924364925318690"
     },
     "user_tz": -120
    },
    "id": "LMPIZXEp94RE"
   },
   "outputs": [],
   "source": [
    "estimators = [\n",
    "    ('Svm',clf),\n",
    "    ('RANDOM FOREST', clf1),\n",
    "    ('KNN', clf2),\n",
    "    ('BernoulliNB', clf3),\n",
    "    ('LogisticRegression',clf4),\n",
    "    ('MultinomialNB',clf5)\n",
    "]\n",
    "\n",
    "voting_clf = VotingClassifier(estimators)"
   ]
  },
  {
   "cell_type": "code",
   "execution_count": 40,
   "id": "Tc3NO9pb-aqn",
   "metadata": {
    "colab": {
     "base_uri": "https://localhost:8080/"
    },
    "executionInfo": {
     "elapsed": 50248,
     "status": "ok",
     "timestamp": 1652555840584,
     "user": {
      "displayName": "Abdelrahman Mohamed",
      "userId": "04684924364925318690"
     },
     "user_tz": -120
    },
    "id": "Tc3NO9pb-aqn",
    "outputId": "23ad67ef-f648-488b-8cca-5670a06db20f"
   },
   "outputs": [
    {
     "name": "stdout",
     "output_type": "stream",
     "text": [
      "SVC\n",
      "acc train: 0.927400468384075\n",
      "acc test: 0.7786885245901639\n",
      "----------------------------\n",
      "RandomForestClassifier\n",
      "acc train: 0.9917056986729118\n",
      "acc test: 0.7547814207650273\n",
      "----------------------------\n",
      "KNeighborsClassifier\n",
      "acc train: 0.750975800156128\n",
      "acc test: 0.7461293260473588\n",
      "----------------------------\n",
      "BernoulliNB\n",
      "acc train: 0.8033762685402029\n",
      "acc test: 0.7607012750455373\n",
      "----------------------------\n",
      "LogisticRegression\n",
      "acc train: 0.8291373926619828\n",
      "acc test: 0.7841530054644809\n",
      "----------------------------\n",
      "MultinomialNB\n",
      "acc train: 0.773224043715847\n",
      "acc test: 0.75591985428051\n",
      "----------------------------\n",
      "VotingClassifier\n",
      "acc train: 0.8564597970335676\n",
      "acc test: 0.7729963570127505\n",
      "----------------------------\n"
     ]
    }
   ],
   "source": [
    "all_estimators = estimators + [('voting', voting_clf)]\n",
    "\n",
    "final_results = {\n",
    "    'model': [],\n",
    "    'acc train': [],\n",
    "    'acc test': []\n",
    "}\n",
    "\n",
    "for (name, clf) in all_estimators:\n",
    "    acc_train, acc_test = eval_model(\n",
    "        clf, X_train_features,y_train,X_test_features,y_test\n",
    "    )\n",
    "    final_results['model'].append(name)\n",
    "    final_results['acc train'].append(acc_train)\n",
    "    final_results['acc test'].append(acc_test)"
   ]
  },
  {
   "cell_type": "code",
   "execution_count": 41,
   "id": "QB7fMl48_cfA",
   "metadata": {
    "colab": {
     "base_uri": "https://localhost:8080/",
     "height": 559
    },
    "executionInfo": {
     "elapsed": 510,
     "status": "ok",
     "timestamp": 1652555850908,
     "user": {
      "displayName": "Abdelrahman Mohamed",
      "userId": "04684924364925318690"
     },
     "user_tz": -120
    },
    "id": "QB7fMl48_cfA",
    "outputId": "6e33a839-b672-4599-de2c-493ebe730c40"
   },
   "outputs": [
    {
     "data": {
      "image/png": "[encoded data removed]",
      "text/plain": [
       "<Figure size 1296x576 with 1 Axes>"
      ]
     },
     "metadata": {
      "needs_background": "light"
     },
     "output_type": "display_data"
    }
   ],
   "source": [
    "import matplotlib.pyplot as plt\n",
    "%matplotlib inline\n",
    "\n",
    "final_results=pd.DataFrame(final_results)\n",
    "final_results.plot.bar(x='model',y=['acc train','acc test'],color=['red','green'],\n",
    "                       figsize=(18,8),width=0.5)\n",
    "plt.xticks(rotation=360)\n",
    "plt.title('Final accurse for each model to make the decision\\n',fontsize=25)\n",
    "plt.xlabel('The Models',fontsize=20)\n",
    "plt.ylabel('Accuracy',fontsize=20)\n",
    "plt.legend(loc='best')\n",
    "plt.grid(axis='y')\n",
    "plt.show()"
   ]
  },
  {
   "cell_type": "code",
   "execution_count": 42,
   "id": "51309f08",
   "metadata": {},
   "outputs": [
    {
     "data": {
      "text/html": [
       "<div>\n",
       "<style scoped>\n",
       "    .dataframe tbody tr th:only-of-type {\n",
       "        vertical-align: middle;\n",
       "    }\n",
       "\n",
       "    .dataframe tbody tr th {\n",
       "        vertical-align: top;\n",
       "    }\n",
       "\n",
       "    .dataframe thead th {\n",
       "        text-align: right;\n",
       "    }\n",
       "</style>\n",
       "<table border=\"1\" class=\"dataframe\">\n",
       "  <thead>\n",
       "    <tr style=\"text-align: right;\">\n",
       "      <th></th>\n",
       "      <th>model</th>\n",
       "      <th>acc train</th>\n",
       "      <th>acc test</th>\n",
       "    </tr>\n",
       "  </thead>\n",
       "  <tbody>\n",
       "    <tr>\n",
       "      <th>0</th>\n",
       "      <td>LogisticRegression</td>\n",
       "      <td>0.829137</td>\n",
       "      <td>0.784153</td>\n",
       "    </tr>\n",
       "    <tr>\n",
       "      <th>1</th>\n",
       "      <td>Svm</td>\n",
       "      <td>0.927400</td>\n",
       "      <td>0.778689</td>\n",
       "    </tr>\n",
       "    <tr>\n",
       "      <th>2</th>\n",
       "      <td>voting</td>\n",
       "      <td>0.856460</td>\n",
       "      <td>0.772996</td>\n",
       "    </tr>\n",
       "    <tr>\n",
       "      <th>3</th>\n",
       "      <td>BernoulliNB</td>\n",
       "      <td>0.803376</td>\n",
       "      <td>0.760701</td>\n",
       "    </tr>\n",
       "    <tr>\n",
       "      <th>4</th>\n",
       "      <td>MultinomialNB</td>\n",
       "      <td>0.773224</td>\n",
       "      <td>0.755920</td>\n",
       "    </tr>\n",
       "    <tr>\n",
       "      <th>5</th>\n",
       "      <td>RANDOM FOREST</td>\n",
       "      <td>0.991706</td>\n",
       "      <td>0.754781</td>\n",
       "    </tr>\n",
       "    <tr>\n",
       "      <th>6</th>\n",
       "      <td>KNN</td>\n",
       "      <td>0.750976</td>\n",
       "      <td>0.746129</td>\n",
       "    </tr>\n",
       "  </tbody>\n",
       "</table>\n",
       "</div>"
      ],
      "text/plain": [
       "                model  acc train  acc test\n",
       "0  LogisticRegression   0.829137  0.784153\n",
       "1                 Svm   0.927400  0.778689\n",
       "2              voting   0.856460  0.772996\n",
       "3         BernoulliNB   0.803376  0.760701\n",
       "4       MultinomialNB   0.773224  0.755920\n",
       "5       RANDOM FOREST   0.991706  0.754781\n",
       "6                 KNN   0.750976  0.746129"
      ]
     },
     "execution_count": 42,
     "metadata": {},
     "output_type": "execute_result"
    }
   ],
   "source": [
    "final_results.sort_values(by='acc test', ascending=False, ignore_index=True, inplace=True)\n",
    "final_results"
   ]
  },
  {
   "cell_type": "markdown",
   "id": "45e1a418",
   "metadata": {},
   "source": [
    "# Final Test"
   ]
  },
  {
   "cell_type": "code",
   "execution_count": 43,
   "id": "718b6611",
   "metadata": {},
   "outputs": [
    {
     "name": "stdout",
     "output_type": "stream",
     "text": [
      "the Final Accurse: 78.0 %\n"
     ]
    }
   ],
   "source": [
    "final_model=LogisticRegression(max_iter=100,random_state=0)\n",
    "final_model.fit(X_train_features,y_train)\n",
    "final_y_pred=final_model.predict(X_test_features)\n",
    "final_acc_test=accuracy_score(y_test,final_y_pred)\n",
    "print(\"the Final Accurse:\",round(final_acc_test,2)*100,\"%\")"
   ]
  },
  {
   "cell_type": "code",
   "execution_count": 44,
   "id": "e5718ea2",
   "metadata": {},
   "outputs": [
    {
     "data": {
      "image/png": "[encoded data removed]",
      "text/plain": [
       "<Figure size 640x480 with 1 Axes>"
      ]
     },
     "metadata": {},
     "output_type": "display_data"
    }
   ],
   "source": [
    "plt.style.use('classic')\n",
    "plt.pie([final_acc_test,1-final_acc_test],labels=('Classification True','Classification False')\n",
    "        ,explode=[0.1,0.1],autopct=\"%1.1f%%\",shadow=True,colors=['green','red'])\n",
    "plt.axis('equal')\n",
    "plt.title(' final Classification Accuracy\\n',fontsize=35)\n",
    "plt.show()"
   ]
  },
  {
   "cell_type": "markdown",
   "id": "zEgXFtVsDOTD",
   "metadata": {
    "id": "zEgXFtVsDOTD"
   },
   "source": [
    "# Save Model"
   ]
  },
  {
   "cell_type": "code",
   "execution_count": 45,
   "id": "ZUN2bY-xPmWb",
   "metadata": {
    "executionInfo": {
     "elapsed": 1674,
     "status": "ok",
     "timestamp": 1652556723114,
     "user": {
      "displayName": "Abdelrahman Mohamed",
      "userId": "04684924364925318690"
     },
     "user_tz": -120
    },
    "id": "ZUN2bY-xPmWb"
   },
   "outputs": [],
   "source": [
    "import pickle\n",
    "with open('saved-model.pickle', 'wb') as f:\n",
    "    pickle.dump(final_model, f)"
   ]
  },
  {
   "cell_type": "markdown",
   "id": "1a4qx_SIDwOG",
   "metadata": {
    "id": "1a4qx_SIDwOG"
   },
   "source": [
    "# Check The Model After Load"
   ]
  },
  {
   "cell_type": "code",
   "execution_count": 46,
   "id": "NjxaA_Jl9pAr",
   "metadata": {
    "executionInfo": {
     "elapsed": 945,
     "status": "ok",
     "timestamp": 1652556845383,
     "user": {
      "displayName": "Abdelrahman Mohamed",
      "userId": "04684924364925318690"
     },
     "user_tz": -120
    },
    "id": "NjxaA_Jl9pAr"
   },
   "outputs": [],
   "source": [
    "import pickle\n",
    "\n",
    "with open('saved-model.pickle', 'rb') as f:\n",
    "    my_model = pickle.load(f)\n",
    "    \n",
    "with open('tfidf.pickle', 'rb') as f:\n",
    "    my_feature = pickle.load(f)"
   ]
  },
  {
   "cell_type": "code",
   "execution_count": 57,
   "id": "5Zb7d_w4EIji",
   "metadata": {
    "colab": {
     "base_uri": "https://localhost:8080/"
    },
    "executionInfo": {
     "elapsed": 392,
     "status": "ok",
     "timestamp": 1652559475335,
     "user": {
      "displayName": "Abdelrahman Mohamed",
      "userId": "04684924364925318690"
     },
     "user_tz": -120
    },
    "id": "5Zb7d_w4EIji",
    "outputId": "5d9db6ed-15be-412e-9178-17e051093c1e"
   },
   "outputs": [
    {
     "name": "stdout",
     "output_type": "stream",
     "text": [
      "usairways try change flight airline travel advisory hold 45 min help\n",
      "-----------------------------------------------------------------------\n",
      "the actual Sentiment Analysis:===>> negative\n",
      "-----------------------------------------------------------------------\n",
      "tf-idf values:\n",
      "  (0, 31)\t0.3903623381365458\n",
      "  (0, 57)\t0.4707697439563525\n",
      "  (0, 65)\t0.2819026850286404\n",
      "  (0, 206)\t0.29500263846528896\n",
      "  (0, 428)\t0.1513820651529059\n",
      "  (0, 512)\t0.2413844986312262\n",
      "  (0, 518)\t0.26456932648822234\n",
      "  (0, 676)\t0.31593028234332565\n",
      "  (0, 1059)\t0.31593028234332565\n",
      "  (0, 1070)\t0.28356560278694437\n",
      "  (0, 1102)\t0.16817889456519827\n",
      "-----------------------------------------------------------------------\n",
      "my model predict:===>> negative\n",
      "-----------------------------------------------------------------------\n"
     ]
    }
   ],
   "source": [
    "randnum=np.random.randint(1,1000)\n",
    "sentence=X_test[randnum]\n",
    "print(sentence)\n",
    "sentence_features=X_test_features[randnum]\n",
    "print(\"-----------------------------------------------------------------------\")\n",
    "print(\"the actual Sentiment Analysis:===>>\",y_test[randnum])\n",
    "print(\"-----------------------------------------------------------------------\")\n",
    "# in matrix form\n",
    "print('tf-idf values:')\n",
    "print(sentence_features)\n",
    "print(\"-----------------------------------------------------------------------\")\n",
    "print('my model predict:===>>',final_y_pred[randnum])\n",
    "print(\"-----------------------------------------------------------------------\")"
   ]
  },
  {
   "cell_type": "markdown",
   "id": "15a176d4",
   "metadata": {
    "id": "IBV4z3EqF46F"
   },
   "source": [
    "# ♥♥ End of Code ♥♥"
   ]
  }
 ],
 "metadata": {
  "colab": {
   "collapsed_sections": [],
   "name": "Sentiment Analysis .ipynb",
   "provenance": []
  },
  "kernelspec": {
   "display_name": "Python 3 (ipykernel)",
   "language": "python",
   "name": "python3"
  },
  "language_info": {
   "codemirror_mode": {
    "name": "ipython",
    "version": 3
   },
   "file_extension": ".py",
   "mimetype": "text/x-python",
   "name": "python",
   "nbconvert_exporter": "python",
   "pygments_lexer": "ipython3",
   "version": "3.9.12"
  }
 },
 "nbformat": 4,
 "nbformat_minor": 5
}
